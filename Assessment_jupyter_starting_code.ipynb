{
 "cells": [
  {
   "cell_type": "markdown",
   "id": "2cf5b868-b5e5-43e8-9e7a-63d040006b6a",
   "metadata": {},
   "source": [
    "Note that this file is given for you to explore the dataset only. The actual submission will be as a shiny dashboard (see Learn for details).\n",
    "\n",
    "Since there are no interacive elements here in Jupyter, you will need to 'pretend' you have sliders, dropdowns ans such.\n",
    "\n",
    "```\n",
    "# here you will use\n",
    "selected_year = 2016\n",
    "\n",
    "# in shiny this would be:\n",
    "selected_year = input.year_slider()\n",
    "```\n",
    "\n",
    "Also you will not need the reactivity components, like decorators or reactive variables so\n",
    "\n",
    "```\n",
    "# here you will use\n",
    "def table_all_data():\n",
    "\n",
    "# in shiny this would be:\n",
    "@output\n",
    "@render.plot\n",
    "async def table_all_data():\n",
    "    global deaths_df\n",
    "    loaded_df = deaths_df.get()\n",
    "```\n"
   ]
  },
  {
   "cell_type": "code",
   "execution_count": 11,
   "id": "12782360-712f-40a7-a1c5-cc09bd87e879",
   "metadata": {},
   "outputs": [],
   "source": [
    "# starting code:\n",
    "\n",
    "import pandas as pd\n",
    "import matplotlib"
   ]
  },
  {
   "cell_type": "code",
   "execution_count": 12,
   "id": "89e10c84-17d2-4001-9703-9315c17d0f44",
   "metadata": {},
   "outputs": [],
   "source": [
    "loaded_df = pd.read_csv('./data/OCED_simplified.csv')"
   ]
  },
  {
   "cell_type": "code",
   "execution_count": 13,
   "id": "4795ce4e-20a8-43fd-9039-b3681131ea3b",
   "metadata": {},
   "outputs": [
    {
     "data": {
      "text/html": [
       "<div>\n",
       "<style scoped>\n",
       "    .dataframe tbody tr th:only-of-type {\n",
       "        vertical-align: middle;\n",
       "    }\n",
       "\n",
       "    .dataframe tbody tr th {\n",
       "        vertical-align: top;\n",
       "    }\n",
       "\n",
       "    .dataframe thead th {\n",
       "        text-align: right;\n",
       "    }\n",
       "</style>\n",
       "<table border=\"1\" class=\"dataframe\">\n",
       "  <thead>\n",
       "    <tr style=\"text-align: right;\">\n",
       "      <th></th>\n",
       "      <th>country</th>\n",
       "      <th>Immunisation: Hepatitis B_% of children immunised</th>\n",
       "    </tr>\n",
       "  </thead>\n",
       "  <tbody>\n",
       "    <tr>\n",
       "      <th>95</th>\n",
       "      <td>Ireland</td>\n",
       "      <td>95.0</td>\n",
       "    </tr>\n",
       "    <tr>\n",
       "      <th>312</th>\n",
       "      <td>India</td>\n",
       "      <td>88.2</td>\n",
       "    </tr>\n",
       "  </tbody>\n",
       "</table>\n",
       "</div>"
      ],
      "text/plain": [
       "     country  Immunisation: Hepatitis B_% of children immunised\n",
       "95   Ireland                                               95.0\n",
       "312    India                                               88.2"
      ]
     },
     "execution_count": 13,
     "metadata": {},
     "output_type": "execute_result"
    }
   ],
   "source": [
    "def table_all_data():\n",
    "        # notice you do not need first two lines (the reactive stuff) in Jupyter\n",
    "        \n",
    "        selected_year = 2016\n",
    "        # in shiny this would be:\n",
    "        # selected_year = input.year_slider()\n",
    "    \n",
    "        demo_countries = ['Ireland', 'India']\n",
    "        demo_columns = ['country','Immunisation: Hepatitis B_% of children immunised']\n",
    "        filtered_data = loaded_df[ (loaded_df['year'] == selected_year) & (loaded_df['country'].isin(demo_countries))].reindex()\n",
    "        return filtered_data[demo_columns]\n",
    "\n",
    "table_all_data()"
   ]
  },
  {
   "cell_type": "code",
   "execution_count": null,
   "id": "df16c3d8-86e0-4456-b800-3eba73a7e18e",
   "metadata": {},
   "outputs": [],
   "source": []
  },
  {
   "cell_type": "code",
   "execution_count": null,
   "id": "1088f3e1-b53f-4c89-acbb-bdf84a233143",
   "metadata": {},
   "outputs": [],
   "source": []
  }
 ],
 "metadata": {
  "kernelspec": {
   "display_name": "Python 3 (ipykernel)",
   "language": "python",
   "name": "python3"
  },
  "language_info": {
   "codemirror_mode": {
    "name": "ipython",
    "version": 3
   },
   "file_extension": ".py",
   "mimetype": "text/x-python",
   "name": "python",
   "nbconvert_exporter": "python",
   "pygments_lexer": "ipython3",
   "version": "3.11.9"
  }
 },
 "nbformat": 4,
 "nbformat_minor": 5
}
