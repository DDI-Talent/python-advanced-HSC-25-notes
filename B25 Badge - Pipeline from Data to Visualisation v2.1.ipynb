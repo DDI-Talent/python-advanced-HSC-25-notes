{
 "cells": [
  {
   "cell_type": "markdown",
   "id": "1ce31f6f",
   "metadata": {},
   "source": [
    "# B26 Badge: Pipeline from Data to Visualisation\n",
    "\n",
    "The pipeline from raw data to a compelling visualisation involves a series of interconnected steps, each transforming the data into a more refined and insightful form.\n",
    "\n",
    "There are many visualisation libraries, but in this course we will look at Plotly, and some examples of Matplotlib and Plotnine.\n",
    "\n",
    "### - In this notebook:\n",
    "\n",
    "- [Acquiring data and plotting it](#plotly)\n",
    "- [Transforming real data and visualising it](#real-data)\n",
    "- [Mini-diary ⭐️⭐️⭐️❓](#mini-diary)\n",
    "- [More examples of plotting libraries](#more-examples)"
   ]
  },
  {
   "cell_type": "markdown",
   "id": "b1a990ca",
   "metadata": {},
   "source": [
    "<a id=\"plotly\"></a>\n",
    "## Plotly\n",
    "\n",
    "Plotly is an open source Python graphing library for making quality visualisations. \n",
    "\n",
    "Plotly Documentation: <a href=\"https://plotly.com/python/\">https://plotly.com/python/</a>"
   ]
  },
  {
   "cell_type": "code",
   "execution_count": null,
   "id": "28880f81",
   "metadata": {},
   "outputs": [],
   "source": [
    "import plotly.graph_objects as go\n",
    "import plotly.io as pio\n",
    "import pandas as pd\n",
    "import numpy as np"
   ]
  },
  {
   "cell_type": "markdown",
   "id": "84d53ce0",
   "metadata": {},
   "source": [
    "First, let's acquire the data by using Pandas to read a csv."
   ]
  },
  {
   "cell_type": "code",
   "execution_count": null,
   "id": "bd0acc55",
   "metadata": {},
   "outputs": [],
   "source": [
    "patients_df = pd.read_csv('./data/patients.csv')\n",
    "patients_df"
   ]
  },
  {
   "cell_type": "markdown",
   "id": "b2d9f5af",
   "metadata": {},
   "source": [
    "### Plotly Bar Chart\n",
    "\n",
    "We'll create a simple bar chart using Plotly's Graph Objects (go)."
   ]
  },
  {
   "cell_type": "code",
   "execution_count": 29,
   "id": "e326e975",
   "metadata": {},
   "outputs": [
    {
     "data": {
      "application/vnd.plotly.v1+json": {
       "config": {
        "plotlyServerURL": "https://plot.ly"
       },
       "data": [
        {
         "type": "bar",
         "x": [
          "Flu",
          "Heart Disease",
          "Broken Arm",
          "Arthritis",
          "Migraine",
          "Diabetes",
          "Sprain",
          "Fatigue"
         ],
         "y": [
          2,
          7,
          1,
          5,
          3,
          6,
          2,
          8
         ]
        }
       ],
       "layout": {
        "template": {
         "data": {
          "bar": [
           {
            "error_x": {
             "color": "#2a3f5f"
            },
            "error_y": {
             "color": "#2a3f5f"
            },
            "marker": {
             "line": {
              "color": "#E5ECF6",
              "width": 0.5
             },
             "pattern": {
              "fillmode": "overlay",
              "size": 10,
              "solidity": 0.2
             }
            },
            "type": "bar"
           }
          ],
          "barpolar": [
           {
            "marker": {
             "line": {
              "color": "#E5ECF6",
              "width": 0.5
             },
             "pattern": {
              "fillmode": "overlay",
              "size": 10,
              "solidity": 0.2
             }
            },
            "type": "barpolar"
           }
          ],
          "carpet": [
           {
            "aaxis": {
             "endlinecolor": "#2a3f5f",
             "gridcolor": "white",
             "linecolor": "white",
             "minorgridcolor": "white",
             "startlinecolor": "#2a3f5f"
            },
            "baxis": {
             "endlinecolor": "#2a3f5f",
             "gridcolor": "white",
             "linecolor": "white",
             "minorgridcolor": "white",
             "startlinecolor": "#2a3f5f"
            },
            "type": "carpet"
           }
          ],
          "choropleth": [
           {
            "colorbar": {
             "outlinewidth": 0,
             "ticks": ""
            },
            "type": "choropleth"
           }
          ],
          "contour": [
           {
            "colorbar": {
             "outlinewidth": 0,
             "ticks": ""
            },
            "colorscale": [
             [
              0,
              "#0d0887"
             ],
             [
              0.1111111111111111,
              "#46039f"
             ],
             [
              0.2222222222222222,
              "#7201a8"
             ],
             [
              0.3333333333333333,
              "#9c179e"
             ],
             [
              0.4444444444444444,
              "#bd3786"
             ],
             [
              0.5555555555555556,
              "#d8576b"
             ],
             [
              0.6666666666666666,
              "#ed7953"
             ],
             [
              0.7777777777777778,
              "#fb9f3a"
             ],
             [
              0.8888888888888888,
              "#fdca26"
             ],
             [
              1,
              "#f0f921"
             ]
            ],
            "type": "contour"
           }
          ],
          "contourcarpet": [
           {
            "colorbar": {
             "outlinewidth": 0,
             "ticks": ""
            },
            "type": "contourcarpet"
           }
          ],
          "heatmap": [
           {
            "colorbar": {
             "outlinewidth": 0,
             "ticks": ""
            },
            "colorscale": [
             [
              0,
              "#0d0887"
             ],
             [
              0.1111111111111111,
              "#46039f"
             ],
             [
              0.2222222222222222,
              "#7201a8"
             ],
             [
              0.3333333333333333,
              "#9c179e"
             ],
             [
              0.4444444444444444,
              "#bd3786"
             ],
             [
              0.5555555555555556,
              "#d8576b"
             ],
             [
              0.6666666666666666,
              "#ed7953"
             ],
             [
              0.7777777777777778,
              "#fb9f3a"
             ],
             [
              0.8888888888888888,
              "#fdca26"
             ],
             [
              1,
              "#f0f921"
             ]
            ],
            "type": "heatmap"
           }
          ],
          "heatmapgl": [
           {
            "colorbar": {
             "outlinewidth": 0,
             "ticks": ""
            },
            "colorscale": [
             [
              0,
              "#0d0887"
             ],
             [
              0.1111111111111111,
              "#46039f"
             ],
             [
              0.2222222222222222,
              "#7201a8"
             ],
             [
              0.3333333333333333,
              "#9c179e"
             ],
             [
              0.4444444444444444,
              "#bd3786"
             ],
             [
              0.5555555555555556,
              "#d8576b"
             ],
             [
              0.6666666666666666,
              "#ed7953"
             ],
             [
              0.7777777777777778,
              "#fb9f3a"
             ],
             [
              0.8888888888888888,
              "#fdca26"
             ],
             [
              1,
              "#f0f921"
             ]
            ],
            "type": "heatmapgl"
           }
          ],
          "histogram": [
           {
            "marker": {
             "pattern": {
              "fillmode": "overlay",
              "size": 10,
              "solidity": 0.2
             }
            },
            "type": "histogram"
           }
          ],
          "histogram2d": [
           {
            "colorbar": {
             "outlinewidth": 0,
             "ticks": ""
            },
            "colorscale": [
             [
              0,
              "#0d0887"
             ],
             [
              0.1111111111111111,
              "#46039f"
             ],
             [
              0.2222222222222222,
              "#7201a8"
             ],
             [
              0.3333333333333333,
              "#9c179e"
             ],
             [
              0.4444444444444444,
              "#bd3786"
             ],
             [
              0.5555555555555556,
              "#d8576b"
             ],
             [
              0.6666666666666666,
              "#ed7953"
             ],
             [
              0.7777777777777778,
              "#fb9f3a"
             ],
             [
              0.8888888888888888,
              "#fdca26"
             ],
             [
              1,
              "#f0f921"
             ]
            ],
            "type": "histogram2d"
           }
          ],
          "histogram2dcontour": [
           {
            "colorbar": {
             "outlinewidth": 0,
             "ticks": ""
            },
            "colorscale": [
             [
              0,
              "#0d0887"
             ],
             [
              0.1111111111111111,
              "#46039f"
             ],
             [
              0.2222222222222222,
              "#7201a8"
             ],
             [
              0.3333333333333333,
              "#9c179e"
             ],
             [
              0.4444444444444444,
              "#bd3786"
             ],
             [
              0.5555555555555556,
              "#d8576b"
             ],
             [
              0.6666666666666666,
              "#ed7953"
             ],
             [
              0.7777777777777778,
              "#fb9f3a"
             ],
             [
              0.8888888888888888,
              "#fdca26"
             ],
             [
              1,
              "#f0f921"
             ]
            ],
            "type": "histogram2dcontour"
           }
          ],
          "mesh3d": [
           {
            "colorbar": {
             "outlinewidth": 0,
             "ticks": ""
            },
            "type": "mesh3d"
           }
          ],
          "parcoords": [
           {
            "line": {
             "colorbar": {
              "outlinewidth": 0,
              "ticks": ""
             }
            },
            "type": "parcoords"
           }
          ],
          "pie": [
           {
            "automargin": true,
            "type": "pie"
           }
          ],
          "scatter": [
           {
            "fillpattern": {
             "fillmode": "overlay",
             "size": 10,
             "solidity": 0.2
            },
            "type": "scatter"
           }
          ],
          "scatter3d": [
           {
            "line": {
             "colorbar": {
              "outlinewidth": 0,
              "ticks": ""
             }
            },
            "marker": {
             "colorbar": {
              "outlinewidth": 0,
              "ticks": ""
             }
            },
            "type": "scatter3d"
           }
          ],
          "scattercarpet": [
           {
            "marker": {
             "colorbar": {
              "outlinewidth": 0,
              "ticks": ""
             }
            },
            "type": "scattercarpet"
           }
          ],
          "scattergeo": [
           {
            "marker": {
             "colorbar": {
              "outlinewidth": 0,
              "ticks": ""
             }
            },
            "type": "scattergeo"
           }
          ],
          "scattergl": [
           {
            "marker": {
             "colorbar": {
              "outlinewidth": 0,
              "ticks": ""
             }
            },
            "type": "scattergl"
           }
          ],
          "scattermapbox": [
           {
            "marker": {
             "colorbar": {
              "outlinewidth": 0,
              "ticks": ""
             }
            },
            "type": "scattermapbox"
           }
          ],
          "scatterpolar": [
           {
            "marker": {
             "colorbar": {
              "outlinewidth": 0,
              "ticks": ""
             }
            },
            "type": "scatterpolar"
           }
          ],
          "scatterpolargl": [
           {
            "marker": {
             "colorbar": {
              "outlinewidth": 0,
              "ticks": ""
             }
            },
            "type": "scatterpolargl"
           }
          ],
          "scatterternary": [
           {
            "marker": {
             "colorbar": {
              "outlinewidth": 0,
              "ticks": ""
             }
            },
            "type": "scatterternary"
           }
          ],
          "surface": [
           {
            "colorbar": {
             "outlinewidth": 0,
             "ticks": ""
            },
            "colorscale": [
             [
              0,
              "#0d0887"
             ],
             [
              0.1111111111111111,
              "#46039f"
             ],
             [
              0.2222222222222222,
              "#7201a8"
             ],
             [
              0.3333333333333333,
              "#9c179e"
             ],
             [
              0.4444444444444444,
              "#bd3786"
             ],
             [
              0.5555555555555556,
              "#d8576b"
             ],
             [
              0.6666666666666666,
              "#ed7953"
             ],
             [
              0.7777777777777778,
              "#fb9f3a"
             ],
             [
              0.8888888888888888,
              "#fdca26"
             ],
             [
              1,
              "#f0f921"
             ]
            ],
            "type": "surface"
           }
          ],
          "table": [
           {
            "cells": {
             "fill": {
              "color": "#EBF0F8"
             },
             "line": {
              "color": "white"
             }
            },
            "header": {
             "fill": {
              "color": "#C8D4E3"
             },
             "line": {
              "color": "white"
             }
            },
            "type": "table"
           }
          ]
         },
         "layout": {
          "annotationdefaults": {
           "arrowcolor": "#2a3f5f",
           "arrowhead": 0,
           "arrowwidth": 1
          },
          "autotypenumbers": "strict",
          "coloraxis": {
           "colorbar": {
            "outlinewidth": 0,
            "ticks": ""
           }
          },
          "colorscale": {
           "diverging": [
            [
             0,
             "#8e0152"
            ],
            [
             0.1,
             "#c51b7d"
            ],
            [
             0.2,
             "#de77ae"
            ],
            [
             0.3,
             "#f1b6da"
            ],
            [
             0.4,
             "#fde0ef"
            ],
            [
             0.5,
             "#f7f7f7"
            ],
            [
             0.6,
             "#e6f5d0"
            ],
            [
             0.7,
             "#b8e186"
            ],
            [
             0.8,
             "#7fbc41"
            ],
            [
             0.9,
             "#4d9221"
            ],
            [
             1,
             "#276419"
            ]
           ],
           "sequential": [
            [
             0,
             "#0d0887"
            ],
            [
             0.1111111111111111,
             "#46039f"
            ],
            [
             0.2222222222222222,
             "#7201a8"
            ],
            [
             0.3333333333333333,
             "#9c179e"
            ],
            [
             0.4444444444444444,
             "#bd3786"
            ],
            [
             0.5555555555555556,
             "#d8576b"
            ],
            [
             0.6666666666666666,
             "#ed7953"
            ],
            [
             0.7777777777777778,
             "#fb9f3a"
            ],
            [
             0.8888888888888888,
             "#fdca26"
            ],
            [
             1,
             "#f0f921"
            ]
           ],
           "sequentialminus": [
            [
             0,
             "#0d0887"
            ],
            [
             0.1111111111111111,
             "#46039f"
            ],
            [
             0.2222222222222222,
             "#7201a8"
            ],
            [
             0.3333333333333333,
             "#9c179e"
            ],
            [
             0.4444444444444444,
             "#bd3786"
            ],
            [
             0.5555555555555556,
             "#d8576b"
            ],
            [
             0.6666666666666666,
             "#ed7953"
            ],
            [
             0.7777777777777778,
             "#fb9f3a"
            ],
            [
             0.8888888888888888,
             "#fdca26"
            ],
            [
             1,
             "#f0f921"
            ]
           ]
          },
          "colorway": [
           "#636efa",
           "#EF553B",
           "#00cc96",
           "#ab63fa",
           "#FFA15A",
           "#19d3f3",
           "#FF6692",
           "#B6E880",
           "#FF97FF",
           "#FECB52"
          ],
          "font": {
           "color": "#2a3f5f"
          },
          "geo": {
           "bgcolor": "white",
           "lakecolor": "white",
           "landcolor": "#E5ECF6",
           "showlakes": true,
           "showland": true,
           "subunitcolor": "white"
          },
          "hoverlabel": {
           "align": "left"
          },
          "hovermode": "closest",
          "mapbox": {
           "style": "light"
          },
          "paper_bgcolor": "white",
          "plot_bgcolor": "#E5ECF6",
          "polar": {
           "angularaxis": {
            "gridcolor": "white",
            "linecolor": "white",
            "ticks": ""
           },
           "bgcolor": "#E5ECF6",
           "radialaxis": {
            "gridcolor": "white",
            "linecolor": "white",
            "ticks": ""
           }
          },
          "scene": {
           "xaxis": {
            "backgroundcolor": "#E5ECF6",
            "gridcolor": "white",
            "gridwidth": 2,
            "linecolor": "white",
            "showbackground": true,
            "ticks": "",
            "zerolinecolor": "white"
           },
           "yaxis": {
            "backgroundcolor": "#E5ECF6",
            "gridcolor": "white",
            "gridwidth": 2,
            "linecolor": "white",
            "showbackground": true,
            "ticks": "",
            "zerolinecolor": "white"
           },
           "zaxis": {
            "backgroundcolor": "#E5ECF6",
            "gridcolor": "white",
            "gridwidth": 2,
            "linecolor": "white",
            "showbackground": true,
            "ticks": "",
            "zerolinecolor": "white"
           }
          },
          "shapedefaults": {
           "line": {
            "color": "#2a3f5f"
           }
          },
          "ternary": {
           "aaxis": {
            "gridcolor": "white",
            "linecolor": "white",
            "ticks": ""
           },
           "baxis": {
            "gridcolor": "white",
            "linecolor": "white",
            "ticks": ""
           },
           "bgcolor": "#E5ECF6",
           "caxis": {
            "gridcolor": "white",
            "linecolor": "white",
            "ticks": ""
           }
          },
          "title": {
           "x": 0.05
          },
          "xaxis": {
           "automargin": true,
           "gridcolor": "white",
           "linecolor": "white",
           "ticks": "",
           "title": {
            "standoff": 15
           },
           "zerolinecolor": "white",
           "zerolinewidth": 2
          },
          "yaxis": {
           "automargin": true,
           "gridcolor": "white",
           "linecolor": "white",
           "ticks": "",
           "title": {
            "standoff": 15
           },
           "zerolinecolor": "white",
           "zerolinewidth": 2
          }
         }
        },
        "title": {
         "text": "Days in Hospital by Diagnosis"
        },
        "xaxis": {
         "title": {
          "text": "Diagnosis"
         }
        },
        "yaxis": {
         "title": {
          "text": "Days in Hospital"
         }
        }
       }
      }
     },
     "metadata": {},
     "output_type": "display_data"
    }
   ],
   "source": [
    "# create a new Plotly figure\n",
    "fig = go.Figure(\n",
    "    data=[\n",
    "        # create a bar chart\n",
    "        go.Bar(\n",
    "            # set the x-axis values to the values in the 'diagnosis' column\n",
    "            x=patients_df['diagnosis'], \n",
    "            # set the y-axis values to the values in the 'days_in_hospital' column\n",
    "            y=patients_df['days_in_hospital']\n",
    "            )\n",
    "        ]\n",
    "    )\n",
    "\n",
    "# customise the appearance of the figure\n",
    "fig.update_layout(\n",
    "    title=\"Days in Hospital by Diagnosis\",\n",
    "    xaxis_title=\"Diagnosis\",\n",
    "    yaxis_title=\"Days in Hospital\",\n",
    ")\n",
    "\n",
    "fig.show()"
   ]
  },
  {
   "cell_type": "code",
   "execution_count": null,
   "id": "da1dad32",
   "metadata": {},
   "outputs": [],
   "source": [
    "# We can add color using the marker_color attribute\n",
    "\n",
    "department_colours = {\n",
    "    'General Medicine': 'skyblue', \n",
    "    'Cardiology': 'red', \n",
    "    'Orthopedics': 'green',  \n",
    "    'Rheumatology': 'purple', \n",
    "    'Neurology': 'orange', \n",
    "    'Endocrinology': 'goldenrod',\n",
    "}\n",
    "\n",
    "patients_df['color'] = patients_df['department'].map( lambda dept: department_colours[dept] )\n",
    "\n",
    "fig = go.Figure(\n",
    "    data=[\n",
    "        go.Bar(\n",
    "                x=patients_df.department, \n",
    "                y=patients_df.days_in_hospital, \n",
    "                marker_color=patients_df.color\n",
    "            )\n",
    "        ]\n",
    "    )\n",
    "\n",
    "# customise the appearance of the figure\n",
    "fig.update_layout(\n",
    "    title=\"Days in Hospital by Department\",\n",
    "    xaxis_title=\"Department\",\n",
    "    yaxis_title=\"Days in Hospital\",\n",
    ")\n",
    "\n",
    "fig.show()\n"
   ]
  },
  {
   "cell_type": "markdown",
   "id": "cc06bc7d",
   "metadata": {},
   "source": [
    "### Plotly Scatter Plot"
   ]
  },
  {
   "cell_type": "code",
   "execution_count": 43,
   "id": "5e339493",
   "metadata": {},
   "outputs": [
    {
     "data": {
      "application/vnd.plotly.v1+json": {
       "config": {
        "plotlyServerURL": "https://plot.ly"
       },
       "data": [
        {
         "marker": {
          "color": [
           180,
           220,
           160,
           250,
           190,
           210,
           170,
           280
          ],
          "colorscale": [
           [
            0,
            "#440154"
           ],
           [
            0.1111111111111111,
            "#482878"
           ],
           [
            0.2222222222222222,
            "#3e4989"
           ],
           [
            0.3333333333333333,
            "#31688e"
           ],
           [
            0.4444444444444444,
            "#26828e"
           ],
           [
            0.5555555555555556,
            "#1f9e89"
           ],
           [
            0.6666666666666666,
            "#35b779"
           ],
           [
            0.7777777777777778,
            "#6ece58"
           ],
           [
            0.8888888888888888,
            "#b5de2b"
           ],
           [
            1,
            "#fde725"
           ]
          ]
         },
         "mode": "markers",
         "text": [
          "Cholesterol: 180",
          "Cholesterol: 220",
          "Cholesterol: 160",
          "Cholesterol: 250",
          "Cholesterol: 190",
          "Cholesterol: 210",
          "Cholesterol: 170",
          "Cholesterol: 280"
         ],
         "type": "scatter",
         "x": [
          34,
          65,
          22,
          78,
          41,
          59,
          28,
          82
         ],
         "y": [
          120,
          140,
          110,
          160,
          125,
          135,
          115,
          170
         ]
        }
       ],
       "layout": {
        "coloraxis": {
         "colorbar": {
          "title": {
           "text": "Cholesterol Level"
          }
         }
        },
        "template": {
         "data": {
          "bar": [
           {
            "error_x": {
             "color": "#2a3f5f"
            },
            "error_y": {
             "color": "#2a3f5f"
            },
            "marker": {
             "line": {
              "color": "white",
              "width": 0.5
             },
             "pattern": {
              "fillmode": "overlay",
              "size": 10,
              "solidity": 0.2
             }
            },
            "type": "bar"
           }
          ],
          "barpolar": [
           {
            "marker": {
             "line": {
              "color": "white",
              "width": 0.5
             },
             "pattern": {
              "fillmode": "overlay",
              "size": 10,
              "solidity": 0.2
             }
            },
            "type": "barpolar"
           }
          ],
          "carpet": [
           {
            "aaxis": {
             "endlinecolor": "#2a3f5f",
             "gridcolor": "#C8D4E3",
             "linecolor": "#C8D4E3",
             "minorgridcolor": "#C8D4E3",
             "startlinecolor": "#2a3f5f"
            },
            "baxis": {
             "endlinecolor": "#2a3f5f",
             "gridcolor": "#C8D4E3",
             "linecolor": "#C8D4E3",
             "minorgridcolor": "#C8D4E3",
             "startlinecolor": "#2a3f5f"
            },
            "type": "carpet"
           }
          ],
          "choropleth": [
           {
            "colorbar": {
             "outlinewidth": 0,
             "ticks": ""
            },
            "type": "choropleth"
           }
          ],
          "contour": [
           {
            "colorbar": {
             "outlinewidth": 0,
             "ticks": ""
            },
            "colorscale": [
             [
              0,
              "#0d0887"
             ],
             [
              0.1111111111111111,
              "#46039f"
             ],
             [
              0.2222222222222222,
              "#7201a8"
             ],
             [
              0.3333333333333333,
              "#9c179e"
             ],
             [
              0.4444444444444444,
              "#bd3786"
             ],
             [
              0.5555555555555556,
              "#d8576b"
             ],
             [
              0.6666666666666666,
              "#ed7953"
             ],
             [
              0.7777777777777778,
              "#fb9f3a"
             ],
             [
              0.8888888888888888,
              "#fdca26"
             ],
             [
              1,
              "#f0f921"
             ]
            ],
            "type": "contour"
           }
          ],
          "contourcarpet": [
           {
            "colorbar": {
             "outlinewidth": 0,
             "ticks": ""
            },
            "type": "contourcarpet"
           }
          ],
          "heatmap": [
           {
            "colorbar": {
             "outlinewidth": 0,
             "ticks": ""
            },
            "colorscale": [
             [
              0,
              "#0d0887"
             ],
             [
              0.1111111111111111,
              "#46039f"
             ],
             [
              0.2222222222222222,
              "#7201a8"
             ],
             [
              0.3333333333333333,
              "#9c179e"
             ],
             [
              0.4444444444444444,
              "#bd3786"
             ],
             [
              0.5555555555555556,
              "#d8576b"
             ],
             [
              0.6666666666666666,
              "#ed7953"
             ],
             [
              0.7777777777777778,
              "#fb9f3a"
             ],
             [
              0.8888888888888888,
              "#fdca26"
             ],
             [
              1,
              "#f0f921"
             ]
            ],
            "type": "heatmap"
           }
          ],
          "heatmapgl": [
           {
            "colorbar": {
             "outlinewidth": 0,
             "ticks": ""
            },
            "colorscale": [
             [
              0,
              "#0d0887"
             ],
             [
              0.1111111111111111,
              "#46039f"
             ],
             [
              0.2222222222222222,
              "#7201a8"
             ],
             [
              0.3333333333333333,
              "#9c179e"
             ],
             [
              0.4444444444444444,
              "#bd3786"
             ],
             [
              0.5555555555555556,
              "#d8576b"
             ],
             [
              0.6666666666666666,
              "#ed7953"
             ],
             [
              0.7777777777777778,
              "#fb9f3a"
             ],
             [
              0.8888888888888888,
              "#fdca26"
             ],
             [
              1,
              "#f0f921"
             ]
            ],
            "type": "heatmapgl"
           }
          ],
          "histogram": [
           {
            "marker": {
             "pattern": {
              "fillmode": "overlay",
              "size": 10,
              "solidity": 0.2
             }
            },
            "type": "histogram"
           }
          ],
          "histogram2d": [
           {
            "colorbar": {
             "outlinewidth": 0,
             "ticks": ""
            },
            "colorscale": [
             [
              0,
              "#0d0887"
             ],
             [
              0.1111111111111111,
              "#46039f"
             ],
             [
              0.2222222222222222,
              "#7201a8"
             ],
             [
              0.3333333333333333,
              "#9c179e"
             ],
             [
              0.4444444444444444,
              "#bd3786"
             ],
             [
              0.5555555555555556,
              "#d8576b"
             ],
             [
              0.6666666666666666,
              "#ed7953"
             ],
             [
              0.7777777777777778,
              "#fb9f3a"
             ],
             [
              0.8888888888888888,
              "#fdca26"
             ],
             [
              1,
              "#f0f921"
             ]
            ],
            "type": "histogram2d"
           }
          ],
          "histogram2dcontour": [
           {
            "colorbar": {
             "outlinewidth": 0,
             "ticks": ""
            },
            "colorscale": [
             [
              0,
              "#0d0887"
             ],
             [
              0.1111111111111111,
              "#46039f"
             ],
             [
              0.2222222222222222,
              "#7201a8"
             ],
             [
              0.3333333333333333,
              "#9c179e"
             ],
             [
              0.4444444444444444,
              "#bd3786"
             ],
             [
              0.5555555555555556,
              "#d8576b"
             ],
             [
              0.6666666666666666,
              "#ed7953"
             ],
             [
              0.7777777777777778,
              "#fb9f3a"
             ],
             [
              0.8888888888888888,
              "#fdca26"
             ],
             [
              1,
              "#f0f921"
             ]
            ],
            "type": "histogram2dcontour"
           }
          ],
          "mesh3d": [
           {
            "colorbar": {
             "outlinewidth": 0,
             "ticks": ""
            },
            "type": "mesh3d"
           }
          ],
          "parcoords": [
           {
            "line": {
             "colorbar": {
              "outlinewidth": 0,
              "ticks": ""
             }
            },
            "type": "parcoords"
           }
          ],
          "pie": [
           {
            "automargin": true,
            "type": "pie"
           }
          ],
          "scatter": [
           {
            "fillpattern": {
             "fillmode": "overlay",
             "size": 10,
             "solidity": 0.2
            },
            "type": "scatter"
           }
          ],
          "scatter3d": [
           {
            "line": {
             "colorbar": {
              "outlinewidth": 0,
              "ticks": ""
             }
            },
            "marker": {
             "colorbar": {
              "outlinewidth": 0,
              "ticks": ""
             }
            },
            "type": "scatter3d"
           }
          ],
          "scattercarpet": [
           {
            "marker": {
             "colorbar": {
              "outlinewidth": 0,
              "ticks": ""
             }
            },
            "type": "scattercarpet"
           }
          ],
          "scattergeo": [
           {
            "marker": {
             "colorbar": {
              "outlinewidth": 0,
              "ticks": ""
             }
            },
            "type": "scattergeo"
           }
          ],
          "scattergl": [
           {
            "marker": {
             "colorbar": {
              "outlinewidth": 0,
              "ticks": ""
             }
            },
            "type": "scattergl"
           }
          ],
          "scattermapbox": [
           {
            "marker": {
             "colorbar": {
              "outlinewidth": 0,
              "ticks": ""
             }
            },
            "type": "scattermapbox"
           }
          ],
          "scatterpolar": [
           {
            "marker": {
             "colorbar": {
              "outlinewidth": 0,
              "ticks": ""
             }
            },
            "type": "scatterpolar"
           }
          ],
          "scatterpolargl": [
           {
            "marker": {
             "colorbar": {
              "outlinewidth": 0,
              "ticks": ""
             }
            },
            "type": "scatterpolargl"
           }
          ],
          "scatterternary": [
           {
            "marker": {
             "colorbar": {
              "outlinewidth": 0,
              "ticks": ""
             }
            },
            "type": "scatterternary"
           }
          ],
          "surface": [
           {
            "colorbar": {
             "outlinewidth": 0,
             "ticks": ""
            },
            "colorscale": [
             [
              0,
              "#0d0887"
             ],
             [
              0.1111111111111111,
              "#46039f"
             ],
             [
              0.2222222222222222,
              "#7201a8"
             ],
             [
              0.3333333333333333,
              "#9c179e"
             ],
             [
              0.4444444444444444,
              "#bd3786"
             ],
             [
              0.5555555555555556,
              "#d8576b"
             ],
             [
              0.6666666666666666,
              "#ed7953"
             ],
             [
              0.7777777777777778,
              "#fb9f3a"
             ],
             [
              0.8888888888888888,
              "#fdca26"
             ],
             [
              1,
              "#f0f921"
             ]
            ],
            "type": "surface"
           }
          ],
          "table": [
           {
            "cells": {
             "fill": {
              "color": "#EBF0F8"
             },
             "line": {
              "color": "white"
             }
            },
            "header": {
             "fill": {
              "color": "#C8D4E3"
             },
             "line": {
              "color": "white"
             }
            },
            "type": "table"
           }
          ]
         },
         "layout": {
          "annotationdefaults": {
           "arrowcolor": "#2a3f5f",
           "arrowhead": 0,
           "arrowwidth": 1
          },
          "autotypenumbers": "strict",
          "coloraxis": {
           "colorbar": {
            "outlinewidth": 0,
            "ticks": ""
           }
          },
          "colorscale": {
           "diverging": [
            [
             0,
             "#8e0152"
            ],
            [
             0.1,
             "#c51b7d"
            ],
            [
             0.2,
             "#de77ae"
            ],
            [
             0.3,
             "#f1b6da"
            ],
            [
             0.4,
             "#fde0ef"
            ],
            [
             0.5,
             "#f7f7f7"
            ],
            [
             0.6,
             "#e6f5d0"
            ],
            [
             0.7,
             "#b8e186"
            ],
            [
             0.8,
             "#7fbc41"
            ],
            [
             0.9,
             "#4d9221"
            ],
            [
             1,
             "#276419"
            ]
           ],
           "sequential": [
            [
             0,
             "#0d0887"
            ],
            [
             0.1111111111111111,
             "#46039f"
            ],
            [
             0.2222222222222222,
             "#7201a8"
            ],
            [
             0.3333333333333333,
             "#9c179e"
            ],
            [
             0.4444444444444444,
             "#bd3786"
            ],
            [
             0.5555555555555556,
             "#d8576b"
            ],
            [
             0.6666666666666666,
             "#ed7953"
            ],
            [
             0.7777777777777778,
             "#fb9f3a"
            ],
            [
             0.8888888888888888,
             "#fdca26"
            ],
            [
             1,
             "#f0f921"
            ]
           ],
           "sequentialminus": [
            [
             0,
             "#0d0887"
            ],
            [
             0.1111111111111111,
             "#46039f"
            ],
            [
             0.2222222222222222,
             "#7201a8"
            ],
            [
             0.3333333333333333,
             "#9c179e"
            ],
            [
             0.4444444444444444,
             "#bd3786"
            ],
            [
             0.5555555555555556,
             "#d8576b"
            ],
            [
             0.6666666666666666,
             "#ed7953"
            ],
            [
             0.7777777777777778,
             "#fb9f3a"
            ],
            [
             0.8888888888888888,
             "#fdca26"
            ],
            [
             1,
             "#f0f921"
            ]
           ]
          },
          "colorway": [
           "#636efa",
           "#EF553B",
           "#00cc96",
           "#ab63fa",
           "#FFA15A",
           "#19d3f3",
           "#FF6692",
           "#B6E880",
           "#FF97FF",
           "#FECB52"
          ],
          "font": {
           "color": "#2a3f5f"
          },
          "geo": {
           "bgcolor": "white",
           "lakecolor": "white",
           "landcolor": "white",
           "showlakes": true,
           "showland": true,
           "subunitcolor": "#C8D4E3"
          },
          "hoverlabel": {
           "align": "left"
          },
          "hovermode": "closest",
          "mapbox": {
           "style": "light"
          },
          "paper_bgcolor": "white",
          "plot_bgcolor": "white",
          "polar": {
           "angularaxis": {
            "gridcolor": "#EBF0F8",
            "linecolor": "#EBF0F8",
            "ticks": ""
           },
           "bgcolor": "white",
           "radialaxis": {
            "gridcolor": "#EBF0F8",
            "linecolor": "#EBF0F8",
            "ticks": ""
           }
          },
          "scene": {
           "xaxis": {
            "backgroundcolor": "white",
            "gridcolor": "#DFE8F3",
            "gridwidth": 2,
            "linecolor": "#EBF0F8",
            "showbackground": true,
            "ticks": "",
            "zerolinecolor": "#EBF0F8"
           },
           "yaxis": {
            "backgroundcolor": "white",
            "gridcolor": "#DFE8F3",
            "gridwidth": 2,
            "linecolor": "#EBF0F8",
            "showbackground": true,
            "ticks": "",
            "zerolinecolor": "#EBF0F8"
           },
           "zaxis": {
            "backgroundcolor": "white",
            "gridcolor": "#DFE8F3",
            "gridwidth": 2,
            "linecolor": "#EBF0F8",
            "showbackground": true,
            "ticks": "",
            "zerolinecolor": "#EBF0F8"
           }
          },
          "shapedefaults": {
           "line": {
            "color": "#2a3f5f"
           }
          },
          "ternary": {
           "aaxis": {
            "gridcolor": "#DFE8F3",
            "linecolor": "#A2B1C6",
            "ticks": ""
           },
           "baxis": {
            "gridcolor": "#DFE8F3",
            "linecolor": "#A2B1C6",
            "ticks": ""
           },
           "bgcolor": "white",
           "caxis": {
            "gridcolor": "#DFE8F3",
            "linecolor": "#A2B1C6",
            "ticks": ""
           }
          },
          "title": {
           "x": 0.05
          },
          "xaxis": {
           "automargin": true,
           "gridcolor": "#EBF0F8",
           "linecolor": "#EBF0F8",
           "ticks": "",
           "title": {
            "standoff": 15
           },
           "zerolinecolor": "#EBF0F8",
           "zerolinewidth": 2
          },
          "yaxis": {
           "automargin": true,
           "gridcolor": "#EBF0F8",
           "linecolor": "#EBF0F8",
           "ticks": "",
           "title": {
            "standoff": 15
           },
           "zerolinecolor": "#EBF0F8",
           "zerolinewidth": 2
          }
         }
        },
        "title": {
         "text": "Age vs. Systolic Blood Pressure"
        },
        "xaxis": {
         "title": {
          "text": "Age"
         }
        },
        "yaxis": {
         "title": {
          "text": "Systolic Blood Pressure"
         }
        }
       }
      }
     },
     "metadata": {},
     "output_type": "display_data"
    }
   ],
   "source": [
    "fig = go.Figure(\n",
    "    data=go.Scatter(\n",
    "        x=patients_df['age'],\n",
    "        y=patients_df['blood_pressure_systolic'],\n",
    "        mode='markers',  # display as markers (points)\n",
    "        marker=dict(color=patients_df['cholesterol_level'], colorscale='Viridis'), # color based on cholesterol. Notice, it's a dictionary\n",
    "        text=[f\"Cholesterol: {c_level}\" for c_level in patients_df['cholesterol_level']] # add cholesterol to hover.\n",
    "))\n",
    "\n",
    "fig.update_layout(\n",
    "    title=\"Age vs. Systolic Blood Pressure\",\n",
    "    xaxis_title=\"Age\",\n",
    "    yaxis_title=\"Systolic Blood Pressure\",\n",
    "    coloraxis_colorbar=dict(title=\"Cholesterol Level\"),\n",
    "    template=\"plotly_white\"  # Clean background style. Try \"plotly_dark\" or \"ggplot2\"\n",
    ")\n",
    "\n",
    "fig.show()"
   ]
  },
  {
   "cell_type": "markdown",
   "id": "c819d314",
   "metadata": {},
   "source": [
    "<a id=\"real-data\"></a>\n",
    "## Now with some real data"
   ]
  },
  {
   "cell_type": "code",
   "execution_count": null,
   "id": "e138ec4d",
   "metadata": {},
   "outputs": [],
   "source": [
    "# Read in the data from the CSV file on the web\n",
    "nursing_homes_df = pd.read_csv(\"https://www.opendata.nhs.scot/dataset/75cca0a9-780d-40e0-9e1f-5f4796950794/resource/139f61d8-a87d-419d-b7af-31f555a60c89/download/file3_mean_median_age_years.csv\")\n",
    "nursing_homes_df.head()"
   ]
  },
  {
   "cell_type": "code",
   "execution_count": null,
   "id": "73115994",
   "metadata": {},
   "outputs": [],
   "source": [
    "# Pick only the Mean Age statistic\n",
    "nursing_homes_df.loc[nursing_homes_df['KeyStatistic']=='Mean Age']\n",
    "\n",
    "# Group values by Date to get overall averages\n",
    "averages = nursing_homes_df['Value'].groupby(nursing_homes_df['Date']).mean()\n",
    "print(type(averages)) # What type is averages? It's a series. So basically one column of a dataframe\n",
    "averages                "
   ]
  },
  {
   "cell_type": "code",
   "execution_count": null,
   "id": "51753a58",
   "metadata": {},
   "outputs": [],
   "source": [
    "# Let's turn it into a DataFrame, for ease of use\n",
    "averages_df = pd.DataFrame(averages)\n",
    "averages_df"
   ]
  },
  {
   "cell_type": "code",
   "execution_count": null,
   "id": "273e0cd2",
   "metadata": {},
   "outputs": [],
   "source": [
    "fig = go.Figure(\n",
    "    data=[go.Scatter(y=averages_df.Value, \n",
    "                 x=averages_df.index)]\n",
    ")\n",
    "fig.show()"
   ]
  },
  {
   "cell_type": "code",
   "execution_count": null,
   "id": "39e6a09f",
   "metadata": {},
   "outputs": [],
   "source": [
    "# Do you see what is going wrong with the above graph? (on the x axis)\n",
    "# That's because the x axis values are numbers like 20201029 instead of actual datetime objects\n",
    "# Let's fix that!"
   ]
  },
  {
   "cell_type": "code",
   "execution_count": null,
   "id": "87829dbc",
   "metadata": {},
   "outputs": [],
   "source": [
    "averages_df = pd.DataFrame(averages)\n",
    "averages_df.index = pd.to_datetime(averages_df.index, format='%Y%m%d')\n",
    "averages_df"
   ]
  },
  {
   "cell_type": "code",
   "execution_count": null,
   "id": "311d6a41",
   "metadata": {},
   "outputs": [],
   "source": [
    "fig = go.Figure(\n",
    "    data=[go.Scatter(y=averages_df.Value, \n",
    "                 x=averages_df.index)]\n",
    ")\n",
    "\n",
    "fig.update_layout(\n",
    "    title=\"Avg. Number of Nursing Home Residents\",\n",
    "    xaxis_title=\"Year\",\n",
    "    yaxis_title=\"Count\",\n",
    "    template=\"plotly_white\"  # Clean background style. Try \"plotly_dark\" or \"ggplot2\"\n",
    ")\n",
    "\n",
    "fig.show()\n",
    "# Notice that the x axis suddenly makes sense!"
   ]
  },
  {
   "cell_type": "markdown",
   "id": "ae024ffa",
   "metadata": {},
   "source": [
    "# And to sum it up: Let's try to use more than one part of the dataset:"
   ]
  },
  {
   "cell_type": "code",
   "execution_count": null,
   "id": "5c90fbc7",
   "metadata": {},
   "outputs": [],
   "source": [
    "nursing_homes_df = pd.read_csv(\"https://www.opendata.nhs.scot/dataset/75cca0a9-780d-40e0-9e1f-5f4796950794/resource/139f61d8-a87d-419d-b7af-31f555a60c89/download/file3_mean_median_age_years.csv\")\n",
    "nursing_homes_df\n",
    "\n",
    "# Create a dataframe\n",
    "stats_df = pd.DataFrame(nursing_homes_df['Value'].groupby(nursing_homes_df['Date']).mean())\n",
    "# Then add a few more columns. For example 1 standard deviation up and down from mean.\n",
    "stats_df['Median'] = nursing_homes_df['Value'].groupby(nursing_homes_df['Date']).median()\n",
    "stats_df['Stdev'] = nursing_homes_df['Value'].groupby(nursing_homes_df['Date']).std()\n",
    "stats_df['Stdev_top'] = stats_df['Value']  + stats_df['Stdev'] \n",
    "stats_df['Stdev_bottom'] = stats_df['Value']  - stats_df['Stdev'] \n",
    "\n",
    "stats_df['Max'] = nursing_homes_df['Value'].groupby(nursing_homes_df['Date']).max()\n",
    "stats_df['Min'] = nursing_homes_df['Value'].groupby(nursing_homes_df['Date']).min()\n",
    "\n",
    "# And let's make the dates real dates!\n",
    "stats_df.index = pd.to_datetime(stats_df.index, format='%Y%m%d')\n",
    "stats_df"
   ]
  },
  {
   "cell_type": "code",
   "execution_count": null,
   "id": "4f6b6560",
   "metadata": {},
   "outputs": [],
   "source": [
    "fig = go.Figure(\n",
    "    data=[go.Scatter(y=stats_df.Value, x=stats_df.index, name=\"Mean\"),\n",
    "         go.Scatter(y=stats_df.Stdev_bottom, x=stats_df.index, name=\"1 standard dev down\"),\n",
    "         go.Scatter(y=stats_df.Median, x=stats_df.index, name=\"Median\"),\n",
    "         go.Scatter(y=stats_df.Stdev_top, x=stats_df.index, name=\"1 standard dev up\")]\n",
    ")\n",
    "fig.show()"
   ]
  },
  {
   "cell_type": "markdown",
   "id": "804f17ea",
   "metadata": {},
   "source": [
    "<a id=\"mini-diary\"></a>\n",
    "## ⭐️⭐️⭐️💥 What you learned in this session: Three stars and a wish \n",
    "**In your own words** write in your Learn diary:\n",
    "\n",
    "- 3 things you yould like to remember from this badge\n",
    "- 1 thing you wish to understand better in the future or a question you'd like to ask\n"
   ]
  },
  {
   "cell_type": "markdown",
   "id": "93688e3c",
   "metadata": {},
   "source": [
    "<a id=\"more-examples\"></a>\n",
    "# Some more examples of plotting libraries"
   ]
  },
  {
   "cell_type": "markdown",
   "id": "8611ddca",
   "metadata": {},
   "source": [
    "## Matplotlib\n",
    "\n",
    "In Matplotlib it looks very similar. Matplotlib is very popular, but needs more care to look great. Note: These are examples of what can be done and to get the minimal graph, you don't need them all. Also, there are many other customisations available other then the ones shown here.\n",
    "\n",
    "Matplotlib Documentation: <a href=\"https://matplotlib.org/stable/users/index.html\">https://matplotlib.org/stable/users/index.html</a>"
   ]
  },
  {
   "cell_type": "markdown",
   "id": "ec137fd9",
   "metadata": {},
   "source": [
    "### Matplotlib Bar Chart"
   ]
  },
  {
   "cell_type": "code",
   "execution_count": null,
   "id": "0043c2ed",
   "metadata": {},
   "outputs": [],
   "source": [
    "import matplotlib.pyplot as plt\n",
    "\n",
    "patients_df = pd.read_csv('./data/patients.csv')\n",
    "patients_df\n",
    "    \n",
    "# Create the bar chart\n",
    "plt.figure(figsize=(8, 5))\n",
    "plt.bar(patients_df.age, patients_df.blood_pressure_systolic, color=\"skyblue\")\n",
    "\n",
    "# Add labels and title\n",
    "plt.title(\"Age\", fontsize=14, loc=\"left\")\n",
    "plt.ylabel(\"Systolic Blood Pressure\", fontsize=12)\n",
    "plt.xlabel(\"Patient Age\", fontsize=12)\n",
    "# Angle the x-axis labels\n",
    "plt.xticks(rotation=30)\n",
    "\n",
    "# Show the plot\n",
    "plt.show()"
   ]
  },
  {
   "cell_type": "markdown",
   "id": "d2f81f80",
   "metadata": {},
   "source": [
    "### Matplotlib Scatter Plot"
   ]
  },
  {
   "cell_type": "code",
   "execution_count": null,
   "id": "ac602c55",
   "metadata": {},
   "outputs": [],
   "source": [
    "import matplotlib.pyplot as plt\n",
    "import matplotlib.cm as cm  # For colourmaps\n",
    "\n",
    "patients_df = pd.read_csv('./data/patients.csv')\n",
    "patients_df\n",
    "\n",
    "# Create the scatter plot\n",
    "plt.figure(figsize=(10, 6))  # Adjust figure size if needed\n",
    "\n",
    "scatter = plt.scatter(\n",
    "    patients_df.age,\n",
    "    patients_df.blood_pressure_systolic,\n",
    "    c=patients_df.cholesterol_level,  # Colour based on cholesterol\n",
    "    cmap=cm.viridis,  # Use the viridis colormap\n",
    "    s=50,  # Marker size\n",
    "    alpha=0.8  # Marker transparency\n",
    ")\n",
    "\n",
    "\n",
    "# Add labels and title\n",
    "plt.title(\"Age vs. Systolic Blood Pressure\")\n",
    "plt.xlabel(\"Age\")\n",
    "plt.ylabel(\"Systolic Blood Pressure\")\n",
    "\n",
    "# Add a colourbar\n",
    "cbar = plt.colorbar(scatter)\n",
    "cbar.set_label(\"Cholesterol Level\")\n",
    "\n",
    "# Show the plot\n",
    "plt.show()"
   ]
  },
  {
   "cell_type": "markdown",
   "id": "7fe6d3a8",
   "metadata": {},
   "source": [
    "## Plotnine\n",
    "\n",
    "Plotnine is an implementation of the grammar of graphics in Python based on ggplot2 which you might be familiar with from R.\n",
    "\n",
    "Plotnine Documentation: <a href=\"https://plotnine.org/\">https://plotnine.org/</a>"
   ]
  },
  {
   "cell_type": "code",
   "execution_count": 46,
   "id": "7112841e",
   "metadata": {},
   "outputs": [
    {
     "name": "stdout",
     "output_type": "stream",
     "text": [
      "None\n"
     ]
    }
   ],
   "source": [
    "# RUN THIS CODE TO INSTALL THE plotnine PACKAGE BEFORE TRYING TO RUN THE CODE BELOW\n",
    "# This code installs the package plotnine if it is not already installed\n",
    "# You only need to run this code once\n",
    "\n",
    "import subprocess\n",
    " \n",
    "def install_this(package_name):\n",
    "    try:\n",
    "        __import__(package_name)\n",
    "    except ImportError:\n",
    "        subprocess.run(f\"pip install {package_name}\", shell = True, executable=\"/bin/bash\")\n",
    " \n",
    "package = 'plotnine'\n",
    "print(install_this(package))"
   ]
  },
  {
   "cell_type": "code",
   "execution_count": 47,
   "id": "82348599",
   "metadata": {},
   "outputs": [
    {
     "data": {
      "image/png": "[encoded data removed]"
     },
     "metadata": {
      "image/png": {
       "height": 480,
       "width": 640
      }
     },
     "output_type": "display_data"
    }
   ],
   "source": [
    "from plotnine import ggplot, geom_bar, aes, labs, theme, element_text\n",
    "\n",
    "patients_df = pd.read_csv('./data/patients.csv')\n",
    "patients_df\n",
    "\n",
    "# Create the plotnine bar chart\n",
    "plot = (\n",
    "    ggplot(patients_df, aes(x='age', y='blood_pressure_systolic'))\n",
    "    + geom_bar(stat='identity', fill='skyblue')  # stat='identity' means use the y values directly\n",
    "    + labs(\n",
    "        title=\"Age\",\n",
    "        y=\"Systolic Blood Pressure\",\n",
    "        x=\"Patient Age\"\n",
    "    )\n",
    "    + theme(\n",
    "        plot_title=element_text(size=14, ha='left'), # ha is horizontal alignment.\n",
    "        axis_title_y=element_text(size=12),\n",
    "        axis_title_x=element_text(size=12),\n",
    "        axis_text_x=element_text(angle=30)\n",
    "    )\n",
    ")\n",
    "\n",
    "# Show the plot\n",
    "plot"
   ]
  },
  {
   "cell_type": "markdown",
   "id": "a6b19426",
   "metadata": {},
   "source": [
    "### Plotnine Scatterplot"
   ]
  },
  {
   "cell_type": "code",
   "execution_count": null,
   "id": "5709360f",
   "metadata": {},
   "outputs": [
    {
     "data": {
      "image/png": "[encoded data removed]"
     },
     "metadata": {
      "image/png": {
       "height": 480,
       "width": 640
      }
     },
     "output_type": "display_data"
    }
   ],
   "source": [
    "from plotnine import ggplot, aes, geom_point, labs, theme, scale_color_cmap, theme_classic\n",
    "\n",
    "# Create the plotnine scatter plot\n",
    "plot = (\n",
    "    ggplot(patients_df, aes(x='age', y='blood_pressure_systolic', color='cholesterol_level'))\n",
    "    + geom_point(size=3, alpha=0.8)  # Adjust size as needed\n",
    "    + labs(\n",
    "        title=\"Age vs. Systolic Blood Pressure\",\n",
    "        x=\"Age\",\n",
    "        y=\"Systolic Blood Pressure\",\n",
    "        color=\"Cholesterol Level\"\n",
    "    )\n",
    "    + scale_color_cmap(cmap_name='viridis')\n",
    "    + theme_classic(base_size=10) # Or any other theme. Try theme_bw or theme_minimal (note: you'll need to add these to the import statement above)\n",
    ")\n",
    "\n",
    "# Show the plot\n",
    "plot"
   ]
  }
 ],
 "metadata": {
  "kernelspec": {
   "display_name": "base",
   "language": "python",
   "name": "python3"
  },
  "language_info": {
   "codemirror_mode": {
    "name": "ipython",
    "version": 3
   },
   "file_extension": ".py",
   "mimetype": "text/x-python",
   "name": "python",
   "nbconvert_exporter": "python",
   "pygments_lexer": "ipython3",
   "version": "3.11.7"
  }
 },
 "nbformat": 4,
 "nbformat_minor": 5
}
