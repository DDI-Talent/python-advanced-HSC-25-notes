{
 "cells": [
  {
   "cell_type": "code",
   "execution_count": null,
   "id": "60f5546d",
   "metadata": {},
   "outputs": [],
   "source": [
    "import pandas as pd"
   ]
  },
  {
   "cell_type": "code",
   "execution_count": null,
   "id": "482a91f9",
   "metadata": {},
   "outputs": [],
   "source": [
    "passengers = pd.read_csv('./data/titanic_kaggle_train.csv')\n",
    "passengers\n",
    "# https://www.kaggle.com/competitions/titanic/data"
   ]
  }
 ],
 "metadata": {
  "kernelspec": {
   "display_name": "Python 3 (ipykernel)",
   "language": "python",
   "name": "python3"
  },
  "language_info": {
   "codemirror_mode": {
    "name": "ipython",
    "version": 3
   },
   "file_extension": ".py",
   "mimetype": "text/x-python",
   "name": "python",
   "nbconvert_exporter": "python",
   "pygments_lexer": "ipython3",
   "version": "3.9.7"
  }
 },
 "nbformat": 4,
 "nbformat_minor": 5
}
