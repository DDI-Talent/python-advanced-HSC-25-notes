{
 "cells": [
  {
   "cell_type": "code",
   "execution_count": null,
   "id": "60f5546d",
   "metadata": {},
   "outputs": [],
   "source": [
    "import pandas as pd"
   ]
  },
  {
   "cell_type": "code",
   "execution_count": null,
   "id": "482a91f9",
   "metadata": {},
   "outputs": [],
   "source": [
    "passengers = pd.read_csv('./data/titanic_kaggle_train.csv')\n",
    "passengers\n",
    "# https://www.kaggle.com/competitions/titanic/data"
   ]
  },
  {
   "cell_type": "markdown",
   "id": "2fbf9428",
   "metadata": {},
   "source": [
    "Q_A: What types of data we know about passangers? How are they distributed?\n",
    "A_A: There are 891 passnagers, we know a 12 different things about each passenger. Numeric values like Age (mean 30) and Fare, but also some categorical information like their passanger class (spans between 1 and 3)."
   ]
  },
  {
   "cell_type": "code",
   "execution_count": null,
   "id": "9a044e93",
   "metadata": {},
   "outputs": [],
   "source": [
    "# visualisations:\n",
    "print(\"Column names and their types:\")\n",
    "passengers.info()\n"
   ]
  },
  {
   "cell_type": "code",
   "execution_count": null,
   "id": "a5f3dfd1",
   "metadata": {},
   "outputs": [],
   "source": [
    "passengers.columns"
   ]
  },
  {
   "cell_type": "code",
   "execution_count": null,
   "id": "31d4248c",
   "metadata": {},
   "outputs": [],
   "source": [
    "passengers.Pclass.value_counts()"
   ]
  },
  {
   "cell_type": "code",
   "execution_count": null,
   "id": "c0bbb0af",
   "metadata": {},
   "outputs": [],
   "source": [
    "passengers.Parch.value_counts()"
   ]
  },
  {
   "cell_type": "code",
   "execution_count": null,
   "id": "f24bb7be",
   "metadata": {},
   "outputs": [],
   "source": [
    "passengers.Age.describe()"
   ]
  },
  {
   "cell_type": "code",
   "execution_count": null,
   "id": "de63b8ed",
   "metadata": {},
   "outputs": [],
   "source": [
    "passengers.info()"
   ]
  },
  {
   "cell_type": "code",
   "execution_count": null,
   "id": "914e3e90",
   "metadata": {},
   "outputs": [],
   "source": [
    "passengers.Pclass.isnull()"
   ]
  },
  {
   "cell_type": "markdown",
   "id": "b2f8a45f",
   "metadata": {},
   "source": [
    "# Question B\n",
    "\n",
    "**Q: How are Age and Fare distriubuted?**\n",
    "\n",
    "A: Age was distrinuted between 0 and 80, with mean of 29.7. Data seems to be rigth-skewed, with some underaged travellers. There seems to be a large group of children, but only those bewlo 1 year old have age detailed in months. Fare has a mean of 32, with ope passanger paying 512, and 14 of them paying 0. Some of the 0 fare payers were emloyees. Tickets of class 1 seemed most expensive (avg 84 $), than class 2 (21 $) and 3 (14 $)."
   ]
  },
  {
   "cell_type": "code",
   "execution_count": null,
   "id": "fd4947ba",
   "metadata": {},
   "outputs": [],
   "source": [
    "passengers.Age.describe()"
   ]
  },
  {
   "cell_type": "code",
   "execution_count": null,
   "id": "44f9260e",
   "metadata": {},
   "outputs": [],
   "source": [
    "passengers.Age.hist(bins=16)"
   ]
  },
  {
   "cell_type": "code",
   "execution_count": null,
   "id": "0d2de8ff",
   "metadata": {},
   "outputs": [],
   "source": [
    "passengers[ passengers.Age < 10  ].Age.hist(bins=30)"
   ]
  },
  {
   "cell_type": "code",
   "execution_count": null,
   "id": "52d44a18",
   "metadata": {},
   "outputs": [],
   "source": [
    "passengers[ (passengers.Age > 1) & (passengers.Age <=2) ].PassengerId.count()"
   ]
  },
  {
   "cell_type": "code",
   "execution_count": null,
   "id": "2e8ffac7",
   "metadata": {},
   "outputs": [],
   "source": [
    "passengers.Fare.describe()"
   ]
  },
  {
   "cell_type": "code",
   "execution_count": null,
   "id": "74bdf98a",
   "metadata": {},
   "outputs": [],
   "source": [
    "passengers.Fare.hist(bins=50)"
   ]
  },
  {
   "cell_type": "code",
   "execution_count": null,
   "id": "ec35d682",
   "metadata": {},
   "outputs": [],
   "source": [
    "passengers[ passengers.Pclass == 1 ].Fare.hist(bins=10)"
   ]
  },
  {
   "cell_type": "code",
   "execution_count": null,
   "id": "69687e9c",
   "metadata": {},
   "outputs": [],
   "source": [
    "passengers[ passengers.Pclass == 2 ].Fare.hist(bins=10)"
   ]
  },
  {
   "cell_type": "code",
   "execution_count": null,
   "id": "bd2515d3",
   "metadata": {},
   "outputs": [],
   "source": [
    "passengers[ passengers.Pclass == 3 ].Fare.hist(bins=10)"
   ]
  },
  {
   "cell_type": "code",
   "execution_count": null,
   "id": "c2776a4d",
   "metadata": {},
   "outputs": [],
   "source": [
    "import matplotlib.pyplot as plt\n",
    "Fig, axs = plt.subplots(3,1)\n",
    "passengers[ passengers.Pclass == 1 ].Fare.hist(bins=10, ax = axs[0])\n",
    "passengers[ passengers.Pclass == 2 ].Fare.hist(bins=10, ax = axs[1])\n",
    "passengers[ passengers.Pclass == 3 ].Fare.hist(bins=10, ax = axs[2])"
   ]
  },
  {
   "cell_type": "code",
   "execution_count": null,
   "id": "967a0b95",
   "metadata": {},
   "outputs": [],
   "source": [
    "passengers.groupby(by=\"Pclass\").Fare.mean()"
   ]
  },
  {
   "cell_type": "code",
   "execution_count": null,
   "id": "574f25e4",
   "metadata": {},
   "outputs": [],
   "source": [
    "passengers[    passengers.Fare == 0   ].PassengerId.count()"
   ]
  },
  {
   "cell_type": "markdown",
   "id": "543cf7c3",
   "metadata": {},
   "source": [
    "# Question C:\n",
    "\n",
    "Q: when we group passangers, what can we see abotu survival and fares?\n",
    "A: Lookking at pasaanger class, peo-ple with better class tickets survived more (62% for class 1, with mean of all passangers being 38%). Peoiple with 3rd class tickets seemed to be younger and more likely to travel alone. 60% of the travellers travelled alone. Largest group had 11 people."
   ]
  },
  {
   "cell_type": "code",
   "execution_count": null,
   "id": "9bca63a3",
   "metadata": {},
   "outputs": [],
   "source": [
    "passengers.Survived.mean()"
   ]
  },
  {
   "cell_type": "code",
   "execution_count": null,
   "id": "fcb6fefb",
   "metadata": {},
   "outputs": [],
   "source": [
    "# passengers[ passengers.Sex == 'male' ].Survived.value_counts().plot( kind = 'barh')\n",
    "# passengers[ passengers.Sex == 'female' ].Survived.value_counts().plot( kind = 'barh')"
   ]
  },
  {
   "cell_type": "code",
   "execution_count": null,
   "id": "b3436f3d",
   "metadata": {},
   "outputs": [],
   "source": [
    "passengers.groupby(by=[ \"Sex\", \"Pclass\"]).Survived.mean()"
   ]
  },
  {
   "cell_type": "code",
   "execution_count": null,
   "id": "f0c10289",
   "metadata": {},
   "outputs": [],
   "source": [
    "passengers.groupby(by=\"Pclass\").mean()"
   ]
  },
  {
   "cell_type": "code",
   "execution_count": null,
   "id": "fc44373b",
   "metadata": {},
   "outputs": [],
   "source": [
    "passengers[ passengers.Age < 18 ].groupby(by=\"Survived\").mean()"
   ]
  },
  {
   "cell_type": "code",
   "execution_count": null,
   "id": "387d8113",
   "metadata": {},
   "outputs": [],
   "source": [
    "passengers['GroupSize'] = passengers.apply( lambda row: row.SibSp + row.Parch + 1, axis=1)"
   ]
  },
  {
   "cell_type": "code",
   "execution_count": null,
   "id": "abb59284",
   "metadata": {},
   "outputs": [],
   "source": [
    "def group_size(row):\n",
    "    return row.SibSp + row.Parch + 1\n",
    "\n",
    "passengers['GroupSize'] = passengers.apply(group_size,  axis=1)"
   ]
  },
  {
   "cell_type": "code",
   "execution_count": null,
   "id": "87f4cb43",
   "metadata": {},
   "outputs": [],
   "source": [
    "passengers.groupby(by='GroupSize').count()"
   ]
  },
  {
   "cell_type": "code",
   "execution_count": null,
   "id": "2b64a9ac",
   "metadata": {},
   "outputs": [],
   "source": [
    "type(passengers)"
   ]
  },
  {
   "cell_type": "code",
   "execution_count": null,
   "id": "305bf97b",
   "metadata": {},
   "outputs": [],
   "source": [
    "type(passengers.Age)"
   ]
  },
  {
   "cell_type": "code",
   "execution_count": null,
   "id": "8be279cb",
   "metadata": {},
   "outputs": [],
   "source": [
    "passengers"
   ]
  },
  {
   "cell_type": "markdown",
   "id": "aeaded2f",
   "metadata": {},
   "source": [
    "# question D\n",
    "\n",
    "are variables correlating?"
   ]
  },
  {
   "cell_type": "code",
   "execution_count": null,
   "id": "41208ad7",
   "metadata": {},
   "outputs": [],
   "source": [
    "passengers.corr()"
   ]
  },
  {
   "cell_type": "code",
   "execution_count": null,
   "id": "a3a98d5b",
   "metadata": {},
   "outputs": [],
   "source": [
    "passengers.isnull().Age.mean()"
   ]
  },
  {
   "cell_type": "code",
   "execution_count": null,
   "id": "07527e96",
   "metadata": {},
   "outputs": [],
   "source": [
    "passengers[ passengers.Age.isnull() ]"
   ]
  },
  {
   "cell_type": "code",
   "execution_count": null,
   "id": "4fc2f383",
   "metadata": {},
   "outputs": [],
   "source": [
    "passengers.Age.fillna(value = passengers.Age.mean() )"
   ]
  },
  {
   "cell_type": "code",
   "execution_count": null,
   "id": "bf21de2a",
   "metadata": {},
   "outputs": [],
   "source": []
  },
  {
   "cell_type": "code",
   "execution_count": null,
   "id": "44de844b",
   "metadata": {},
   "outputs": [],
   "source": []
  },
  {
   "cell_type": "code",
   "execution_count": null,
   "id": "b16654db",
   "metadata": {},
   "outputs": [],
   "source": []
  },
  {
   "cell_type": "markdown",
   "id": "14436257",
   "metadata": {},
   "source": [
    "# Question E\n",
    "\n",
    "Q: Can we use simple Machine learning to fill in miossing data (eg. Age)\n",
    "A: (this was just an experiment) After turning the categorical values into numbers, we used Linear Regression to predict Age."
   ]
  },
  {
   "cell_type": "code",
   "execution_count": null,
   "id": "222aaf2e",
   "metadata": {},
   "outputs": [],
   "source": [
    "from sklearn.linear_model import LinearRegression"
   ]
  },
  {
   "cell_type": "code",
   "execution_count": null,
   "id": "78625241",
   "metadata": {},
   "outputs": [],
   "source": [
    "passengers[ passengers.Embarked.isnull()]\n",
    "\n",
    "passengersCat.Embarked.value_counts()"
   ]
  },
  {
   "cell_type": "code",
   "execution_count": null,
   "id": "918c7070",
   "metadata": {},
   "outputs": [],
   "source": [
    "# make categorical variables actually categorical\n",
    "passengersCat = passengers.copy()\n",
    "passengersCat.Sex = passengersCat.Sex.map({'male':0, 'female':1})\n",
    "passengersCat.Embarked = passengersCat.Embarked.map({'C':0, 'S':1, 'Q':2}).fillna(3)\n",
    "passengersCat.info()"
   ]
  },
  {
   "cell_type": "code",
   "execution_count": null,
   "id": "52664cf5",
   "metadata": {},
   "outputs": [],
   "source": [
    "lr  = LinearRegression()\n",
    "\n",
    "passWithAge = passengersCat[ passengersCat.Age.isnull() == False ].copy()\n",
    "passWithoutAge = passengersCat[ passengersCat.Age.isnull() == True ].copy()\n",
    "\n",
    "train_x = passWithAge[ ['Pclass', 'Sex', 'Fare', 'Embarked', 'PassengerId'] ]\n",
    "train_y = passWithAge.Age\n",
    "\n",
    "lr.fit( train_x, train_y )\n",
    "\n",
    "test_x = passWithoutAge[ ['Pclass', 'Sex', 'Fare', 'Embarked', 'PassengerId']]\n",
    "\n",
    "test_y = lr.predict(test_x)\n",
    "passWithoutAge.Age = test_y.round(0)"
   ]
  },
  {
   "cell_type": "code",
   "execution_count": null,
   "id": "7a5172f2",
   "metadata": {},
   "outputs": [],
   "source": [
    "passWithoutAge.head(20)"
   ]
  },
  {
   "cell_type": "code",
   "execution_count": null,
   "id": "0d9d9564",
   "metadata": {},
   "outputs": [],
   "source": []
  },
  {
   "cell_type": "code",
   "execution_count": null,
   "id": "2be487f5",
   "metadata": {},
   "outputs": [],
   "source": []
  }
 ],
 "metadata": {
  "kernelspec": {
   "display_name": "Python 3 (ipykernel)",
   "language": "python",
   "name": "python3"
  },
  "language_info": {
   "codemirror_mode": {
    "name": "ipython",
    "version": 3
   },
   "file_extension": ".py",
   "mimetype": "text/x-python",
   "name": "python",
   "nbconvert_exporter": "python",
   "pygments_lexer": "ipython3",
   "version": "3.9.7"
  }
 },
 "nbformat": 4,
 "nbformat_minor": 5
}
