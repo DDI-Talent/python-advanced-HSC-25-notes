{
 "cells": [
  {
   "cell_type": "markdown",
   "id": "b96704a9",
   "metadata": {},
   "source": [
    "## Starting Code"
   ]
  },
  {
   "cell_type": "code",
   "execution_count": null,
   "id": "1740aaa6",
   "metadata": {},
   "outputs": [],
   "source": [
    "# experimental: you can run this cell to see your code full-width\n",
    "from IPython.display import display, HTML\n",
    "display(HTML(\"<style>.container { width:100% !important; }</style>\"))"
   ]
  },
  {
   "cell_type": "code",
   "execution_count": null,
   "id": "2a61dd9e",
   "metadata": {},
   "outputs": [],
   "source": [
    "#  run this cell without changing it. It only works on Noteable.\n",
    "! printf \"\\n\\nLink below can be send to someone to share your Noteable session:\\n\\nhttps://noteable.edina.ac.uk/user/$(jupyter notebook list | grep -oP '(?<=user\\/).*(?=\\/\\?)' )/tree?token=$( jupyter notebook list | grep -oP '(?<=token=).*(?= ::)' )\\n\\n\""
   ]
  },
  {
   "cell_type": "code",
   "execution_count": null,
   "id": "eeeb7919",
   "metadata": {},
   "outputs": [],
   "source": [
    "# the usual imports\n",
    "from plotly.subplots import make_subplots\n",
    "import plotly.graph_objects as go\n",
    "\n",
    "import pprint as pp\n",
    "from datetime import datetime, timedelta, date, timezone\n",
    "import json\n",
    "\n",
    "import pandas as pd\n",
    "import numpy as np"
   ]
  },
  {
   "cell_type": "code",
   "execution_count": null,
   "id": "63a64500",
   "metadata": {},
   "outputs": [],
   "source": [
    "import plotly.graph_objects as go"
   ]
  },
  {
   "cell_type": "code",
   "execution_count": null,
   "id": "7a557fba",
   "metadata": {},
   "outputs": [],
   "source": [
    "url = \"https://www.opendata.nhs.scot/dataset/75cca0a9-780d-40e0-9e1f-5f4796950794/resource/4ee7dc84-ca65-455c-9e76-b614091f389f/download/file1_average_weekly_charges.csv\""
   ]
  },
  {
   "cell_type": "code",
   "execution_count": null,
   "id": "2794dc4e",
   "metadata": {},
   "outputs": [],
   "source": [
    "care_home_charges = pd.read_csv(url)"
   ]
  },
  {
   "cell_type": "code",
   "execution_count": null,
   "id": "a7af0a0c",
   "metadata": {},
   "outputs": [],
   "source": [
    "care_home_charges.head()"
   ]
  },
  {
   "cell_type": "code",
   "execution_count": null,
   "id": "13fc3cf9",
   "metadata": {},
   "outputs": [],
   "source": [
    "set(care_home_charges[\"KeyStatistic\"])"
   ]
  },
  {
   "cell_type": "code",
   "execution_count": null,
   "id": "e4551bee",
   "metadata": {},
   "outputs": [],
   "source": [
    "care_home_charges_small = care_home_charges[[\"Date\", \"KeyStatistic\", \"CA\", \"Value\"]]\n",
    "care_home_charges_small.head()"
   ]
  },
  {
   "cell_type": "markdown",
   "id": "99dc74e0",
   "metadata": {},
   "source": [
    "### Making wider"
   ]
  },
  {
   "cell_type": "code",
   "execution_count": null,
   "id": "7a6f4568",
   "metadata": {},
   "outputs": [],
   "source": [
    "# make care_home_charges into wide format\n",
    "care_home_charges_wide = care_home_charges.pivot(index = [\"Date\", \"CA\"], columns = \"KeyStatistic\", values = \"Value\")\n",
    "care_home_charges_wide"
   ]
  },
  {
   "cell_type": "code",
   "execution_count": null,
   "id": "d0cc8c0f",
   "metadata": {},
   "outputs": [],
   "source": [
    "care_home_charges_wide.columns.values.tolist()"
   ]
  },
  {
   "cell_type": "code",
   "execution_count": null,
   "id": "76deb876",
   "metadata": {},
   "outputs": [],
   "source": [
    "set(care_home_charges[\"KeyStatistic\"])"
   ]
  },
  {
   "cell_type": "code",
   "execution_count": null,
   "id": "a3df4854",
   "metadata": {},
   "outputs": [],
   "source": [
    "# selecting in wide format\n",
    "care_home_charges_wide[\"Average Gross Weekly Charge for Self Funded Without Nursing Care\"].values.tolist()"
   ]
  },
  {
   "cell_type": "code",
   "execution_count": null,
   "id": "1e3662e5",
   "metadata": {},
   "outputs": [],
   "source": [
    "# selecting in long format\n",
    "care_home_charges[care_home_charges[\"KeyStatistic\"] == \"Average Gross Weekly Charge for Self Funded Without Nursing Care\"]"
   ]
  },
  {
   "cell_type": "code",
   "execution_count": null,
   "id": "7a3185f0",
   "metadata": {},
   "outputs": [],
   "source": [
    "care_home_charges[care_home_charges[\"KeyStatistic\"] == \"Average Gross Weekly Charge for Self Funded Without Nursing Care\"][\"Value\"]"
   ]
  },
  {
   "cell_type": "code",
   "execution_count": null,
   "id": "08f23380",
   "metadata": {},
   "outputs": [],
   "source": [
    "care_home_charges_wide[\"Average Gross Weekly Charge for Self Funded Without Nursing Care\"]"
   ]
  },
  {
   "cell_type": "code",
   "execution_count": null,
   "id": "4e2b1132",
   "metadata": {},
   "outputs": [],
   "source": [
    "care_home_charges_wide_sorted = care_home_charges_wide.sort_values([\"CA\",\"Date\"])\n",
    "care_home_charges_wide_sorted[\"Average Gross Weekly Charge for Self Funded Without Nursing Care\"].values.tolist()"
   ]
  },
  {
   "cell_type": "markdown",
   "id": "e0aa5251",
   "metadata": {},
   "source": [
    "### Manipulating"
   ]
  },
  {
   "cell_type": "code",
   "execution_count": null,
   "id": "e80d0f6c",
   "metadata": {},
   "outputs": [],
   "source": [
    "care_home_charges_wide.columns"
   ]
  },
  {
   "cell_type": "code",
   "execution_count": null,
   "id": "166972fd",
   "metadata": {},
   "outputs": [],
   "source": [
    "care_home_charges_wide.columns = care_home_charges_wide.columns.str.replace(\"Average Gross Weekly Charge for \",\"\")"
   ]
  },
  {
   "cell_type": "code",
   "execution_count": null,
   "id": "cab8b655",
   "metadata": {},
   "outputs": [],
   "source": [
    "care_home_charges_wide.head()"
   ]
  },
  {
   "cell_type": "code",
   "execution_count": null,
   "id": "84774f53",
   "metadata": {},
   "outputs": [],
   "source": [
    "care_home_charges_wide = care_home_charges_wide.add_suffix(\" (GBP)\")\n",
    "care_home_charges_wide"
   ]
  },
  {
   "cell_type": "code",
   "execution_count": null,
   "id": "9fb85e37",
   "metadata": {},
   "outputs": [],
   "source": [
    "# sum for all of Scotland\n",
    "\n",
    "care_home_charges_scot = care_home_charges_wide.groupby(\"Date\").sum()\n",
    "care_home_charges_scot"
   ]
  },
  {
   "cell_type": "markdown",
   "id": "32d711e2",
   "metadata": {},
   "source": [
    "### Plot"
   ]
  },
  {
   "cell_type": "code",
   "execution_count": null,
   "id": "2bf4767b",
   "metadata": {},
   "outputs": [],
   "source": [
    "# spider plot\n",
    "\n",
    "fig = go.Figure()\n",
    "\n",
    "fig.add_trace(go.Scatterpolar(\n",
    "    r = care_home_charges_scot.iloc[0].tolist(),\n",
    "    theta = care_home_charges_scot.columns.values.tolist(),\n",
    "    fill = \"toself\",\n",
    "    name = str(care_home_charges_scot.index[0]).replace(\"0331\",\"\")\n",
    "))\n",
    "\n",
    "fig.show()\n"
   ]
  },
  {
   "cell_type": "code",
   "execution_count": null,
   "id": "680492a4",
   "metadata": {},
   "outputs": [],
   "source": [
    "care_home_charges_scot.iloc[0].tolist()"
   ]
  },
  {
   "cell_type": "code",
   "execution_count": null,
   "id": "9e64217d",
   "metadata": {},
   "outputs": [],
   "source": [
    "care_home_charges_scot.columns.values.tolist()"
   ]
  },
  {
   "cell_type": "code",
   "execution_count": null,
   "id": "53c4f869",
   "metadata": {},
   "outputs": [],
   "source": [
    "care_home_charges_scot.index[0]"
   ]
  },
  {
   "cell_type": "code",
   "execution_count": null,
   "id": "0a737668",
   "metadata": {},
   "outputs": [],
   "source": [
    "# spider plot with 2 years\n",
    "\n",
    "fig = go.Figure()\n",
    "\n",
    "fig.add_trace(go.Scatterpolar(\n",
    "    r = care_home_charges_scot.iloc[0].tolist(),\n",
    "    theta = care_home_charges_scot.columns.values.tolist(),\n",
    "    fill = \"toself\",\n",
    "    name = str(care_home_charges_scot.index[0]).replace(\"0331\",\"\")\n",
    "))\n",
    "\n",
    "fig.add_trace(go.Scatterpolar(\n",
    "    r = care_home_charges_scot.iloc[1].tolist(),\n",
    "    theta = care_home_charges_scot.columns.values.tolist(),\n",
    "    fill = \"toself\",\n",
    "    name = str(care_home_charges_scot.index[1]).replace(\"0331\",\"\")\n",
    "))\n",
    "\n",
    "fig.show()"
   ]
  },
  {
   "cell_type": "code",
   "execution_count": null,
   "id": "0eb5b397",
   "metadata": {},
   "outputs": [],
   "source": [
    "# spider plot with all years\n",
    "\n",
    "fig = go.Figure()\n",
    "\n",
    "for year_i in range(0, len(care_home_charges_scot)):\n",
    "    fig.add_trace(go.Scatterpolar(\n",
    "        r = care_home_charges_scot.iloc[year_i].tolist(),\n",
    "        theta = care_home_charges_scot.columns.values.tolist(),\n",
    "        fill = \"toself\",\n",
    "        name = str(care_home_charges_scot.index[year_i]).replace(\"0331\",\"\")\n",
    "    ))\n",
    "\n",
    "\n",
    "fig.show()"
   ]
  },
  {
   "cell_type": "code",
   "execution_count": null,
   "id": "63634ccb",
   "metadata": {},
   "outputs": [],
   "source": [
    "len(care_home_charges_scot)"
   ]
  },
  {
   "cell_type": "markdown",
   "id": "cebb4a3c",
   "metadata": {},
   "source": [
    "### Percentage"
   ]
  },
  {
   "cell_type": "code",
   "execution_count": null,
   "id": "91f3641f",
   "metadata": {},
   "outputs": [],
   "source": [
    "care_home_charges_scot"
   ]
  },
  {
   "cell_type": "code",
   "execution_count": null,
   "id": "12c1ad37",
   "metadata": {},
   "outputs": [],
   "source": [
    "care_home_charges_scot[\"Annual total\"] = care_home_charges_scot.sum(axis = 1)"
   ]
  },
  {
   "cell_type": "code",
   "execution_count": null,
   "id": "0061cf50",
   "metadata": {},
   "outputs": [],
   "source": [
    "care_home_charges_scot.sum(axis = 1)"
   ]
  },
  {
   "cell_type": "code",
   "execution_count": null,
   "id": "592d1fea",
   "metadata": {},
   "outputs": [],
   "source": [
    "care_home_charges_scot"
   ]
  },
  {
   "cell_type": "code",
   "execution_count": null,
   "id": "cca255ba",
   "metadata": {},
   "outputs": [],
   "source": [
    "care_home_charges_scot_perc = care_home_charges_scot.div(care_home_charges_scot[\"Annual total\"], axis = 0)\n",
    "care_home_charges_scot_perc"
   ]
  },
  {
   "cell_type": "code",
   "execution_count": null,
   "id": "e164ff64",
   "metadata": {},
   "outputs": [],
   "source": [
    "care_home_charges_scot_perc = care_home_charges_scot_perc.drop(columns = \"Annual total\")\n",
    "care_home_charges_scot_perc"
   ]
  },
  {
   "cell_type": "code",
   "execution_count": null,
   "id": "a40fe6f0",
   "metadata": {},
   "outputs": [],
   "source": [
    "care_home_charges_scot_perc"
   ]
  },
  {
   "cell_type": "code",
   "execution_count": null,
   "id": "659f1999",
   "metadata": {},
   "outputs": [],
   "source": [
    "# spider plot (percentage in 2010)\n",
    "\n",
    "fig = go.Figure()\n",
    "\n",
    "fig.add_trace(go.Scatterpolar(\n",
    "    r = care_home_charges_scot_perc.iloc[0].tolist(),\n",
    "    theta = care_home_charges_scot_perc.columns.values.tolist(),\n",
    "    fill = \"toself\",\n",
    "    name = str(care_home_charges_scot_perc.index[0]).replace(\"0331\",\"\")\n",
    "))\n",
    "\n",
    "fig.show()\n"
   ]
  },
  {
   "cell_type": "code",
   "execution_count": null,
   "id": "f8206331",
   "metadata": {},
   "outputs": [],
   "source": [
    "# spider plot with all years (percentage)\n",
    "\n",
    "fig = go.Figure()\n",
    "\n",
    "for year_i in range(0, len(care_home_charges_scot)):\n",
    "    fig.add_trace(go.Scatterpolar(\n",
    "        r = care_home_charges_scot_perc.iloc[year_i].tolist(),\n",
    "        theta = care_home_charges_scot_perc.columns.values.tolist(),\n",
    "        fill = \"toself\",\n",
    "        name = str(care_home_charges_scot_perc.index[year_i]).replace(\"0331\",\"\")\n",
    "    ))\n",
    "\n",
    "\n",
    "fig.show()"
   ]
  },
  {
   "cell_type": "code",
   "execution_count": null,
   "id": "6bd63d8f",
   "metadata": {},
   "outputs": [],
   "source": []
  },
  {
   "cell_type": "code",
   "execution_count": null,
   "id": "c8feba56",
   "metadata": {},
   "outputs": [],
   "source": []
  }
 ],
 "metadata": {
  "kernelspec": {
   "display_name": "Python 3 (ipykernel)",
   "language": "python",
   "name": "python3"
  },
  "language_info": {
   "codemirror_mode": {
    "name": "ipython",
    "version": 3
   },
   "file_extension": ".py",
   "mimetype": "text/x-python",
   "name": "python",
   "nbconvert_exporter": "python",
   "pygments_lexer": "ipython3",
   "version": "3.9.12"
  }
 },
 "nbformat": 4,
 "nbformat_minor": 5
}
