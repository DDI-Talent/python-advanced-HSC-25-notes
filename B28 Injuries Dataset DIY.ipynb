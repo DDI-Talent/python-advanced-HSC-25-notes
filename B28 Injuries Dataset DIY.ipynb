{
 "cells": [
  {
   "cell_type": "markdown",
   "id": "661a7e17",
   "metadata": {},
   "source": [
    "# Unintentional Injuries Dataset\n",
    "\n",
    "Summary of admissions to hospital and deaths in Scotland from unintentional injuries and assaults.\n",
    "\n",
    "\n",
    "This dataset has 2 files: Admissions and Deaths. go to the source website to read more abotu it: https://www.opendata.nhs.scot/gl/dataset/unintentional-injuries\n",
    "\n",
    "#### Your task is straightforward: \n",
    "\n",
    "1. Explore this dataset using Pandas.\n",
    "2. Itentify and answer 5 questions in the notebook below\n",
    "\n",
    "#### For EACH question should have following components:\n",
    "\n",
    "- clear statement of the question (1 sentence)\n",
    "- code which investigates your question in the dataset\n",
    "- clear answer to the question (2-3 sentences)\n",
    "- visualisation (can be very simple and can be anything: print, Pandas table, graph)\n",
    "\n",
    "Remember these do not have to be complicated or long. It's just for practice. You will get feedback on your submission.\n",
    "\n",
    "Next wednesday in during the labs each of you will present for 5-10 minutes what you achieved. You will share your screen and show everyone else what you prepared.\n",
    "\n",
    "- just show your notebook, with questions, code and graphs (no need for slides or anything else)\n",
    "- Between 5 and 10 minutes is not a long time, so you might chose to presend only 2-3 of your questions. Or show all of them but focus on your favourite. You decide what you'll do with your presenting time.\n",
    "- this is not marked but you will get feedback about your code, questions and visualisation. This type of question-answering will be a part of the final assignment, so this feedback will be useful\n",
    "\n",
    "For people who cannot attend the Wednesday session on week 3:\n",
    "\n",
    "- complete this notebook with 5 questions as everyone else\n",
    "- pick your favourite 2 questions and post the answer (code, writings and visualisation) in Learn Forum for \"Formative Assignment\". This will replace your presenting during the lab. Please do it by the end of last lab (Wednesday Week 3, 8pm). We will take a few days to give you feedback."
   ]
  },
  {
   "cell_type": "code",
   "execution_count": null,
   "id": "e4d93333",
   "metadata": {},
   "outputs": [],
   "source": [
    "# load the data\n",
    "import pandas as pd\n",
    "\n",
    "# this is how you would load them from the internet:  this might take a while, because files are large. \n",
    "# admissions_df = pd.read_csv('https://www.opendata.nhs.scot/dataset/b0135993-3d8a-4f3b-afcf-e01f4d52137c/resource/aee43295-2a13-48f6-bf05-92769ca7c6cf/download/ui_admissions_2022.csv')\n",
    "# deaths_df = pd.read_csv('https://www.opendata.nhs.scot/dataset/b0135993-3d8a-4f3b-afcf-e01f4d52137c/resource/89807e07-fc5f-4b5e-a077-e4cf59491139/download/ui_deaths_-2022-.csv')\n",
    "\n",
    "# so let's just load them from a file:\n",
    "admissions_df = pd.read_csv('./data/ui_admissions_2022.csv')\n",
    "deaths_df = pd.read_csv('./data/ui_deaths_-2022.csv')\n"
   ]
  },
  {
   "cell_type": "code",
   "execution_count": null,
   "id": "fa0159ac",
   "metadata": {},
   "outputs": [],
   "source": [
    "admissions_df"
   ]
  },
  {
   "cell_type": "code",
   "execution_count": null,
   "id": "1bfb1ff6",
   "metadata": {},
   "outputs": [],
   "source": [
    "deaths_df"
   ]
  },
  {
   "cell_type": "markdown",
   "id": "e11a336f",
   "metadata": {},
   "source": [
    "**OK, good luck!**\n",
    "\n",
    "remember to clearly identify **which question** is which (A,B,C,D,E) and **each question's parts** (question, answer, code, visualisation)"
   ]
  }
 ],
 "metadata": {
  "kernelspec": {
   "display_name": "base",
   "language": "python",
   "name": "python3"
  },
  "language_info": {
   "codemirror_mode": {
    "name": "ipython",
    "version": 3
   },
   "file_extension": ".py",
   "mimetype": "text/x-python",
   "name": "python",
   "nbconvert_exporter": "python",
   "pygments_lexer": "ipython3",
   "version": "3.12.4"
  }
 },
 "nbformat": 4,
 "nbformat_minor": 5
}
