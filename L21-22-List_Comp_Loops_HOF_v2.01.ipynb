{
 "cells": [
  {
   "cell_type": "markdown",
   "metadata": {},
   "source": [
    "# Lab for badges 21 - 23 - List Comprehensions, Loops, Higher Order Functions\n",
    "\n",
    "In this lab you will be asked to perform a number of tasks THREE TIMES. First time with list comprehensions, then with loops, then with Higher Order Functions. Tasks will not be hard, and will build on each other. Hopefully you will see common simmilarities and differences between two above methods."
   ]
  },
  {
   "cell_type": "markdown",
   "metadata": {},
   "source": [
    "### List Comprehension:\n",
    "\n",
    "- takes an original (input) list and returns a different list. It ALWAYS returns a list\n",
    "- can filter the input list, and keep just some items of it, with **if** conditional\n",
    "- can modify/map/represent each items that you mean to keep\n",
    "- it DOES NOT really 'go through each item in a list one at a time', it changes them all at once, and only the ones that you accepted in the if statement. (that's why you cannot 'do things' inside of it eg. print, assign, or change anything)."
   ]
  },
  {
   "cell_type": "markdown",
   "metadata": {},
   "source": [
    "### Loop:\n",
    "\n",
    "- runs some code, a number of times\n",
    "- in each loop it gives you access to ONE ITEM of a collection, so that you can do something with this item\n",
    "- it does not return anything, you have to take care of returning, collecting or combining things\n",
    "- you can DO things inside it, like assign, change or print.\n",
    "\n",
    "For most applications list comprehension is simpler and faster, but a loop is more flexible and gives you more fine control. If you learn how to solve problems with both methods, you will really advance yoru understanding of what programming is."
   ]
  },
  {
   "cell_type": "markdown",
   "metadata": {},
   "source": [
    "### Higher Order Function:\n",
    "\n",
    "- performs a function FOR YOU, on each item of a list\n",
    "- depending on what you are trying to do (reduce, map, filter, map) you need to use an appropriate 'runner' function\n",
    "- you need to specify what operation should be used to reduce, map, filter, map - this can be a lambda function, or just a normal function you defined\n",
    "- often result is a 'special sort-of list' so you might need to force it into a typical list format at the end with `list()` \n",
    "\n",
    "Higher Order Function is best if you are perfroming a typical operation. They are often shortest to write, and least buggy, once you know how to use them."
   ]
  },
  {
   "cell_type": "markdown",
   "metadata": {},
   "source": [
    "### Adjusting the result format\n",
    "\n",
    "Notiuce that most of the time you are required to provide the result in a specific format.\n",
    "\n",
    "- to get lengths of a list use `len(fruits)`\n",
    "- to get a True False use comparators like `len(fruits) > 0`\n",
    "- to get a unique results use `list(set(fruits))`\n",
    "- to get a some element of a bigger object use `fruit['name']`"
   ]
  },
  {
   "cell_type": "markdown",
   "metadata": {},
   "source": [
    "# Recap"
   ]
  },
  {
   "cell_type": "code",
   "execution_count": null,
   "metadata": {},
   "outputs": [],
   "source": [
    "# look at the examples below - do you understand what they do? \n",
    "# can you change them slightly so that they do something else?\n",
    "\n",
    "words = [\"apple\", \"banana\", \"plum\", \"beetroot\",\"kiwi\"]\n",
    "\n",
    "lengths_of_words = [\n",
    "    len(word)\n",
    "    for word in words\n",
    "]\n",
    "\n",
    "print(lengths_of_words)"
   ]
  },
  {
   "cell_type": "code",
   "execution_count": null,
   "metadata": {},
   "outputs": [],
   "source": [
    "lengths_of_words_starting_with_b = [\n",
    "    len(word)\n",
    "    for word in words\n",
    "    if word[0] == \"b\"\n",
    "]\n",
    "\n",
    "print(lengths_of_words_starting_with_b)"
   ]
  },
  {
   "cell_type": "code",
   "execution_count": null,
   "metadata": {},
   "outputs": [],
   "source": [
    "words_starting_with_b = [\n",
    "    word\n",
    "    for word in words\n",
    "    if word[0] == \"b\"\n",
    "]\n",
    "\n",
    "print(words_starting_with_b)"
   ]
  },
  {
   "cell_type": "code",
   "execution_count": null,
   "metadata": {},
   "outputs": [],
   "source": [
    "students = [{'name':'Prianka', 'surname':'Mathews'},\n",
    "           {'name':'Natasha', 'surname':'McColl'}]\n",
    "first_names_of_students = [\n",
    "    student['name']\n",
    "    for student in students\n",
    "]\n",
    "\n",
    "print(first_names_of_students)"
   ]
  },
  {
   "cell_type": "code",
   "execution_count": null,
   "metadata": {},
   "outputs": [
    {
     "name": "stdout",
     "output_type": "stream",
     "text": [
      "['dog', 'cat']\n"
     ]
    }
   ],
   "source": [
    "students = [{'name':'Prianka', 'surname':'Mathews', 'pets': ['fish', 'tortoise','cat']},\n",
    "           {'name':'Natasha', 'surname':'McColl', 'pets': ['dog']},\n",
    "           {'name':'Bianka', 'surname':'Ng', 'pets': []},\n",
    "           {'name':'Pim', 'surname':'Kowalska', 'pets': ['cat']}]\n",
    "\n",
    "names_of_first_pet_if_they_have_only_one = [\n",
    "    student['pets'][0]\n",
    "    for student in students\n",
    "    if len(student['pets']) == 1\n",
    "]\n",
    "\n",
    "print(names_of_first_pet_if_they_have_only_one)"
   ]
  },
  {
   "cell_type": "code",
   "execution_count": null,
   "metadata": {},
   "outputs": [],
   "source": [
    "# and a catchup on Higher Order Functions, if you made it that far:\n",
    "students = [{'name':'Prianka', 'surname':'Mathews', 'pets': ['fish', 'tortoise','cat']},\n",
    "           {'name':'Natasha', 'surname':'McColl', 'pets': ['dog']},\n",
    "           {'name':'Bianka', 'surname':'Ng', 'pets': []},\n",
    "           {'name':'Pim', 'surname':'Kowalska', 'pets': ['cat']}]\n",
    "\n",
    "sentences = list( map( lambda person: f\"{person['name']} has {len(person['pets'])} pets\", students) )\n",
    "print(sentences)"
   ]
  },
  {
   "cell_type": "code",
   "execution_count": null,
   "metadata": {},
   "outputs": [],
   "source": [
    "\n",
    "# or a nicer version, with a named function, and a grammar fix for pet/pets:\n",
    "\n",
    "def sentence_about_someone(person):\n",
    "    plural_for_pet = \"pet\" if len(person['pets']) == 1 else \"pets\"\n",
    "    return f\"{person['name']} has {len(person['pets'])} {plural_for_pet}\" \n",
    "\n",
    "sentences = list( map( sentence_about_someone , students) )\n",
    "print(sentences)"
   ]
  },
  {
   "cell_type": "code",
   "execution_count": null,
   "metadata": {},
   "outputs": [],
   "source": [
    "# and a catchup on Higher Order Functions, if you made it that far:\n",
    "students = [{'name':'Prianka', 'surname':'Mathews', 'pets': ['fish', 'tortoise','cat']},\n",
    "           {'name':'Natasha', 'surname':'McColl', 'pets': ['dog']},\n",
    "           {'name':'Bianka', 'surname':'Ng', 'pets': []},\n",
    "           {'name':'Pim', 'surname':'Kowalska', 'pets': ['cat']}]\n",
    "\n",
    "sorted_students = list( sorted( students, key = lambda person: person['name']) ) # sort by first name\n",
    "print(sorted_students)"
   ]
  },
  {
   "cell_type": "code",
   "execution_count": null,
   "metadata": {},
   "outputs": [],
   "source": [
    "# filter\n",
    "students = [{'name':'Prianka', 'surname':'Mathews', 'pets': ['fish', 'tortoise','cat']},\n",
    "           {'name':'Natasha', 'surname':'McColl', 'pets': ['dog']},\n",
    "           {'name':'Bianka', 'surname':'Ng', 'pets': []},\n",
    "           {'name':'Pim', 'surname':'Kowalska', 'pets': ['cat']}]\n",
    "\n",
    "students_with_1_pet = list( filter(lambda person: len(person['pets'])==1, students) )\n",
    "print(students_with_1_pet)"
   ]
  },
  {
   "cell_type": "code",
   "execution_count": 2,
   "metadata": {},
   "outputs": [
    {
     "name": "stdout",
     "output_type": "stream",
     "text": [
      "5\n"
     ]
    }
   ],
   "source": [
    "# reduce\n",
    "from functools import reduce\n",
    "# filter\n",
    "students = [{'name':'Prianka', 'surname':'Mathews', 'pets': ['fish', 'tortoise','cat']},\n",
    "           {'name':'Natasha', 'surname':'McColl', 'pets': ['dog']},\n",
    "           {'name':'Bianka', 'surname':'Ng', 'pets': []},\n",
    "           {'name':'Pim', 'surname':'Kowalska', 'pets': ['cat']}]\n",
    "\n",
    "count_of_pets = reduce(lambda pets_so_far, person: pets_so_far + len(person['pets']), students, 0)  # 0 here means, start with 0\n",
    "print(count_of_pets)\n",
    "\n",
    "# notice: lambda function above takes 2 things. count so far (starting with 0) and the person Dict\n"
   ]
  },
  {
   "cell_type": "code",
   "execution_count": 3,
   "metadata": {},
   "outputs": [
    {
     "name": "stdout",
     "output_type": "stream",
     "text": [
      "5\n"
     ]
    }
   ],
   "source": [
    "\n",
    "# you could write it like this, with a named function:\n",
    "\n",
    "def add_persons_pets_count(count_so_far, person):\n",
    "    return  count_so_far + len(person['pets'])\n",
    "\n",
    "count_of_pets = reduce(add_persons_pets_count, students, 0)\n",
    "print(count_of_pets)\n"
   ]
  },
  {
   "cell_type": "code",
   "execution_count": null,
   "metadata": {},
   "outputs": [],
   "source": [
    "# and this is how you would get names of pets, instead of the count\n",
    "students = [{'name':'Prianka', 'surname':'Mathews', 'pets': ['fish', 'tortoise','cat']},\n",
    "           {'name':'Natasha', 'surname':'McColl', 'pets': ['dog']},\n",
    "           {'name':'Bianka', 'surname':'Ng', 'pets': []},\n",
    "           {'name':'Pim', 'surname':'Kowalska', 'pets': ['cat']}]\n",
    "\n",
    "def add_persons_pets_names(names_so_far, person):\n",
    "    return  names_so_far + person['pets']\n",
    "\n",
    "names_of_pets = reduce(add_persons_pets_names, students, []) # start with an empty list!\n",
    "print(names_of_pets)"
   ]
  },
  {
   "cell_type": "markdown",
   "metadata": {},
   "source": [
    "# Tasks: Solve each task first with List Comprehension, then with a For Loop:"
   ]
  },
  {
   "cell_type": "markdown",
   "metadata": {},
   "source": [
    "## Task 1 (Solved)\n",
    "\n",
    "Given a list of Strings, determine whether or not another String is in that list. Complete the `is_item_in_list` function to return True if `searched_thing` is in the list of `items`. Otherwise return False.\n",
    "\n",
    "```\n",
    "# example tests\n",
    "toys  = [\"car\",\"dinosaur\",\"doll\",\"watering can\",\"flower\", \"car\"]\n",
    "assert is_item_in_list(toys, \"watering can\") == True\n",
    "assert is_item_in_list(toys, \"robot\") == False\n",
    "```"
   ]
  },
  {
   "cell_type": "markdown",
   "metadata": {},
   "source": [
    "# a: List comprehension"
   ]
  },
  {
   "cell_type": "code",
   "execution_count": null,
   "metadata": {},
   "outputs": [],
   "source": [
    "def is_item_in_list(items, searched_thing):\n",
    "    items_like_the_searched_one = [ \n",
    "        item\n",
    "        for item in items\n",
    "        if item == searched_thing\n",
    "    ]                        \n",
    "    # then manipulate the output, so it is in a format you want (here it needs to be True or False)\n",
    "    return  len(items_like_the_searched_one) > 0"
   ]
  },
  {
   "cell_type": "code",
   "execution_count": null,
   "metadata": {},
   "outputs": [],
   "source": [
    "print(is_item_in_list([\"car\",\"dinosaur\",\"doll\"], \"dinosaur\"))"
   ]
  },
  {
   "cell_type": "code",
   "execution_count": null,
   "metadata": {},
   "outputs": [],
   "source": [
    "toys  = [\"car\", \"dinosaur\", \"doll\", \"watering can\", \"flower\", \"car\"]\n",
    "assert is_item_in_list(toys, \"watering can\") == True\n",
    "assert is_item_in_list(toys, \"robot\") == False\n",
    "assert is_item_in_list(toys, \"car\") == True\n",
    "print(\"all tests passed\")"
   ]
  },
  {
   "cell_type": "markdown",
   "metadata": {},
   "source": [
    "# b: For Loop\n",
    "\n",
    "Usual steps are: TAKE CODE OF LIST COMP AND ADAPT IT TO BE A LOOP. Remember:\n",
    "\n",
    "- indentation and :\n",
    "- order of lines\n",
    "- what are you returning?\n"
   ]
  },
  {
   "cell_type": "code",
   "execution_count": null,
   "metadata": {},
   "outputs": [],
   "source": [
    "def is_item_in_list(items, searched_thing):\n",
    "    items_like_the_searched_one = []\n",
    "    for item in items:\n",
    "        if item == searched_thing:\n",
    "            items_like_the_searched_one.append(item)\n",
    "    return  len(items_like_the_searched_one) > 0\n",
    "\n",
    "\n",
    "# note, you can also solve it in a more 'for-loopy way' (by stopping the loop when you already know the answer):\n",
    "def is_item_in_list(items, searched_thing):\n",
    "    for item in items:\n",
    "        if item == searched_thing:\n",
    "            return True # found it! no need to keep looking :)\n",
    "    return  False # checked everywhere, it was not there :("
   ]
  },
  {
   "cell_type": "code",
   "execution_count": null,
   "metadata": {},
   "outputs": [],
   "source": [
    "print(is_item_in_list([\"car\",\"dinosaur\",\"doll\"], \"dinosaur\"))"
   ]
  },
  {
   "cell_type": "code",
   "execution_count": null,
   "metadata": {},
   "outputs": [],
   "source": [
    "toys  = [\"car\",\"dinosaur\",\"doll\",\"watering can\",\"flower\", \"car\"]\n",
    "assert is_item_in_list(toys, \"watering can\") == True\n",
    "assert is_item_in_list(toys, \"robot\") == False\n",
    "assert is_item_in_list(toys, \"car\") == True\n",
    "print(\"all tests passed\")"
   ]
  },
  {
   "cell_type": "markdown",
   "metadata": {},
   "source": [
    "# C. Higher Order Function"
   ]
  },
  {
   "cell_type": "code",
   "execution_count": 9,
   "metadata": {},
   "outputs": [
    {
     "name": "stdout",
     "output_type": "stream",
     "text": [
      "True\n",
      "False\n"
     ]
    }
   ],
   "source": [
    "def is_item_in_list(items, searched_thing):\n",
    "    items_like_the_searched_one = list(filter(lambda item: item == searched_thing, items))\n",
    "    return   len(items_like_the_searched_one) > 0\n",
    "\n",
    "print(is_item_in_list([\"car\",\"dinosaur\",\"doll\"], \"dinosaur\"))\n",
    "print(is_item_in_list([\"car\",\"dinosaur\",\"doll\"], \"robot\"))\n"
   ]
  },
  {
   "cell_type": "code",
   "execution_count": 11,
   "metadata": {},
   "outputs": [
    {
     "name": "stdout",
     "output_type": "stream",
     "text": [
      "True\n",
      "False\n"
     ]
    }
   ],
   "source": [
    "\n",
    "# or with a named function, but notice it is a bit confusing\n",
    "def are_the_same(word1, word2):\n",
    "    return word1 == word2\n",
    "\n",
    "def is_item_in_list(items, searched_thing):\n",
    "    items_like_the_searched_one = list(filter(lambda item: are_the_same(item,searched_thing), items))\n",
    "    return   len(items_like_the_searched_one) > 0\n",
    "\n",
    "print(is_item_in_list([\"car\",\"dinosaur\",\"doll\"], \"dinosaur\"))\n",
    "print(is_item_in_list([\"car\",\"dinosaur\",\"doll\"], \"robot\"))"
   ]
  },
  {
   "cell_type": "code",
   "execution_count": null,
   "metadata": {},
   "outputs": [],
   "source": [
    "toys  = [\"car\",\"dinosaur\",\"doll\",\"watering can\",\"flower\", \"car\"]\n",
    "assert is_item_in_list(toys, \"watering can\") == True\n",
    "assert is_item_in_list(toys, \"robot\") == False\n",
    "assert is_item_in_list(toys, \"car\") == True\n",
    "print(\"all tests passed\")"
   ]
  },
  {
   "cell_type": "markdown",
   "metadata": {},
   "source": [
    "## Task 2\n",
    "\n",
    "Complete the function `how_many_pets_of_this_type_person_has`. It should return the number of pets of a given pet type. A person is represented as a dictionary wth their pets as a list. EG:\n",
    "\n",
    "```\n",
    "{\n",
    "    'name':'Prianka', \n",
    "    'surname':'Mathews', \n",
    "    'pets': ['fish', 'tortoise','dog']\n",
    "}\n",
    "```"
   ]
  },
  {
   "cell_type": "code",
   "execution_count": null,
   "metadata": {},
   "outputs": [],
   "source": [
    "# data:\n",
    "prianka = {'name':'Prianka', 'surname':'Mathews', 'pets': ['fish', 'tortoise','dog']}\n",
    "natasha = {'name':'Natasha', 'surname':'McColl', 'pets': ['cat','cat']}"
   ]
  },
  {
   "cell_type": "code",
   "execution_count": null,
   "metadata": {},
   "outputs": [],
   "source": [
    "# List Comp\n",
    "\n",
    "def how_many_pets_of_this_type_person_has(person_info, searched_pet_type):\n",
    "    #     your code here\n",
    "    return \"banana\"\n",
    "\n",
    "print(how_many_pets_of_this_type_person_has(prianka, \"fish\"))\n",
    "print(how_many_pets_of_this_type_person_has(prianka, \"fish\"))"
   ]
  },
  {
   "cell_type": "code",
   "execution_count": null,
   "metadata": {},
   "outputs": [],
   "source": [
    "# For Loop\n",
    "\n",
    "def how_many_pets_of_this_type_person_has(person_info, searched_pet_type):\n",
    "    #     your code here\n",
    "    return \"banana\"\n",
    "\n",
    "print(how_many_pets_of_this_type_person_has(prianka, \"fish\"))\n",
    "print(how_many_pets_of_this_type_person_has(prianka, \"fish\"))"
   ]
  },
  {
   "cell_type": "code",
   "execution_count": null,
   "metadata": {},
   "outputs": [],
   "source": [
    "# Higher Order Function\n",
    "\n",
    "def how_many_pets_of_this_type_person_has(person_info, searched_pet_type):\n",
    "    #     your code here\n",
    "    return \"banana\"\n",
    "\n",
    "print(how_many_pets_of_this_type_person_has(prianka, \"fish\"))\n",
    "print(how_many_pets_of_this_type_person_has(prianka, \"fish\"))"
   ]
  },
  {
   "cell_type": "markdown",
   "metadata": {},
   "source": [
    "## Task 3\n",
    "\n",
    "Complete the function `names_of_people_with_any_pets` that takes a list of people dictionaries and returns a list of the names of the people that have more than 0 pets."
   ]
  },
  {
   "cell_type": "code",
   "execution_count": 13,
   "metadata": {},
   "outputs": [],
   "source": [
    "#  data\n",
    "students = [{'name':'Prianka', 'surname':'Mathews', 'pets': ['fish', 'tortoise','cat']},\n",
    "            {'name':'Natasha', 'surname':'McColl', 'pets': ['dog']},\n",
    "            {'name':'Yola', 'surname':'Gonzales', 'pets': []}]\n",
    "\n",
    "staff =    [{'name':'Mick', 'surname':'Gonzales', 'pets': []},\n",
    "            {'name':'Pim', 'surname':'Kowalska', 'pets': ['cat', 'ferret']}]"
   ]
  },
  {
   "cell_type": "code",
   "execution_count": null,
   "metadata": {},
   "outputs": [
    {
     "name": "stdout",
     "output_type": "stream",
     "text": [
      "banana\n",
      "banana\n"
     ]
    }
   ],
   "source": [
    "# list comp\n",
    "\n",
    "def names_of_people_with_any_pets(people):\n",
    "    #     your code here\n",
    "    return \"banana\"\n",
    "\n",
    "print(names_of_people_with_any_pets(students))\n",
    "print(names_of_people_with_any_pets(staff))"
   ]
  },
  {
   "cell_type": "code",
   "execution_count": null,
   "metadata": {},
   "outputs": [],
   "source": [
    "# For loop\n",
    "\n",
    "def names_of_people_with_any_pets(people):\n",
    "    #     your code here\n",
    "    return \"banana\"\n",
    "\n",
    "print(names_of_people_with_any_pets(students))\n",
    "print(names_of_people_with_any_pets(staff))"
   ]
  },
  {
   "cell_type": "code",
   "execution_count": null,
   "metadata": {},
   "outputs": [],
   "source": [
    "# Higher Order Function\n",
    "\n",
    "def names_of_people_with_any_pets(people):\n",
    "    #     your code here\n",
    "    return \"banana\"\n",
    "\n",
    "print(names_of_people_with_any_pets(students))\n",
    "print(names_of_people_with_any_pets(staff))\n",
    "\n",
    "assert names_of_people_with_any_pets(students) == ['Prianka', 'Natasha']\n",
    "assert names_of_people_with_any_pets(staff) == ['Pim']\n",
    "print(\"all tests passed\")"
   ]
  },
  {
   "cell_type": "markdown",
   "metadata": {},
   "source": [
    "## Task 4\n",
    "\n",
    "Complex operation on a list of Dictionaries, based on a value.\n",
    "\n",
    "Here we will use the idea of a deck of playing cards. Each card has a suit (♠️♣️♥️♦️) and a rank (2,3,4,5... 9,J,Q,K,A). You will be given some cards and asked to do something with them.\n",
    "\n",
    "Each card is described as a Dictionary, so for example Ace of spades is described as `{\"suit\":\"Spade\", \"rank\":\"A\"}`\n"
   ]
  },
  {
   "cell_type": "code",
   "execution_count": 15,
   "metadata": {},
   "outputs": [],
   "source": [
    "# data\n",
    "h7 = {\"suit\":\"Heart\", \"rank\":\"7\"}\n",
    "h8 = {\"suit\":\"Heart\", \"rank\":\"8\"}\n",
    "cq = {\"suit\":\"Club\", \"rank\":\"Q\"}\n",
    "ca = {\"suit\":\"Club\", \"rank\":\"A\"}\n",
    "c2 = {\"suit\":\"Club\", \"rank\":\"2\"}\n",
    "d7 = {\"suit\":\"Diamond\", \"rank\":\"7\"}\n",
    "\n",
    "all_cards = [h7,h8,cq,ca,c2,d7] \n",
    "just_sevens = [h7,d7] "
   ]
  },
  {
   "cell_type": "code",
   "execution_count": null,
   "metadata": {},
   "outputs": [
    {
     "name": "stdout",
     "output_type": "stream",
     "text": [
      "banana\n",
      "banana\n",
      "banana\n"
     ]
    }
   ],
   "source": [
    "# List Comp\n",
    "\n",
    "def number_of_cards_of_this_suit(cards, some_suit):\n",
    "    # YOUR CODE GOES HERE\n",
    "    return \"banana\"\n",
    "print(number_of_cards_of_this_suit(all_cards, \"Heart\"))\n",
    "print(number_of_cards_of_this_suit(just_sevens, \"Heart\"))\n",
    "print(number_of_cards_of_this_suit(all_cards, \"Spade\"))"
   ]
  },
  {
   "cell_type": "code",
   "execution_count": 18,
   "metadata": {},
   "outputs": [
    {
     "name": "stdout",
     "output_type": "stream",
     "text": [
      "banana\n",
      "banana\n",
      "banana\n"
     ]
    }
   ],
   "source": [
    "# For loop\n",
    "\n",
    "def number_of_cards_of_this_suit(cards, some_suit):\n",
    "    # YOUR CODE GOES HERE\n",
    "    return \"banana\"\n",
    "print(number_of_cards_of_this_suit(all_cards, \"Heart\"))\n",
    "print(number_of_cards_of_this_suit(just_sevens, \"Heart\"))\n",
    "print(number_of_cards_of_this_suit(all_cards, \"Spade\"))"
   ]
  },
  {
   "cell_type": "code",
   "execution_count": 19,
   "metadata": {},
   "outputs": [
    {
     "name": "stdout",
     "output_type": "stream",
     "text": [
      "banana\n",
      "banana\n",
      "banana\n"
     ]
    }
   ],
   "source": [
    "# Higher Order Function\n",
    "\n",
    "def number_of_cards_of_this_suit(cards, some_suit):\n",
    "    # YOUR CODE GOES HERE\n",
    "    return \"banana\"\n",
    "print(number_of_cards_of_this_suit(all_cards, \"Heart\"))\n",
    "print(number_of_cards_of_this_suit(just_sevens, \"Heart\"))\n",
    "print(number_of_cards_of_this_suit(all_cards, \"Spade\"))"
   ]
  },
  {
   "cell_type": "markdown",
   "metadata": {},
   "source": [
    "## Task 5 - From this task onwards solutions with some methods are easier than others. Pick method you want to write first.\n",
    "\n",
    "In this task we'll use the same dictionaries that represent cards. You will complete the function `are_any_cards_same_rank_as_searched_card`. We've added some pseudocode that you can use as a guide. \n",
    "\n",
    "The function will return True or False. True, if the searched_card's number matches the number of a card in the cards list, otherwise False.\n",
    "\n",
    "Take a careful look at tests to understand what you need to do."
   ]
  },
  {
   "cell_type": "code",
   "execution_count": 22,
   "metadata": {},
   "outputs": [],
   "source": [
    "# data\n",
    "h7 = {\"suit\":\"Heart\", \"rank\":\"7\"}\n",
    "h8 = {\"suit\":\"Heart\", \"rank\":\"8\"}\n",
    "cq = {\"suit\":\"Club\", \"rank\":\"Q\"}\n",
    "ca = {\"suit\":\"Club\", \"rank\":\"A\"}\n",
    "c2 = {\"suit\":\"Club\", \"rank\":\"2\"}\n",
    "d7 = {\"suit\":\"Diamond\", \"rank\":\"7\"}\n",
    "\n",
    "all_cards =     [h7,h8,cq,ca,c2,d7] \n",
    "lucky_card =     h7 # in both sets\n",
    "unlucky_card =   {\"suit\":\"Diamond\", \"rank\":\"6\"} # in just one set"
   ]
  },
  {
   "cell_type": "code",
   "execution_count": 23,
   "metadata": {},
   "outputs": [
    {
     "name": "stdout",
     "output_type": "stream",
     "text": [
      "banana\n",
      "banana\n"
     ]
    }
   ],
   "source": [
    "# List Comp\n",
    "\n",
    "def are_any_cards_same_rank_as_searched_card(cards, searched_card): \n",
    "    # YOUR CODE GOES HERE\n",
    "    return \"banana\"\n",
    "\n",
    "print(are_any_cards_same_rank_as_searched_card(all_cards, lucky_card))\n",
    "print(are_any_cards_same_rank_as_searched_card(all_cards, unlucky_card))"
   ]
  },
  {
   "cell_type": "code",
   "execution_count": 24,
   "metadata": {},
   "outputs": [
    {
     "name": "stdout",
     "output_type": "stream",
     "text": [
      "banana\n",
      "banana\n"
     ]
    }
   ],
   "source": [
    "# For Loop\n",
    "\n",
    "def are_any_cards_same_rank_as_searched_card(cards, searched_card): \n",
    "    # YOUR CODE GOES HERE\n",
    "    return \"banana\"\n",
    "\n",
    "print(are_any_cards_same_rank_as_searched_card(all_cards, lucky_card))\n",
    "print(are_any_cards_same_rank_as_searched_card(all_cards, unlucky_card))"
   ]
  },
  {
   "cell_type": "code",
   "execution_count": 25,
   "metadata": {},
   "outputs": [
    {
     "name": "stdout",
     "output_type": "stream",
     "text": [
      "banana\n",
      "banana\n"
     ]
    }
   ],
   "source": [
    "# Higher Order Function\n",
    "\n",
    "def are_any_cards_same_rank_as_searched_card(cards, searched_card): \n",
    "    # YOUR CODE GOES HERE\n",
    "    return \"banana\"\n",
    "\n",
    "print(are_any_cards_same_rank_as_searched_card(all_cards, lucky_card))\n",
    "print(are_any_cards_same_rank_as_searched_card(all_cards, unlucky_card))"
   ]
  },
  {
   "cell_type": "markdown",
   "metadata": {},
   "source": [
    "## Task 6 - From this point onwwards use a method which you thinkg is most appropriate, or which you like the most. We really recomnend Higher Order Functions!\n",
    "\n",
    "\n",
    "Use `map` to create a list of population densities for each city. The population density is calculated as: population divided by area. You can use a named function or a lambda.\n",
    "\n",
    "Note: The `map` function will return a Map type object. Wrap it in a `list()` function to get a List object. \n",
    "\n",
    "Spoiler: densities are Edinburgh: 1893, Glasgow: 3428, Inverness 2500"
   ]
  },
  {
   "cell_type": "code",
   "execution_count": 27,
   "metadata": {},
   "outputs": [],
   "source": [
    "# data\n",
    "all_cities = [\n",
    "    {\"name\": \"Edinburgh\", \"population\": 500000, \"area\": 264},\n",
    "    {\"name\": \"Glasgow\", \"population\": 600000, \"area\": 175},\n",
    "    {\"name\": \"Inverness\", \"population\": 50000, \"area\": 20}\n",
    "]\n",
    "\n",
    "cities_without_edinburgh= [\n",
    "    {\"name\": \"Glasgow\", \"population\": 600000, \"area\": 175},\n",
    "    {\"name\": \"Inverness\", \"population\": 50000, \"area\": 20}\n",
    "]"
   ]
  },
  {
   "cell_type": "code",
   "execution_count": 28,
   "metadata": {},
   "outputs": [
    {
     "name": "stdout",
     "output_type": "stream",
     "text": [
      "banana\n",
      "banana\n"
     ]
    }
   ],
   "source": [
    "# Method of your choice. Do try Higher Order Function!\n",
    "\n",
    "def cities_densities(many_cities):\n",
    "    # YOUR CODE GOES HERE\n",
    "    return \"banana\"\n",
    "\n",
    "print(cities_densities(all_cities))\n",
    "print(cities_densities(cities_without_edinburgh))\n"
   ]
  },
  {
   "cell_type": "markdown",
   "metadata": {},
   "source": [
    "## Task 7\n",
    "\n",
    "Find cities with population over 100,000 Using `filter`\n",
    "\n",
    "Note: The `filter` function will return a Map type object. Wrap it in a `list()` function to get a List object. "
   ]
  },
  {
   "cell_type": "code",
   "execution_count": null,
   "metadata": {},
   "outputs": [],
   "source": [
    "# data\n",
    "all_cities = [\n",
    "    {\"name\": \"Edinburgh\", \"population\": 500000, \"area\": 264},\n",
    "    {\"name\": \"Glasgow\", \"population\": 600000, \"area\": 175},\n",
    "    {\"name\": \"Inverness\", \"population\": 50000, \"area\": 20}\n",
    "]\n",
    "\n",
    "cities_without_edinburgh= [\n",
    "    {\"name\": \"Glasgow\", \"population\": 600000, \"area\": 175},\n",
    "    {\"name\": \"Inverness\", \"population\": 50000, \"area\": 20}\n",
    "]"
   ]
  },
  {
   "cell_type": "code",
   "execution_count": null,
   "metadata": {},
   "outputs": [],
   "source": [
    "# Method of your choice. Do try Higher Order Function!\n",
    "\n",
    "def cities_larger_than(many_cities, larger_than_this):\n",
    "    # YOUR CODE GOES HERE\n",
    "    return \"banana\"\n",
    "\n",
    "print(cities_larger_than(all_cities, 100000))\n",
    "print(cities_larger_than(cities_without_edinburgh, 100000))\n"
   ]
  },
  {
   "cell_type": "markdown",
   "metadata": {},
   "source": [
    "## Tasks 8: Difficult: 'Nested' or 'multi-dimentional' List Comp (or whatever method you choose to use)"
   ]
  },
  {
   "cell_type": "code",
   "execution_count": null,
   "metadata": {},
   "outputs": [],
   "source": [
    "# New thing: what if we want to dig deeper into a collection which holds a collection?\n",
    "meals = [\n",
    "    {'name': 'tea', 'ingredients' : ['tea leaves', 'water']},\n",
    "    {'name': 'pasta', 'ingredients' : ['eggs', 'flour', 'water']},\n",
    "    {'name': 'humus', 'ingredients' : ['chickpeas', 'tahini', 'lemon', 'olive']},\n",
    "    {'name': 'guacamole', 'ingredients' : ['avocado', 'lime', 'garlic', 'salt', 'chilli']}\n",
    "]\n",
    "meals_vegan = [\n",
    "    {'name': 'tea', 'ingredients' : ['tea leaves', 'water']},\n",
    "    {'name': 'humus', 'ingredients' : ['chickpeas', 'tahini', 'lemon', 'olive']},\n",
    "    {'name': 'guacamole', 'ingredients' : ['avocado', 'lime', 'garlic', 'salt', 'chilli']}\n",
    "]"
   ]
  },
  {
   "cell_type": "code",
   "execution_count": null,
   "metadata": {},
   "outputs": [],
   "source": [
    "# get a list of all ingredients like ['tea leaves', 'water', 'eggs', 'flour', 'water', 'chickpeas', ...]\n",
    "# if ingredient happens many times, it can be repeated many times\n",
    "\n",
    "def all_ingredients(some_means):\n",
    "    return \"banana\"\n",
    "\n",
    "print(all_ingredients(meals))\n",
    "print(all_ingredients(meals_vegan))"
   ]
  },
  {
   "cell_type": "markdown",
   "metadata": {},
   "source": [
    "## Tasks 9: Unique Ingredients for complicated meals\n",
    "\n",
    "Let's say a meal is complicates if it has 4 of more ingredients.\n",
    "Make ingredients not repeated (e.g. use `set()`).\n"
   ]
  },
  {
   "cell_type": "code",
   "execution_count": null,
   "metadata": {},
   "outputs": [],
   "source": [
    "# to get all ingredients, you'd have to:\n",
    "def unique_ingredients_for_complicated_meals(all_dishes):\n",
    "    return \"banana\"\n",
    "\n",
    "print(unique_ingredients_for_complicated_meals(meals))\n",
    "print(unique_ingredients_for_complicated_meals(meals_vegan))"
   ]
  },
  {
   "cell_type": "code",
   "execution_count": null,
   "metadata": {},
   "outputs": [],
   "source": [
    "def meal_names_without_these(all_dishes, forbidden_ingredient, forbindden_meal):\n",
    "    return [\n",
    "        meal['name']\n",
    "        for meal in meals\n",
    "        for ingredient in meal['ingredients']\n",
    "        if meal['name'] != forbindden_meal and ingredient != forbidden_ingredient\n",
    "    ]\n",
    "print(meal_names_without_these(meals, \"salt\", \"pasta\"))\n",
    "\n",
    "# do you see what is really odd about the print? Can you guess why?"
   ]
  },
  {
   "cell_type": "markdown",
   "metadata": {},
   "source": [
    "## Tasks 10: Get me names of meals which do not include ONE particular ingredients and are not of ONE particulate name.\n",
    "\n",
    "- just return meal names\n",
    "- take in one ingredient and one meal name to exclude"
   ]
  },
  {
   "cell_type": "code",
   "execution_count": null,
   "metadata": {},
   "outputs": [],
   "source": [
    "\n",
    "def meal_names_without_these(some_dishes, forbidden_ingredient, forbindden_meal_name):\n",
    "    return \"banana\"\n",
    "\n",
    "print(meal_names_without_these(meals, \"salt\", \"humus\"))\n",
    "print(meal_names_without_these(meals, \"salt\", \"broth\"))\n",
    "print(meal_names_without_these(meals_vegan, \"garlic\", \"humus\"))"
   ]
  },
  {
   "cell_type": "code",
   "execution_count": null,
   "metadata": {},
   "outputs": [],
   "source": []
  }
 ],
 "metadata": {
  "kernelspec": {
   "display_name": "Python 3",
   "language": "python",
   "name": "python3"
  },
  "language_info": {
   "codemirror_mode": {
    "name": "ipython",
    "version": 3
   },
   "file_extension": ".py",
   "mimetype": "text/x-python",
   "name": "python",
   "nbconvert_exporter": "python",
   "pygments_lexer": "ipython3",
   "version": "3.12.5"
  }
 },
 "nbformat": 4,
 "nbformat_minor": 2
}
