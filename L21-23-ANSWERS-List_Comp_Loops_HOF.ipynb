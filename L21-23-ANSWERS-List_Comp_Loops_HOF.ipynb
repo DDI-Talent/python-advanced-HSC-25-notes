{
 "cells": [
  {
   "cell_type": "markdown",
   "metadata": {},
   "source": [
    "# Lab for badges 21 - 23 - List Comprehensions versus Loops\n",
    "\n",
    "In this lab you will be asked to perform a number of tasks TWICE. First time with list comprehensions, then with loops. Tasks will not be hard, and will build on each other. Hopefully you will see common simmilarities and differences between two above methods."
   ]
  },
  {
   "cell_type": "markdown",
   "metadata": {},
   "source": [
    "### List Comprehension:\n",
    "\n",
    "- takes an original (input) list and returns a different list. It ALWAYS returns a list\n",
    "- can filter the input list, and keep just some items of it, with **if** conditional\n",
    "- can modify/map/represent each items that you mean to keep with the first like\n",
    "- it DOES NOT really 'go through each item in a list one at a time', it changes them all at once, and only the ones that you accepted in the if statement. (that's why you cannot 'do things' inside of it eg. print, assign, or change anything)."
   ]
  },
  {
   "cell_type": "markdown",
   "metadata": {},
   "source": [
    "### Loop:\n",
    "\n",
    "- runs some code, a number of times\n",
    "- in each loop it gives you access to ONE ITEM of a collection, so that you can do something with this item\n",
    "- it does not return anything, you have to take care of returning, collecting or combining things\n",
    "- you can DO things inside it, like assign, change or print.\n",
    "\n",
    "For most applications list comprehension is simpler and faster, but a loop is more flexible and gives you more fine control. If you learn how to solve problems with both methods, you will really advance yoru understanding of what programming is."
   ]
  },
  {
   "cell_type": "markdown",
   "metadata": {},
   "source": [
    "# Recap"
   ]
  },
  {
   "cell_type": "code",
   "execution_count": 2,
   "metadata": {},
   "outputs": [
    {
     "name": "stdout",
     "output_type": "stream",
     "text": [
      "[5, 6, 4, 8, 4]\n"
     ]
    }
   ],
   "source": [
    "# look at the examples below - do you understand what they do? \n",
    "# can you change them slightly so that they do something else?\n",
    "\n",
    "words = [\"apple\", \"banana\", \"plum\", \"beetroot\",\"kiwi\"]\n",
    "\n",
    "lengths_of_words = [\n",
    "    len(word)\n",
    "    for word in words\n",
    "]\n",
    "\n",
    "print(lengths_of_words)"
   ]
  },
  {
   "cell_type": "code",
   "execution_count": 3,
   "metadata": {},
   "outputs": [
    {
     "name": "stdout",
     "output_type": "stream",
     "text": [
      "[6, 8]\n"
     ]
    }
   ],
   "source": [
    "lengths_of_words_starting_with_b = [\n",
    "    len(word)\n",
    "    for word in words\n",
    "    if word[0] == \"b\"\n",
    "]\n",
    "\n",
    "print(lengths_of_words_starting_with_b)"
   ]
  },
  {
   "cell_type": "code",
   "execution_count": 4,
   "metadata": {},
   "outputs": [
    {
     "name": "stdout",
     "output_type": "stream",
     "text": [
      "['banana', 'beetroot']\n"
     ]
    }
   ],
   "source": [
    "words_starting_with_b = [\n",
    "    word\n",
    "    for word in words\n",
    "    if word[0] == \"b\"\n",
    "]\n",
    "\n",
    "print(words_starting_with_b)"
   ]
  },
  {
   "cell_type": "code",
   "execution_count": 5,
   "metadata": {},
   "outputs": [
    {
     "name": "stdout",
     "output_type": "stream",
     "text": [
      "['Prianka', 'Natasha']\n"
     ]
    }
   ],
   "source": [
    "students = [{'name':'Prianka', 'surname':'Mathews'},\n",
    "           {'name':'Natasha', 'surname':'McColl'}]\n",
    "first_names_of_students = [\n",
    "    student['name']\n",
    "    for student in students\n",
    "]\n",
    "\n",
    "print(first_names_of_students)"
   ]
  },
  {
   "cell_type": "code",
   "execution_count": 6,
   "metadata": {},
   "outputs": [
    {
     "name": "stdout",
     "output_type": "stream",
     "text": [
      "['dog', 'cat']\n"
     ]
    }
   ],
   "source": [
    "students = [{'name':'Prianka', 'surname':'Mathews', 'pets': ['fish', 'tortoise','cat']},\n",
    "           {'name':'Natasha', 'surname':'McColl', 'pets': ['dog']},\n",
    "           {'name':'Pim', 'surname':'Kowalska', 'pets': ['cat']}]\n",
    "\n",
    "names_of_first_pet_if_they_have_only_one = [\n",
    "    student['pets'][0]\n",
    "    for student in students\n",
    "    if len(student['pets']) == 1\n",
    "]\n",
    "\n",
    "print(names_of_first_pet_if_they_have_only_one)"
   ]
  },
  {
   "cell_type": "code",
   "execution_count": 32,
   "metadata": {},
   "outputs": [
    {
     "name": "stdout",
     "output_type": "stream",
     "text": [
      "['Prianka has 3 pets', 'Natasha has 1 pets', 'Bianka has 0 pets', 'Pim has 1 pets']\n"
     ]
    }
   ],
   "source": [
    "# and a catchup on Higher Order Functions, if you made it that far:\n",
    "students = [{'name':'Prianka', 'surname':'Mathews', 'pets': ['fish', 'tortoise','cat']},\n",
    "           {'name':'Natasha', 'surname':'McColl', 'pets': ['dog']},\n",
    "           {'name':'Bianka', 'surname':'Ng', 'pets': []},\n",
    "           {'name':'Pim', 'surname':'Kowalska', 'pets': ['cat']}]\n",
    "\n",
    "sentences = list( map( lambda person: f\"{person['name']} has {len(person['pets'])} pets\", students) )\n",
    "print(sentences)\n"
   ]
  },
  {
   "cell_type": "code",
   "execution_count": 33,
   "metadata": {},
   "outputs": [
    {
     "name": "stdout",
     "output_type": "stream",
     "text": [
      "['Prianka has 3 pets', 'Natasha has 1 pet', 'Bianka has 0 pets', 'Pim has 1 pet']\n"
     ]
    }
   ],
   "source": [
    "\n",
    "# or a nicer version, with a named function, and a grammar fix for pet/pets:\n",
    "\n",
    "def sentence_about_someone(person):\n",
    "    plural_for_pet = \"pet\" if len(person['pets']) == 1 else \"pets\"\n",
    "    return f\"{person['name']} has {len(person['pets'])} {plural_for_pet}\" \n",
    "\n",
    "sentences = list( map( sentence_about_someone , students) )\n",
    "print(sentences)"
   ]
  },
  {
   "cell_type": "code",
   "execution_count": 34,
   "metadata": {},
   "outputs": [
    {
     "name": "stdout",
     "output_type": "stream",
     "text": [
      "[{'name': 'Bianka', 'surname': 'Ng', 'pets': []}, {'name': 'Natasha', 'surname': 'McColl', 'pets': ['dog']}, {'name': 'Pim', 'surname': 'Kowalska', 'pets': ['cat']}, {'name': 'Prianka', 'surname': 'Mathews', 'pets': ['fish', 'tortoise', 'cat']}]\n"
     ]
    }
   ],
   "source": [
    "# and a catchup on Higher Order Functions, if you made it that far:\n",
    "students = [{'name':'Prianka', 'surname':'Mathews', 'pets': ['fish', 'tortoise','cat']},\n",
    "           {'name':'Natasha', 'surname':'McColl', 'pets': ['dog']},\n",
    "           {'name':'Bianka', 'surname':'Ng', 'pets': []},\n",
    "           {'name':'Pim', 'surname':'Kowalska', 'pets': ['cat']}]\n",
    "\n",
    "sorted_students = list( sorted( students, key = lambda person: person['name']) ) # sort by first name\n",
    "print(sorted_students)"
   ]
  },
  {
   "cell_type": "code",
   "execution_count": 35,
   "metadata": {},
   "outputs": [
    {
     "name": "stdout",
     "output_type": "stream",
     "text": [
      "[{'name': 'Natasha', 'surname': 'McColl', 'pets': ['dog']}, {'name': 'Pim', 'surname': 'Kowalska', 'pets': ['cat']}]\n"
     ]
    }
   ],
   "source": [
    "# filter\n",
    "students = [{'name':'Prianka', 'surname':'Mathews', 'pets': ['fish', 'tortoise','cat']},\n",
    "           {'name':'Natasha', 'surname':'McColl', 'pets': ['dog']},\n",
    "           {'name':'Bianka', 'surname':'Ng', 'pets': []},\n",
    "           {'name':'Pim', 'surname':'Kowalska', 'pets': ['cat']}]\n",
    "\n",
    "students_with_1_pet = list( filter(lambda person: len(person['pets'])==1, students) )\n",
    "print(students_with_1_pet)"
   ]
  },
  {
   "cell_type": "code",
   "execution_count": 36,
   "metadata": {},
   "outputs": [
    {
     "name": "stdout",
     "output_type": "stream",
     "text": [
      "5\n",
      "5\n"
     ]
    }
   ],
   "source": [
    "# reduce\n",
    "from functools import reduce\n",
    "# filter\n",
    "students = [{'name':'Prianka', 'surname':'Mathews', 'pets': ['fish', 'tortoise','cat']},\n",
    "           {'name':'Natasha', 'surname':'McColl', 'pets': ['dog']},\n",
    "           {'name':'Bianka', 'surname':'Ng', 'pets': []},\n",
    "           {'name':'Pim', 'surname':'Kowalska', 'pets': ['cat']}]\n",
    "\n",
    "count_of_pets = reduce(lambda pets_so_far, person: pets_so_far + len(person['pets']), students, 0)  # 0 here means, start with 0\n",
    "print(count_of_pets)\n",
    "\n",
    "# notice: lambda function above takes 2 things. count so far (starting with 0) and the person Dict\n",
    "\n",
    "# you could write it like this, with a named function:\n",
    "\n",
    "def add_persons_pets_count(count_so_far, person):\n",
    "    return  count_so_far + len(person['pets'])\n",
    "\n",
    "count_of_pets = reduce(add_persons_pets_count, students, 0)\n",
    "print(count_of_pets)\n"
   ]
  },
  {
   "cell_type": "code",
   "execution_count": 37,
   "metadata": {},
   "outputs": [
    {
     "name": "stdout",
     "output_type": "stream",
     "text": [
      "['fish', 'tortoise', 'cat', 'dog', 'cat']\n"
     ]
    }
   ],
   "source": [
    "# and this is how you would get names of pets, instead of the count\n",
    "students = [{'name':'Prianka', 'surname':'Mathews', 'pets': ['fish', 'tortoise','cat']},\n",
    "           {'name':'Natasha', 'surname':'McColl', 'pets': ['dog']},\n",
    "           {'name':'Bianka', 'surname':'Ng', 'pets': []},\n",
    "           {'name':'Pim', 'surname':'Kowalska', 'pets': ['cat']}]\n",
    "\n",
    "def add_persons_pets_names(names_so_far, person):\n",
    "    return  names_so_far + person['pets']\n",
    "\n",
    "names_of_pets = reduce(add_persons_pets_names, students, []) # start with an empty list!\n",
    "print(names_of_pets)"
   ]
  },
  {
   "cell_type": "markdown",
   "metadata": {},
   "source": [
    "# Tasks: Solve each task first with List Comprehension, then with a For Loop, then with a Higher Order Function:"
   ]
  },
  {
   "cell_type": "markdown",
   "metadata": {},
   "source": [
    "# Task 1 - Solved\n",
    "\n",
    "Given a list of Strings, determine whether or not another String is in that list. Complete the `is_item_in_list` function to return True if `searched_thing` is in the list of `items`. Otherwise return False.\n",
    "\n",
    "```\n",
    "# example tests\n",
    "toys  = [\"car\",\"dinosaur\",\"doll\",\"watering can\",\"flower\", \"car\"]\n",
    "assert is_item_in_list(toys, \"watering can\") == True\n",
    "assert is_item_in_list(toys, \"robot\") == False\n",
    "```"
   ]
  },
  {
   "cell_type": "markdown",
   "metadata": {},
   "source": [
    "# a: List comprehension"
   ]
  },
  {
   "cell_type": "code",
   "execution_count": null,
   "metadata": {},
   "outputs": [],
   "source": [
    "def is_item_in_list(items, searched_thing):\n",
    "    items_like_the_searched_one = [ \n",
    "        item\n",
    "        for item in items\n",
    "        if item == searched_thing\n",
    "    ]                        \n",
    "    # then manipulate the output, so it is in a format you want (here it needs to be True or False)\n",
    "    return  len(items_like_the_searched_one) > 0"
   ]
  },
  {
   "cell_type": "code",
   "execution_count": null,
   "metadata": {},
   "outputs": [],
   "source": [
    "print(is_item_in_list([\"car\",\"dinosaur\",\"doll\"], \"dog\"))"
   ]
  },
  {
   "cell_type": "code",
   "execution_count": null,
   "metadata": {},
   "outputs": [],
   "source": [
    "toys  = [\"car\",\"dinosaur\",\"doll\",\"watering can\",\"flower\", \"car\"]\n",
    "assert is_item_in_list(toys, \"watering can\") == True\n",
    "assert is_item_in_list(toys, \"robot\") == False\n",
    "print(\"all tests passed\")"
   ]
  },
  {
   "cell_type": "markdown",
   "metadata": {},
   "source": [
    "# b: For Loop"
   ]
  },
  {
   "cell_type": "code",
   "execution_count": 28,
   "metadata": {},
   "outputs": [],
   "source": [
    "def is_item_in_list(items, searched_thing):\n",
    "    items_like_the_searched_one = []\n",
    "    for item in items:\n",
    "        if item == searched_thing:\n",
    "            items_like_the_searched_one.append(item)\n",
    "    return  len(items_like_the_searched_one) > 0\n",
    "\n",
    "# Usual steps are: TAKE CHUNK OF LIST COMP AND ADAPT IT TO BE A LOOP \n",
    "\n",
    "# note, you can also solve it in a more 'for-loopy way' like this:\n",
    "def is_item_in_list(items, searched_thing):\n",
    "    for item in items:\n",
    "        if item == searched_thing:\n",
    "            return True # found it! no need to keep looking :)\n",
    "    return  False # checked everywhere, it was not there :("
   ]
  },
  {
   "cell_type": "code",
   "execution_count": 29,
   "metadata": {},
   "outputs": [
    {
     "name": "stdout",
     "output_type": "stream",
     "text": [
      "True\n"
     ]
    }
   ],
   "source": [
    "print(is_item_in_list([\"car\",\"dinosaur\",\"doll\"], \"dinosaur\"))"
   ]
  },
  {
   "cell_type": "code",
   "execution_count": 30,
   "metadata": {},
   "outputs": [
    {
     "name": "stdout",
     "output_type": "stream",
     "text": [
      "all tests passed\n"
     ]
    }
   ],
   "source": [
    "toys  = [\"car\",\"dinosaur\",\"doll\",\"watering can\",\"flower\", \"car\"]\n",
    "assert is_item_in_list(toys, \"watering can\") == True\n",
    "assert is_item_in_list(toys, \"robot\") == False\n",
    "print(\"all tests passed\")"
   ]
  },
  {
   "cell_type": "markdown",
   "metadata": {},
   "source": [
    "# C. Higher Order Function"
   ]
  },
  {
   "cell_type": "code",
   "execution_count": null,
   "metadata": {},
   "outputs": [],
   "source": [
    "def is_item_in_list(items, searched_thing):\n",
    "    items_like_the_searched_one = list(filter(lambda item: item == searched_thing), items)\n",
    "    return   len(items_like_the_searched_one) > 0\n",
    "\n",
    "# or with a named function, but notice it is a bit confusing\n",
    "def are_the_same(word1, word2):\n",
    "    return word1 == word2\n",
    "\n",
    "def is_item_in_list(items, searched_thing):\n",
    "    items_like_the_searched_one = list(filter(lambda item: are_the_same(item,searched_thing)), items)\n",
    "    return   len(items_like_the_searched_one) > 0"
   ]
  },
  {
   "cell_type": "code",
   "execution_count": null,
   "metadata": {},
   "outputs": [],
   "source": [
    "toys  = [\"car\",\"dinosaur\",\"doll\",\"watering can\",\"flower\", \"car\"]\n",
    "assert is_item_in_list(toys, \"watering can\") == True\n",
    "assert is_item_in_list(toys, \"robot\") == False\n",
    "assert is_item_in_list(toys, \"car\") == True\n",
    "print(\"all tests passed\")"
   ]
  },
  {
   "cell_type": "markdown",
   "metadata": {},
   "source": [
    "## Task 2\n",
    "\n",
    "Complete the function `how_many_pets_of_this_type_person_has`. It should return the number of pets of a given pet type. A person is represented as a dictionary wth their pets as a list. EG:\n",
    "\n",
    "```\n",
    "{\n",
    "    'name':'Prianka', \n",
    "    'surname':'Mathews', \n",
    "    'pets': ['fish', 'tortoise','dog']\n",
    "}\n",
    "```"
   ]
  },
  {
   "cell_type": "markdown",
   "metadata": {},
   "source": [
    "# a: List comprehension"
   ]
  },
  {
   "cell_type": "code",
   "execution_count": null,
   "metadata": {},
   "outputs": [],
   "source": [
    "def how_many_pets_of_this_type_person_has(person_info, searched_pet_type):\n",
    "    \n",
    "    # MAKE LIST OF PERSON'S PETS\n",
    "    list_of_pets = person_info['pets']\n",
    "    # OR\n",
    "    list_of_pets = person_info.get('pets',[])\n",
    "    # USE THIS LIST WITHIN LIST COMP\n",
    "    pets_like_searched_one = [\n",
    "        pet \n",
    "        for pet in list_of_pets \n",
    "        if pet == searched_pet_type\n",
    "    ]\n",
    "   # IF OUTPUT LIST HAS ANYTHING IN IT STATEMENT IS TRUE\n",
    "    return len(pets_like_searched_one) "
   ]
  },
  {
   "cell_type": "code",
   "execution_count": null,
   "metadata": {},
   "outputs": [],
   "source": [
    "prianka = {'name':'Prianka', 'surname':'Mathews', 'pets': ['fish', 'tortoise','dog']}\n",
    "print(how_many_pets_of_this_type_person_has(prianka, \"fish\"))"
   ]
  },
  {
   "cell_type": "code",
   "execution_count": null,
   "metadata": {},
   "outputs": [],
   "source": [
    "prianka = {'name':'Prianka', 'surname':'Mathews', 'pets': ['fish', 'tortoise','dog']}\n",
    "natasha = {'name':'Natasha', 'surname':'McColl', 'pets': ['cat','cat']}\n",
    "\n",
    "assert how_many_pets_of_this_type_person_has(prianka, \"fish\") == 1\n",
    "assert how_many_pets_of_this_type_person_has(prianka, \"cat\") == 0\n",
    "\n",
    "assert how_many_pets_of_this_type_person_has(natasha, \"cat\") == 2\n",
    "print(\"all tests passed\")"
   ]
  },
  {
   "cell_type": "markdown",
   "metadata": {},
   "source": [
    "# b: For Loop"
   ]
  },
  {
   "cell_type": "code",
   "execution_count": null,
   "metadata": {},
   "outputs": [],
   "source": [
    "def how_many_pets_of_this_type_person_has(person_info, searched_pet_type):\n",
    "    pet_count = 0\n",
    "    for pet in person_info['pets']: \n",
    "    # OR\n",
    "#     for pet in person_info.get('pets',[]):\n",
    "        if pet == searched_pet_type:\n",
    "            pet_count += 1\n",
    "    return pet_count\n",
    "\n",
    "\n",
    "# or\n",
    "\n",
    "def how_many_pets_of_this_type_person_has(person_info, searched_pet_type):\n",
    "    pets_like_searched_one = []\n",
    "    for pet in person_info['pets']: \n",
    "    # OR\n",
    "#     for pet in person_info.get('pets',[]):\n",
    "        if pet == searched_pet_type:\n",
    "            pets_like_searched_one.append(pet)\n",
    "    return len(pets_like_searched_one)"
   ]
  },
  {
   "cell_type": "code",
   "execution_count": null,
   "metadata": {},
   "outputs": [],
   "source": [
    "prianka = {'name':'Prianka', 'surname':'Mathews', 'pets': ['fish', 'tortoise','dog']}\n",
    "print(how_many_pets_of_this_type_person_has(prianka, \"fish\"))"
   ]
  },
  {
   "cell_type": "code",
   "execution_count": null,
   "metadata": {},
   "outputs": [],
   "source": [
    "prianka = {'name':'Prianka', 'surname':'Mathews', 'pets': ['fish', 'tortoise','dog']}\n",
    "natasha = {'name':'Natasha', 'surname':'McColl', 'pets': ['cat','cat']}\n",
    "\n",
    "assert how_many_pets_of_this_type_person_has(prianka, \"fish\") == 1\n",
    "assert how_many_pets_of_this_type_person_has(prianka, \"cat\") == 0\n",
    "\n",
    "assert how_many_pets_of_this_type_person_has(natasha, \"cat\") == 2\n",
    "print(\"all tests passed\")"
   ]
  },
  {
   "cell_type": "markdown",
   "metadata": {},
   "source": [
    "# c. Higher Order Function"
   ]
  },
  {
   "cell_type": "code",
   "execution_count": null,
   "metadata": {},
   "outputs": [],
   "source": [
    "def how_many_pets_of_this_type_person_has(person_info, searched_pet_type):\n",
    "    # filter returns a list of items that match the condition\n",
    "    # here, we use a lambda function to check if the pet type is the one we are looking for\n",
    " \n",
    "    filtered_list = list(filter(lambda pet: pet == searched_pet_type, person_info.get('pets', [])))\n",
    "    return len(filtered_list)"
   ]
  },
  {
   "cell_type": "code",
   "execution_count": null,
   "metadata": {},
   "outputs": [],
   "source": [
    "prianka = {'name':'Prianka', 'surname':'Mathews', 'pets': ['fish', 'tortoise','dog']}\n",
    "natasha = {'name':'Natasha', 'surname':'McColl', 'pets': ['cat','cat']}\n",
    "\n",
    "assert how_many_pets_of_this_type_person_has(prianka, \"fish\") == 1\n",
    "assert how_many_pets_of_this_type_person_has(prianka, \"cat\") == 0\n",
    "\n",
    "assert how_many_pets_of_this_type_person_has(natasha, \"cat\") == 2\n",
    "print(\"all tests passed\")"
   ]
  },
  {
   "cell_type": "markdown",
   "metadata": {},
   "source": [
    "## Task 3\n",
    "\n",
    "Complete the function `names_of_people_with_any_pets` that takes a list of people dictionaries and returns a list of the names of the people that have more than 0 pets."
   ]
  },
  {
   "cell_type": "markdown",
   "metadata": {},
   "source": [
    "# a: List comprehension"
   ]
  },
  {
   "cell_type": "code",
   "execution_count": null,
   "metadata": {},
   "outputs": [],
   "source": [
    "def names_of_people_with_any_pets(people):\n",
    "    return [\n",
    "        person['name']\n",
    "        for person in people\n",
    "        if len(person['pets']) > 0\n",
    "    ]\n",
    "\n",
    "# OR SAVE AND RETURN OUTPUT\n",
    "\n",
    "def names_of_people_with_any_pets(people):\n",
    "    people_with_pets = [\n",
    "        person['name']\n",
    "        for person in people\n",
    "        if len(person['pets']) > 0\n",
    "    ]\n",
    "    return people_with_pets"
   ]
  },
  {
   "cell_type": "code",
   "execution_count": null,
   "metadata": {},
   "outputs": [],
   "source": [
    "students = [{'name':'Prianka', 'surname':'Mathews', 'pets': ['fish', 'tortoise','cat']},\n",
    "            {'name':'Natasha', 'surname':'McColl', 'pets': ['dog']},\n",
    "            {'name':'Yola', 'surname':'Gonzales', 'pets': []}]\n",
    "print(names_of_people_with_any_pets(students))"
   ]
  },
  {
   "cell_type": "code",
   "execution_count": null,
   "metadata": {},
   "outputs": [],
   "source": [
    "students = [{'name':'Prianka', 'surname':'Mathews', 'pets': ['fish', 'tortoise','cat']},\n",
    "            {'name':'Natasha', 'surname':'McColl', 'pets': ['dog']},\n",
    "            {'name':'Yola', 'surname':'Gonzales', 'pets': []}]\n",
    "\n",
    "staff =    [{'name':'Mick', 'surname':'Gonzales', 'pets': []},\n",
    "            {'name':'Pim', 'surname':'Kowalska', 'pets': ['cat', 'ferret']}]\n",
    "\n",
    "assert names_of_people_with_any_pets(students) == ['Prianka', 'Natasha']\n",
    "assert names_of_people_with_any_pets(staff) == ['Pim']\n",
    "print(\"all tests passed\")"
   ]
  },
  {
   "cell_type": "markdown",
   "metadata": {},
   "source": [
    "# b: For Loop"
   ]
  },
  {
   "cell_type": "code",
   "execution_count": null,
   "metadata": {},
   "outputs": [],
   "source": [
    "def names_of_people_with_any_pets(people):\n",
    "    # EMPTY ARRAY TO APPEND WITH PETFUL_PEOPLE - CLASSIC LOOP ;)\n",
    "    petful_people = []\n",
    "    for person in people:\n",
    "        # IF PETS LIST HAS SOMETING THERE APPEND THE PERSONS'NAME' TO []\n",
    "        if len(person['pets']) > 0:\n",
    "            petful_people.append(person['name'])\n",
    "    # RETURN THE ARRAY WITH THINGS NOW IN IT \n",
    "    return petful_people"
   ]
  },
  {
   "cell_type": "code",
   "execution_count": null,
   "metadata": {},
   "outputs": [],
   "source": [
    "students = [{'name':'Prianka', 'surname':'Mathews', 'pets': ['fish', 'tortoise','cat']},\n",
    "            {'name':'Natasha', 'surname':'McColl', 'pets': ['dog']},\n",
    "            {'name':'Yola', 'surname':'Gonzales', 'pets': []}]\n",
    "print(names_of_people_with_any_pets(students))"
   ]
  },
  {
   "cell_type": "code",
   "execution_count": null,
   "metadata": {},
   "outputs": [],
   "source": [
    "students = [{'name':'Prianka', 'surname':'Mathews', 'pets': ['fish', 'tortoise','cat']},\n",
    "            {'name':'Natasha', 'surname':'McColl', 'pets': ['dog']},\n",
    "            {'name':'Yola', 'surname':'Gonzales', 'pets': []}]\n",
    "\n",
    "staff =    [{'name':'Mick', 'surname':'Gonzales', 'pets': []},\n",
    "            {'name':'Pim', 'surname':'Kowalska', 'pets': ['cat', 'ferret']}]\n",
    "\n",
    "assert names_of_people_with_any_pets(students) == ['Prianka', 'Natasha']\n",
    "assert names_of_people_with_any_pets(staff) == ['Pim']\n",
    "print(\"all tests passed\")"
   ]
  },
  {
   "cell_type": "markdown",
   "metadata": {},
   "source": [
    "# c. Higher Order Function"
   ]
  },
  {
   "cell_type": "code",
   "execution_count": null,
   "metadata": {},
   "outputs": [],
   "source": [
    "\n",
    "def has_pets(person):\n",
    "    return len(person['pets']) > 0\n",
    "\n",
    "def get_name(person):\n",
    "    return person['name']\n",
    "\n",
    "def names_of_people_with_any_pets(people):\n",
    "    return list(map(get_name, filter(has_pets, people)))"
   ]
  },
  {
   "cell_type": "code",
   "execution_count": null,
   "metadata": {},
   "outputs": [],
   "source": [
    "students = [{'name':'Prianka', 'surname':'Mathews', 'pets': ['fish', 'tortoise','cat']},\n",
    "            {'name':'Natasha', 'surname':'McColl', 'pets': ['dog']},\n",
    "            {'name':'Yola', 'surname':'Gonzales', 'pets': []}]\n",
    "\n",
    "staff =    [{'name':'Mick', 'surname':'Gonzales', 'pets': []},\n",
    "            {'name':'Pim', 'surname':'Kowalska', 'pets': ['cat', 'ferret']}]\n",
    "\n",
    "assert names_of_people_with_any_pets(students) == ['Prianka', 'Natasha']\n",
    "assert names_of_people_with_any_pets(staff) == ['Pim']\n",
    "print(\"all tests passed\")"
   ]
  },
  {
   "cell_type": "markdown",
   "metadata": {},
   "source": [
    "# Task 4\n",
    "\n",
    "Complex operation on a list of Dictionaries, based on a value.\n",
    "\n",
    "Here we will use the idea of a deck of playing cards. Each card has a suit (♠️♣️♥️♦️) and a rank (2,3,4,5... 9,J,Q,K,A). You will be given some cards and asked to do something with them.\n",
    "\n",
    "Each card is described as a Dictionary, so for example Ace of spades is described as `{\"suit\":\"Spade\", \"rank\":\"A\"}`\n"
   ]
  },
  {
   "cell_type": "markdown",
   "metadata": {},
   "source": [
    "# a: List comprehension"
   ]
  },
  {
   "cell_type": "code",
   "execution_count": null,
   "metadata": {},
   "outputs": [],
   "source": [
    "def number_of_cards_of_this_suit(cards, some_suit):\n",
    "    return len([\n",
    "        card\n",
    "        for card in cards \n",
    "        if card['suit'] == some_suit\n",
    "    ])\n",
    "# OR RETURN LEN (OUTPUT)\n",
    "def number_of_cards_of_this_suit(cards, some_suit):\n",
    "    card_count = [ \n",
    "        card\n",
    "        for card in cards \n",
    "        if card['suit'] == some_suit\n",
    "    ]\n",
    "    return len(card_count)\n",
    "# USE LEN() OF OUTPUT TO RETURN A NUMBER"
   ]
  },
  {
   "cell_type": "code",
   "execution_count": null,
   "metadata": {},
   "outputs": [],
   "source": [
    "cards = [{\"suit\":\"Heart\", \"rank\":\"7\"}, \n",
    "         {\"suit\":\"Heart\", \"rank\":\"8\"},\n",
    "         {\"suit\":\"Club\", \"rank\":\"Q\"}]\n",
    "print(number_of_cards_of_this_suit(cards, \"Heart\"))"
   ]
  },
  {
   "cell_type": "code",
   "execution_count": null,
   "metadata": {},
   "outputs": [],
   "source": [
    "h7 = {\"suit\":\"Heart\", \"rank\":\"7\"}\n",
    "h8 = {\"suit\":\"Heart\", \"rank\":\"8\"}\n",
    "cq = {\"suit\":\"Club\", \"rank\":\"Q\"}\n",
    "ca = {\"suit\":\"Club\", \"rank\":\"A\"}\n",
    "c2 = {\"suit\":\"Club\", \"rank\":\"2\"}\n",
    "d7 = {\"suit\":\"Diamond\", \"rank\":\"7\"}\n",
    "\n",
    "some_cards = [h7,h8,cq,ca,c2,d7]\n",
    "# notice, we could spell out all the cards again, but this is more DRY\n",
    "\n",
    "assert  number_of_cards_of_this_suit(some_cards, \"Heart\") == 2\n",
    "assert  number_of_cards_of_this_suit(some_cards, \"Diamond\") == 1\n",
    "assert  number_of_cards_of_this_suit(some_cards, \"Spade\") == 0\n",
    "print(\"all tests passed\")"
   ]
  },
  {
   "cell_type": "markdown",
   "metadata": {},
   "source": [
    "# b: For Loop"
   ]
  },
  {
   "cell_type": "code",
   "execution_count": null,
   "metadata": {},
   "outputs": [],
   "source": [
    "def number_of_cards_of_this_suit(cards, some_suit):\n",
    "    card_count = 0\n",
    "    for card in cards:\n",
    "        if card['suit'] == some_suit:\n",
    "            card_count += 1\n",
    "    return card_count\n",
    "# VAR - CARD_COUNT, IS A NUMBER ADDED TO AND WHILST LOOPING\n",
    "# WE RETURN THE TOTAL COUNT"
   ]
  },
  {
   "cell_type": "code",
   "execution_count": null,
   "metadata": {},
   "outputs": [],
   "source": [
    "cards = [{\"suit\":\"Heart\", \"rank\":\"7\"}, \n",
    "         {\"suit\":\"Heart\", \"rank\":\"8\"},\n",
    "         {\"suit\":\"Club\", \"rank\":\"Q\"}]\n",
    "print(number_of_cards_of_this_suit(cards, \"Heart\") == 2)"
   ]
  },
  {
   "cell_type": "code",
   "execution_count": null,
   "metadata": {},
   "outputs": [],
   "source": [
    "h7 = {\"suit\":\"Heart\", \"rank\":\"7\"}\n",
    "h8 = {\"suit\":\"Heart\", \"rank\":\"8\"}\n",
    "cq = {\"suit\":\"Club\", \"rank\":\"Q\"}\n",
    "ca = {\"suit\":\"Club\", \"rank\":\"A\"}\n",
    "c2 = {\"suit\":\"Club\", \"rank\":\"2\"}\n",
    "d7 = {\"suit\":\"Diamond\", \"rank\":\"7\"}\n",
    "\n",
    "some_cards = [h7,h8,cq,ca,c2,d7] # notice, we could spell out all the cards again, but this is more DRY\n",
    "\n",
    "assert  number_of_cards_of_this_suit(some_cards, \"Heart\") == 2\n",
    "assert  number_of_cards_of_this_suit(some_cards, \"Diamond\") == 1\n",
    "assert  number_of_cards_of_this_suit(some_cards, \"Spade\") == 0\n",
    "print(\"all tests passed\")"
   ]
  },
  {
   "cell_type": "markdown",
   "metadata": {},
   "source": [
    "# c. Higher Order Function"
   ]
  },
  {
   "cell_type": "code",
   "execution_count": null,
   "metadata": {},
   "outputs": [],
   "source": [
    "def number_of_cards_of_this_suit(cards, some_suit):\n",
    "    return len(list(filter(lambda card: card['suit'] == some_suit, cards)))"
   ]
  },
  {
   "cell_type": "code",
   "execution_count": null,
   "metadata": {},
   "outputs": [],
   "source": [
    "h7 = {\"suit\":\"Heart\", \"rank\":\"7\"}\n",
    "h8 = {\"suit\":\"Heart\", \"rank\":\"8\"}\n",
    "cq = {\"suit\":\"Club\", \"rank\":\"Q\"}\n",
    "ca = {\"suit\":\"Club\", \"rank\":\"A\"}\n",
    "c2 = {\"suit\":\"Club\", \"rank\":\"2\"}\n",
    "d7 = {\"suit\":\"Diamond\", \"rank\":\"7\"}\n",
    "\n",
    "some_cards = [h7,h8,cq,ca,c2,d7] # notice, we could spell out all the cards again, but this is more DRY\n",
    "\n",
    "assert  number_of_cards_of_this_suit(some_cards, \"Heart\") == 2\n",
    "assert  number_of_cards_of_this_suit(some_cards, \"Diamond\") == 1\n",
    "assert  number_of_cards_of_this_suit(some_cards, \"Spade\") == 0\n",
    "print(\"all tests passed\")"
   ]
  },
  {
   "cell_type": "markdown",
   "metadata": {},
   "source": [
    "## Task 5\n",
    "\n",
    "In this task we'll use the same dictionaries that represent Cards. You will complete the function `are_any_cards_same_rank_as_searched_card`. We've added some pseudocode that you can use as a guide. \n",
    "\n",
    "The function will return True or False. True, if the searched_card's number matches the number of a card in the cards list, otherwise False.\n",
    "\n",
    "Take a careful look at tests to understand what you need to do."
   ]
  },
  {
   "cell_type": "markdown",
   "metadata": {},
   "source": [
    "# a: List comprehension"
   ]
  },
  {
   "cell_type": "code",
   "execution_count": null,
   "metadata": {},
   "outputs": [],
   "source": [
    "def are_any_cards_same_rank_as_searched_card(cards, searched_card):\n",
    "    return len([\n",
    "        card\n",
    "        for card in cards \n",
    "        if card['rank'] == searched_card['rank']\n",
    "    ]) > 0\n",
    "\n",
    "# OR SAVE IN A VARIABLE AND USE RETURN LEN() > 0 \n",
    "def are_any_cards_same_rank_as_searched_card(cards, searched_card):\n",
    "    same_rank_as_searched_card = [\n",
    "        card\n",
    "        for card in cards \n",
    "        if card['rank'] == searched_card['rank']\n",
    "    ]\n",
    "    return len(same_rank_as_searched_card) > 0\n",
    "\n",
    "# THIS RETURN IS EITHER TRUE OR NOT(FALSE)\n",
    "    "
   ]
  },
  {
   "cell_type": "code",
   "execution_count": null,
   "metadata": {},
   "outputs": [],
   "source": [
    "cards = [{\"suit\":\"Heart\", \"rank\":\"7\"}, \n",
    "         {\"suit\":\"Heart\", \"rank\":\"8\"},\n",
    "         {\"suit\":\"Club\", \"rank\":\"Q\"}]\n",
    "lucky_card = {\"suit\":\"Club\", \"rank\":\"8\"}\n",
    "\n",
    "print(are_any_cards_same_rank_as_searched_card(cards, lucky_card))"
   ]
  },
  {
   "cell_type": "code",
   "execution_count": null,
   "metadata": {},
   "outputs": [],
   "source": [
    "h7 = {\"suit\":\"Heart\", \"rank\":\"7\"}\n",
    "h8 = {\"suit\":\"Heart\", \"rank\":\"8\"}\n",
    "cq = {\"suit\":\"Club\", \"rank\":\"Q\"}\n",
    "ca = {\"suit\":\"Club\", \"rank\":\"A\"}\n",
    "c2 = {\"suit\":\"Club\", \"rank\":\"2\"}\n",
    "d7 = {\"suit\":\"Diamond\", \"rank\":\"7\"}\n",
    "\n",
    "all_cards = [h7,h8,cq,ca,c2,d7] \n",
    "# notice, we could spell out all the cards again,\n",
    "# but this is more DRY\n",
    "\n",
    "lucky_card = {\"suit\":\"Club\", \"rank\":\"8\"}\n",
    "unlucky_card = {\"suit\":\"Club\", \"rank\":\"3\"}\n",
    "\n",
    "assert  are_any_cards_same_rank_as_searched_card(all_cards, lucky_card) == True\n",
    "assert  are_any_cards_same_rank_as_searched_card(all_cards, unlucky_card) == False\n",
    "assert  are_any_cards_same_rank_as_searched_card([h7,c2,d7], lucky_card) == False\n",
    "print(\"all tests passed\")"
   ]
  },
  {
   "cell_type": "markdown",
   "metadata": {},
   "source": [
    "# b: For Loop"
   ]
  },
  {
   "cell_type": "code",
   "execution_count": null,
   "metadata": {},
   "outputs": [],
   "source": [
    "def are_any_cards_same_rank_as_searched_card(cards, searched_card):\n",
    "    same_rank_card_count = 0 \n",
    "    for card in cards:\n",
    "        if card['rank'] == searched_card['rank']:\n",
    "            same_rank_card_count +=1 \n",
    "    return same_rank_card_count > 0"
   ]
  },
  {
   "cell_type": "code",
   "execution_count": null,
   "metadata": {},
   "outputs": [],
   "source": [
    "cards = [{\"suit\":\"Heart\", \"rank\":\"7\"}, \n",
    "         {\"suit\":\"Heart\", \"rank\":\"8\"},\n",
    "         {\"suit\":\"Club\", \"rank\":\"Q\"}]\n",
    "lucky_card = {\"suit\":\"Club\", \"rank\":\"8\"}\n",
    "unlucky_card = {\"suit\":\"Club\", \"rank\":\"2\"}\n",
    "\n",
    "print(are_any_cards_same_rank_as_searched_card(cards, lucky_card))"
   ]
  },
  {
   "cell_type": "code",
   "execution_count": null,
   "metadata": {},
   "outputs": [],
   "source": [
    "h7 = {\"suit\":\"Heart\", \"rank\":\"7\"}\n",
    "h8 = {\"suit\":\"Heart\", \"rank\":\"8\"}\n",
    "cq = {\"suit\":\"Club\", \"rank\":\"Q\"}\n",
    "ca = {\"suit\":\"Club\", \"rank\":\"A\"}\n",
    "c2 = {\"suit\":\"Club\", \"rank\":\"2\"}\n",
    "d7 = {\"suit\":\"Diamond\", \"rank\":\"7\"}\n",
    "\n",
    "all_cards = [h7,h8,cq,ca,c2,d7] \n",
    "# notice, we could spell out all the cards again,\n",
    "# but this is more DRY\n",
    "\n",
    "lucky_card = {\"suit\":\"Club\", \"rank\":\"8\"}\n",
    "unlucky_card = {\"suit\":\"Club\", \"rank\":\"3\"}\n",
    "\n",
    "assert  are_any_cards_same_rank_as_searched_card(all_cards, lucky_card) == True\n",
    "assert  are_any_cards_same_rank_as_searched_card(all_cards, unlucky_card) == False\n",
    "assert  are_any_cards_same_rank_as_searched_card([h7,c2,d7], lucky_card) == False\n",
    "print(\"all tests passed\")"
   ]
  },
  {
   "cell_type": "markdown",
   "metadata": {},
   "source": [
    "# c. Higher Order Function"
   ]
  },
  {
   "cell_type": "code",
   "execution_count": null,
   "metadata": {},
   "outputs": [],
   "source": [
    "def are_any_cards_same_rank_as_searched_card(cards, searched_card):\n",
    "    return len(list(filter(lambda card: card['rank'] == searched_card['rank'], cards))) > 0"
   ]
  },
  {
   "cell_type": "code",
   "execution_count": null,
   "metadata": {},
   "outputs": [],
   "source": [
    "h7 = {\"suit\":\"Heart\", \"rank\":\"7\"}\n",
    "h8 = {\"suit\":\"Heart\", \"rank\":\"8\"}\n",
    "cq = {\"suit\":\"Club\", \"rank\":\"Q\"}\n",
    "ca = {\"suit\":\"Club\", \"rank\":\"A\"}\n",
    "c2 = {\"suit\":\"Club\", \"rank\":\"2\"}\n",
    "d7 = {\"suit\":\"Diamond\", \"rank\":\"7\"}\n",
    "\n",
    "all_cards = [h7,h8,cq,ca,c2,d7] \n",
    "# notice, we could spell out all the cards again,\n",
    "# but this is more DRY\n",
    "\n",
    "lucky_card = {\"suit\":\"Club\", \"rank\":\"8\"}\n",
    "unlucky_card = {\"suit\":\"Club\", \"rank\":\"3\"}\n",
    "\n",
    "assert  are_any_cards_same_rank_as_searched_card(all_cards, lucky_card) == True\n",
    "assert  are_any_cards_same_rank_as_searched_card(all_cards, unlucky_card) == False\n",
    "assert  are_any_cards_same_rank_as_searched_card([h7,c2,d7], lucky_card) == False\n",
    "print(\"all tests passed\")"
   ]
  },
  {
   "cell_type": "markdown",
   "metadata": {},
   "source": [
    "# DECISION TIME!\n",
    "\n",
    "If you're comfortable with Higher Order Functions, go back and solve the previous 5 tasks using Higher Order Functions. Remember you can create a new cell press the “+” button on the menu bar or hover underneath the previous cell and click on the \"Click to add cell\""
   ]
  },
  {
   "cell_type": "markdown",
   "metadata": {},
   "source": [
    "# Extra exercises: To do at home later\n",
    "\n",
    "Because so many of you requested it, here are some extra tasks that you takle at home later. "
   ]
  },
  {
   "cell_type": "markdown",
   "metadata": {},
   "source": [
    "## Task 6\n",
    "\n",
    "Use `map` to create a list of population densities for each city. The population density is calculated as: population divided by area. You can use a named function or a lambda.\n",
    "\n",
    "Spoiler: densities are Edinburgh: 1893, Glasgow: 3428, Inverness 2500"
   ]
  },
  {
   "cell_type": "code",
   "execution_count": null,
   "metadata": {},
   "outputs": [],
   "source": [
    "## Calculate Population Density Using map (Without Lambda)\n",
    "# List of cities\n",
    "cities = [\n",
    "    {\"name\": \"Edinburgh\", \"population\": 500000, \"area\": 264},\n",
    "    {\"name\": \"Glasgow\", \"population\": 600000, \"area\": 175},\n",
    "    {\"name\": \"Inverness\", \"population\": 50000, \"area\": 20}\n",
    "]\n",
    "# Function to calculate population density\n",
    "def calculate_density(city):\n",
    "    return round(city[\"population\"] / city[\"area\"], 2)\n",
    "\n",
    "# Using map with the named function\n",
    "densities = list(map(calculate_density, cities))\n",
    "\n",
    "print(densities)\n",
    "\n",
    "# Using a lambda to calculate population density\n",
    "densities = list(map(lambda city: round(city[\"population\"] / city[\"area\"], 2), cities))\n",
    "\n",
    "print(densities)"
   ]
  },
  {
   "cell_type": "markdown",
   "metadata": {},
   "source": [
    "## Task 7\n",
    "\n",
    "Find cities with population over 100,000 Using `filter`\n",
    "\n",
    "Note: The `filter` function will return a Map type object. Wrap it in a `list()` function to get a List object. "
   ]
  },
  {
   "cell_type": "code",
   "execution_count": null,
   "metadata": {},
   "outputs": [],
   "source": [
    "# List of cities\n",
    "cities = [\n",
    "    {\"name\": \"Edinburgh\", \"population\": 500000, \"area\": 264},\n",
    "    {\"name\": \"Glasgow\", \"population\": 600000, \"area\": 175},\n",
    "    {\"name\": \"Inverness\", \"population\": 50000, \"area\": 20}\n",
    "]\n",
    "\n",
    "# Function to check if a city has a population greater than 100000\n",
    "def is_large_city(city):\n",
    "    return city[\"population\"] > 100000\n",
    "\n",
    "# Using filter with the named function\n",
    "large_cities = list(filter(is_large_city, cities))\n",
    "\n",
    "print(large_cities)\n",
    "\n",
    "\n",
    "# Using filter to find cities with population > 100000\n",
    "large_cities = list(filter(lambda city: city[\"population\"] > 100000, cities))\n",
    "\n",
    "print(large_cities)"
   ]
  },
  {
   "cell_type": "markdown",
   "metadata": {},
   "source": [
    "## Task 8: Difficult, Optional: 'Nested' or 'multi-dimentional' List Comp "
   ]
  },
  {
   "cell_type": "code",
   "execution_count": 39,
   "metadata": {},
   "outputs": [],
   "source": [
    "# New thing: what if we want to dig deeper into a collection which holds a collection?\n",
    "meals = [\n",
    "    {'name': 'tea', 'ingredients' : ['tea leaves', 'water']},\n",
    "    {'name': 'pasta', 'ingredients' : ['eggs', 'flour', 'water']},\n",
    "    {'name': 'humus', 'ingredients' : ['chickpeas', 'tahini', 'lemon', 'olive']},\n",
    "    {'name': 'guacamole', 'ingredients' : ['avocado', 'lime', 'garlic', 'salt', 'chilli']}\n",
    "]\n",
    "meals_vegan = [\n",
    "    {'name': 'tea', 'ingredients' : ['tea leaves', 'water']},\n",
    "    {'name': 'humus', 'ingredients' : ['chickpeas', 'tahini', 'lemon', 'olive']},\n",
    "    {'name': 'guacamole', 'ingredients' : ['avocado', 'lime', 'garlic', 'salt', 'chilli']}\n",
    "]"
   ]
  },
  {
   "cell_type": "code",
   "execution_count": 40,
   "metadata": {},
   "outputs": [
    {
     "name": "stdout",
     "output_type": "stream",
     "text": [
      "['tea leaves', 'water', 'eggs', 'flour', 'water', 'chickpeas', 'tahini', 'lemon', 'olive', 'avocado', 'lime', 'garlic', 'salt', 'chilli']\n"
     ]
    }
   ],
   "source": [
    "# to get all ingredients, you'd have to:\n",
    "# in each meal, dive into each ingredient\n",
    "\n",
    "def all_ingredients(all_dishes):\n",
    "    return [\n",
    "        ingredient\n",
    "        for meal in all_dishes\n",
    "        for ingredient in meal['ingredients']\n",
    "    ]\n",
    "print(all_ingredients(meals))"
   ]
  },
  {
   "cell_type": "code",
   "execution_count": null,
   "metadata": {},
   "outputs": [
    {
     "name": "stdout",
     "output_type": "stream",
     "text": [
      "['chickpeas', 'tahini', 'lemon', 'olive', 'avocado', 'lime', 'garlic', 'salt', 'chilli']\n"
     ]
    }
   ],
   "source": [
    "meals = [\n",
    "    {'name': 'tea', 'ingredients' : ['tea leaves', 'water']},\n",
    "    {'name': 'pasta', 'ingredients' : ['eggs', 'flour', 'water']},\n",
    "    {'name': 'humus', 'ingredients' : ['chickpeas', 'tahini', 'lemon', 'olive']},\n",
    "    {'name': 'guacamole', 'ingredients' : ['avocado', 'lime', 'garlic', 'salt', 'chilli']}\n",
    "]\n",
    "meals_vegan = [\n",
    "    {'name': 'tea', 'ingredients' : ['tea leaves', 'water']},\n",
    "    {'name': 'humus', 'ingredients' : ['chickpeas', 'tahini', 'lemon', 'olive']},\n",
    "    {'name': 'guacamole', 'ingredients' : ['avocado', 'lime', 'garlic', 'salt', 'chilli']}\n",
    "]\n"
   ]
  },
  {
   "cell_type": "code",
   "execution_count": null,
   "metadata": {},
   "outputs": [],
   "source": [
    "\n",
    "# to get all ingredients, you'd have to:\n",
    "# in each meal, dive into each ingredient\n",
    "\n",
    "def ingredients_for_complicated_meals(all_dishes):\n",
    "    #     let's say a meal is complicates if it has 4 of more ingredients\n",
    "    return [\n",
    "        ingredient\n",
    "        for meal in all_dishes\n",
    "        for ingredient in meal['ingredients']\n",
    "        if len(meal['ingredients']) > 3\n",
    "    ]\n",
    "\n",
    "print(ingredients_for_complicated_meals(meals))"
   ]
  },
  {
   "cell_type": "code",
   "execution_count": 60,
   "metadata": {},
   "outputs": [],
   "source": [
    "meals = [\n",
    "    {'name': 'tea', 'ingredients' : ['tea leaves', 'water']},\n",
    "    {'name': 'pasta', 'ingredients' : ['eggs', 'flour', 'water']},\n",
    "    {'name': 'humus', 'ingredients' : ['chickpeas', 'tahini', 'lemon', 'olive']},\n",
    "    {'name': 'guacamole', 'ingredients' : ['avocado', 'lime', 'garlic', 'salt', 'chilli']}\n",
    "]\n",
    "meals_vegan = [\n",
    "    {'name': 'tea', 'ingredients' : ['tea leaves', 'water']},\n",
    "    {'name': 'humus', 'ingredients' : ['chickpeas', 'tahini', 'lemon', 'olive']},\n",
    "    {'name': 'guacamole', 'ingredients' : ['avocado', 'lime', 'garlic', 'salt', 'chilli']}\n",
    "]\n"
   ]
  },
  {
   "cell_type": "code",
   "execution_count": 61,
   "metadata": {},
   "outputs": [
    {
     "name": "stdout",
     "output_type": "stream",
     "text": [
      "['tea', 'tea', 'humus', 'humus', 'humus', 'humus', 'guacamole', 'guacamole', 'guacamole', 'guacamole']\n"
     ]
    }
   ],
   "source": [
    "# this solution is on purpose a bit odd...\n",
    "# do you see what is really odd about the print? Can you guess why?\n",
    "\n",
    "def meal_names_without_these(all_dishes, forbidden_ingredient, forbidden_meal_names):\n",
    "    all_names = [\n",
    "        meal['name']\n",
    "        for meal in meals\n",
    "        for ingredient in meal['ingredients']\n",
    "        if meal['name'] != forbidden_meal_names and ingredient != forbidden_ingredient\n",
    "    ]\n",
    "    return all_names\n",
    "    # return list(set(all_names))  # use this return instead to make it slightly less odd\n",
    "print(meal_names_without_these(meals, \"salt\", \"pasta\"))\n",
    "\n"
   ]
  },
  {
   "cell_type": "code",
   "execution_count": 66,
   "metadata": {},
   "outputs": [
    {
     "name": "stdout",
     "output_type": "stream",
     "text": [
      "['tea', 'pasta']\n",
      "['tea', 'pasta', 'humus']\n",
      "['tea']\n"
     ]
    }
   ],
   "source": [
    "# you could also solve it like this:\n",
    "\n",
    "def has_ingredient(meal, ingredient_we_seek):\n",
    "    return len([\n",
    "        ingredient\n",
    "        for ingredient in meal['ingredients']\n",
    "        if ingredient == ingredient_we_seek\n",
    "    ]) > 0\n",
    "\n",
    "#  or simply:\n",
    "\n",
    "# def has_ingredient(meal, ingredient): \n",
    "#     return ingredient in meal['ingredients']\n",
    "\n",
    "\n",
    "def meal_names_without_these(all_dishes, forbidden_ingredient, forbidden_meal_name):\n",
    "    all_names = [\n",
    "        meal['name']\n",
    "        for meal in all_dishes\n",
    "        if meal['name'] != forbidden_meal_name and not has_ingredient(meal, forbidden_ingredient)\n",
    "    ]\n",
    "    return all_names\n",
    "\n",
    "    # return list(set(all_names))  # use this return instead to make it slightly less odd\n",
    "print(meal_names_without_these(meals, \"salt\", \"humus\"))\n",
    "print(meal_names_without_these(meals, \"salt\", \"broth\"))\n",
    "print(meal_names_without_these(meals_vegan, \"garlic\", \"humus\"))\n",
    "\n"
   ]
  },
  {
   "cell_type": "code",
   "execution_count": null,
   "metadata": {},
   "outputs": [],
   "source": []
  }
 ],
 "metadata": {
  "kernelspec": {
   "display_name": "Python 3",
   "language": "python",
   "name": "python3"
  },
  "language_info": {
   "codemirror_mode": {
    "name": "ipython",
    "version": 3
   },
   "file_extension": ".py",
   "mimetype": "text/x-python",
   "name": "python",
   "nbconvert_exporter": "python",
   "pygments_lexer": "ipython3",
   "version": "3.12.5"
  }
 },
 "nbformat": 4,
 "nbformat_minor": 2
}
