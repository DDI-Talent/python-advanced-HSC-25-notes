{
 "cells": [
  {
   "cell_type": "markdown",
   "id": "bcc34fd8",
   "metadata": {},
   "source": [
    "# Lab for badges 23 - 25\n",
    "\n",
    "## Who survived on the Titanic?\n",
    "\n",
    "In this lab we will use a famous learning dataset about passangers of the Titanic. Titanic was a big passenger boat which sunk on 15 April 1912. We have quite detailed information about passengers and whether they survived. On this lab we will investigate the relationship between those variables (eg. wealth, age, gender, cabin number) and survival."
   ]
  },
  {
   "cell_type": "code",
   "execution_count": null,
   "id": "60f5546d",
   "metadata": {},
   "outputs": [],
   "source": [
    "import pandas as pd"
   ]
  },
  {
   "cell_type": "code",
   "execution_count": null,
   "id": "db117126",
   "metadata": {},
   "outputs": [],
   "source": [
    "passengers = pd.read_csv('./data/titanic_kaggle_train.csv')\n",
    "# this version of titanic dataset is taken from Kaggle\n",
    "# https://www.kaggle.com/competitions/titanic/data?select=test.csv\n",
    "passengers"
   ]
  },
  {
   "cell_type": "markdown",
   "id": "1c8f0f6f",
   "metadata": {},
   "source": [
    "# Task 1: Descriptive statistics\n",
    "\n",
    "Describe the dataset in a set of bulletpoints (use Pandas to give you the answers). Try to backup each bulletpoint with separate pieces of Python code.\n",
    "\n",
    "Below are just some examples to get you started, but explore numbers and types of things (rows, columns). What are max min and mean of the numeric ones? Which columns have missing values and how many? etc.\n",
    "\n",
    "For exaplanations of what columns mean see https://www.kaggle.com/competitions/titanic/data?select=test.csv"
   ]
  },
  {
   "cell_type": "markdown",
   "id": "27932e1d",
   "metadata": {},
   "source": [
    "### A. What columns and of what type did you find? How many rows and columns?"
   ]
  },
  {
   "cell_type": "code",
   "execution_count": null,
   "id": "b371c5e7",
   "metadata": {},
   "outputs": [],
   "source": [
    "passengers.shape"
   ]
  },
  {
   "cell_type": "code",
   "execution_count": null,
   "id": "605eaab4",
   "metadata": {},
   "outputs": [],
   "source": [
    "passengers.columns"
   ]
  },
  {
   "cell_type": "code",
   "execution_count": null,
   "id": "f8ac9597",
   "metadata": {},
   "outputs": [],
   "source": [
    "passengers.info()"
   ]
  },
  {
   "cell_type": "code",
   "execution_count": null,
   "id": "2a32bb70",
   "metadata": {},
   "outputs": [],
   "source": [
    "print(\"Mean\", passengers.Age.mean())\n",
    "# ...\n",
    "# ...\n",
    "# (you can add more cells with + button in the top menu)"
   ]
  },
  {
   "cell_type": "markdown",
   "id": "f82f01b7",
   "metadata": {},
   "source": [
    "**Answer A:**\n",
    "\n",
    "There are 12 columns (+ index) and 887 rows. \n",
    "\n",
    "Columns have names: 'PassengerId', 'Survived', 'Pclass', 'Name', 'Sex', 'Age', 'SibSp',\n",
    "       'Parch', 'Ticket', 'Fare', 'Cabin', 'Embarked'\n",
    "\n",
    "Name and Sex columns are an object (likely a string), Age and Fare are Floats, and Sibling/Parent rows are Integers.\n",
    "\n",
    "Age had a mean 29 years, and max and min are ... [you continue]"
   ]
  },
  {
   "cell_type": "markdown",
   "id": "7ee512d3",
   "metadata": {},
   "source": [
    "# Task 2. Answers basic questions: Select some rows, some columns and run some simple statistics\n",
    "\n",
    "What makes a good **'Basic Question'**? Question which you can explore by selecting only some rows and columns.\n",
    "\n",
    "Example Basic Questions:\n",
    "\n",
    "- Just select Name and Age components of the data frame. Sort them by Age and get the names of the 10 oldest passengers\n",
    "- Pick the fares of passengers who survived and did not survive and compare their ticket class (Pclass), Fare cost and Sex. Is there a large difference in the means?\n",
    "\n",
    "**Itentify 5 Basic Questions** like above and answer them with a simple sentence. Provide Python code which will find you that answer. \n",
    "\n",
    "Call them 'A', 'B', 'C', ...\n",
    "\n",
    "### To get you started, here is some starting code. Read it, make sure you understand it. Feel free to modify it."
   ]
  },
  {
   "cell_type": "markdown",
   "id": "91b60efa",
   "metadata": {},
   "source": [
    "Note about referencing: iloc[rows, columns] is used when referencing with numbers, and loc[rows, columns] is used when referencing by names. \n",
    "\n",
    "Also colon `:` means `'all of them'`"
   ]
  },
  {
   "cell_type": "code",
   "execution_count": null,
   "id": "acbb0171",
   "metadata": {},
   "outputs": [],
   "source": [
    "# first passenger, their data in column indexed 4\n",
    "passengers.iloc[0,4]"
   ]
  },
  {
   "cell_type": "code",
   "execution_count": null,
   "id": "b8cb7971",
   "metadata": {},
   "outputs": [],
   "source": [
    "passengers.iloc[0:5,[2,3,-1]] # first 5 passengers, only columns 2, 3 and the last one"
   ]
  },
  {
   "cell_type": "code",
   "execution_count": null,
   "id": "4174ff31",
   "metadata": {},
   "outputs": [],
   "source": [
    "# same as above, but actually making sense ;) - NOTICE WE USE LOC, NOT ILOC\n",
    "passengers.loc[0:5,[\"Pclass\",\"Name\",\"Embarked\"]] # first 5 passengers, only columns 2, 3 and the last one"
   ]
  },
  {
   "cell_type": "code",
   "execution_count": null,
   "id": "9bee1921",
   "metadata": {},
   "outputs": [],
   "source": [
    "passengers.loc[10:20,['Age', 'Fare']] \n",
    "# passengers with indexes 10 to 20 passangers, only columns 'Age', 'Fare'"
   ]
  },
  {
   "cell_type": "code",
   "execution_count": null,
   "id": "bde01681",
   "metadata": {},
   "outputs": [],
   "source": [
    "passengers.loc[:,['Name']] # All rows, column name"
   ]
  },
  {
   "cell_type": "code",
   "execution_count": null,
   "id": "3f32d8df",
   "metadata": {},
   "outputs": [],
   "source": [
    "# finally, you can combine them:\n",
    "# get first 5 people, and their Names\n",
    "passengers.iloc[0:5,:].loc[:,'Name']"
   ]
  },
  {
   "cell_type": "markdown",
   "id": "3969f3f0",
   "metadata": {},
   "source": [
    "To pick first or last n items you can also use .head(n) or tail(n).\n",
    "\n",
    "And if picking just one column (and it does not have spaces in the name), you can use .ColumnName "
   ]
  },
  {
   "cell_type": "code",
   "execution_count": null,
   "id": "7ba2578a",
   "metadata": {},
   "outputs": [],
   "source": [
    "passengers.head(5).Name"
   ]
  },
  {
   "cell_type": "code",
   "execution_count": null,
   "id": "f9453c1a",
   "metadata": {},
   "outputs": [],
   "source": [
    "# notice that .loc[:,'Name'] is the same as .Name\n",
    "# try to guess, what are advantages and limitations of .ColumnName notation? \n",
    "\n",
    "passengers.head(5).loc[:,'Name']"
   ]
  },
  {
   "cell_type": "markdown",
   "id": "f43d0599",
   "metadata": {},
   "source": [
    "Ok, let's find our 5 questions and answer them (call them A,B,C,D and E)\n",
    "\n",
    "### A: Names of oldest passengers. What can we tell about their survival rate when compared with youngest ones?\n",
    "\n",
    "When exploring data it is hard to come up with tests, but you can try to create an 'aspirational placeholders sentence' and then aim to create code to 'fill it in'.\n",
    "\n",
    "**Here's a sentence we will 'complete' together:**\n",
    "\n",
    "\n",
    "Name of the oldest passenger (`X` years old) was `Mrs. ABC`.\n",
    "\n",
    "Survival rate of 10 oldest passangers was `Z`%, and of the youngest 10 passagners `Y`%.\n",
    "\n",
    "For context, the average survival rate on the whole boat was `W`%.`"
   ]
  },
  {
   "cell_type": "markdown",
   "id": "52754d47",
   "metadata": {},
   "source": [
    "```"
   ]
  },
  {
   "cell_type": "code",
   "execution_count": null,
   "id": "e323d654",
   "metadata": {},
   "outputs": [],
   "source": [
    "# just select name and age components of the data frame. \n",
    "dfA2 = passengers[['Age', 'Name', 'Pclass', 'Survived']].copy()\n",
    "\n",
    "# Sort them by Age \n",
    "dfA2.sort_values(by='Age', ascending=False, inplace=True)\n",
    "\n",
    "# and get the names of 10 oldest passangers\n",
    "oldest_10 = dfA2.iloc[0:10]\n",
    "oldest_10"
   ]
  },
  {
   "cell_type": "code",
   "execution_count": null,
   "id": "5e0c9b82",
   "metadata": {},
   "outputs": [],
   "source": [
    "# note: and if you wanted to get names of all people over 70\n",
    "print(dfA2[dfA2.Age > 70].loc[:, ['Name','Age']])"
   ]
  },
  {
   "cell_type": "code",
   "execution_count": null,
   "id": "876d051e",
   "metadata": {},
   "outputs": [],
   "source": [
    "# Or get names of all people over 50 who survived\n",
    "print(dfA2[(dfA2.Age > 50)&(dfA2.Survived == 1)].loc[:, ['Name','Age']])"
   ]
  },
  {
   "cell_type": "code",
   "execution_count": null,
   "id": "d85e6321",
   "metadata": {},
   "outputs": [],
   "source": [
    "print('oldest 10 survival', dfA2.iloc[0:10,:].loc[:, 'Survived'].mean())\n",
    "# could also be\n",
    "print('oldest 10 survival', dfA2.iloc[0:10,:].Survived.mean())\n",
    "print('oldest 10 survival', dfA2.head(10).Survived.mean())"
   ]
  },
  {
   "cell_type": "code",
   "execution_count": null,
   "id": "1ff8e635",
   "metadata": {},
   "outputs": [],
   "source": [
    "print('youngest 10 survival', dfA2.tail(10).Survived.mean())"
   ]
  },
  {
   "cell_type": "code",
   "execution_count": null,
   "id": "6d61ac56",
   "metadata": {},
   "outputs": [],
   "source": [
    "# wait a minute.. that looks a bit suspicious! Children died with such frequency?\n",
    "# let's have a look at the data!\n",
    "dfA2.tail(10)"
   ]
  },
  {
   "cell_type": "code",
   "execution_count": null,
   "id": "87bf2572",
   "metadata": {},
   "outputs": [],
   "source": [
    "# oh no! that's the data for those where age is missing!\n",
    "# let's ask for average for those with known age, but still youngest\n",
    "dfA2[ dfA2['Age'].notna()].tail(10)\n",
    "# why do you think decimal ages are 0.42, 0.67, 0.75, 0.83 and 0.93 - oh why?"
   ]
  },
  {
   "cell_type": "code",
   "execution_count": null,
   "id": "04ec33f5",
   "metadata": {},
   "outputs": [],
   "source": [
    "print(\"youngest 10 survival: \", dfA2[ dfA2['Age'].notna()].tail(10).Survived.mean())\n"
   ]
  },
  {
   "cell_type": "code",
   "execution_count": null,
   "id": "cb01dd3d",
   "metadata": {},
   "outputs": [],
   "source": [
    "print('average age survival', dfA2.Survived.mean())\n",
    "print('average age survival (if age known)', dfA2[ dfA2['Age'].notna()].Survived.mean())\n",
    "# how do you interpret those results? What would it mean?"
   ]
  },
  {
   "cell_type": "markdown",
   "id": "e7d5cde7",
   "metadata": {},
   "source": [
    "Answer: Name of the oldest passanger (80) was Mr. Algernon Henry Wilson Barkworth. Survival rate of 10 oldest passangers was 10%, and of the youngest 10 passagners 90%. In context, the average survival rate was 38%."
   ]
  },
  {
   "cell_type": "markdown",
   "id": "30195a01",
   "metadata": {},
   "source": []
  },
  {
   "cell_type": "markdown",
   "id": "61da9050",
   "metadata": {},
   "source": [
    "### B: (your turn) What's the impact of Passanger Class and Sex on the suvival?\n",
    "\n",
    "Hint: start with this:\n",
    "\n",
    "- `Groupby` takes colums to retain and tries to create a 'grid of values at all possible intersections'. (observed=True means that if some data is completely missing, it will not be included).\n",
    "\n",
    "`passengers.groupby(['TicketClass', 'Survived'], observed=True)`\n",
    "\n",
    "- the trick is that then we do nto have items with values, like 123, but rather whole collections of items\n",
    "- you can limit the data you care about by just selecting some items\n",
    "\n",
    "`passengers.groupby(['TicketClass', 'Survived'], observed=True)['PassengerId']`\n",
    "\n",
    "- so we need to specify how to represent/map each collection of items at an intersection (e.g. count() them, or get average())\n",
    "\n",
    "`passengers.groupby(['TicketClass', 'Survived'], observed=True)['PassengerId'].count()`\n",
    "\n",
    "- you will get a stacked table. but you can un-stack it with  .unstack()\n",
    "\n",
    "`passengers.groupby(['TicketClass', 'Survived'], observed=True)['PassengerId'].count().unstack()`"
   ]
  },
  {
   "cell_type": "code",
   "execution_count": null,
   "id": "f6a66cc5",
   "metadata": {},
   "outputs": [],
   "source": [
    "# your code here (add more cells with '+' in the top menu)\n",
    "\n",
    "# here's some code to get you started\n",
    "\n",
    "grouped = passengers.groupby(['TicketClass', 'Survived'], observed=True)['PassengerId'].count().unstack()\n",
    "grouped \n",
    "# btw. notice we are not printing a table, but rather using the fact that last 'non-comment' line in a code cell\n",
    "# will be shown in a prettier, colourful and interactive way. To see the difference, add a line with:  print(grouped)"
   ]
  },
  {
   "cell_type": "code",
   "execution_count": null,
   "id": "e1b2e7f1",
   "metadata": {},
   "outputs": [],
   "source": []
  },
  {
   "cell_type": "markdown",
   "id": "d4e888e3",
   "metadata": {},
   "source": [
    "You answer here:"
   ]
  },
  {
   "cell_type": "markdown",
   "id": "923bbcf0",
   "metadata": {},
   "source": [
    "### C: Your question? Select a subset, and look at it's qualities"
   ]
  },
  {
   "cell_type": "code",
   "execution_count": null,
   "id": "e554bb68",
   "metadata": {},
   "outputs": [],
   "source": [
    "# your code here (add more cells with '+' in the top menu)"
   ]
  },
  {
   "cell_type": "code",
   "execution_count": null,
   "id": "645c1234",
   "metadata": {},
   "outputs": [],
   "source": []
  },
  {
   "cell_type": "markdown",
   "id": "b95c3b2b",
   "metadata": {},
   "source": [
    "You answer here:"
   ]
  },
  {
   "cell_type": "markdown",
   "id": "5e3c672d",
   "metadata": {},
   "source": [
    "# Task 3: Cleaning up and improving the dataset:\n",
    "\n",
    "A: Identify missing values and decide what to do with them. You can remove whole rows with missing things, or you can fill them with averages. Or averages for a particular subgroup.\n",
    "\n",
    "B: Rename the column names so that they follow the same naming convention (eg. no spaces, CamelCase or snake_case). \n",
    "\n",
    "C: Can you create new columns which use available information? eg. Can you create a column TravelingAlone based on the values in siblings/partners and parents/children ?"
   ]
  },
  {
   "cell_type": "markdown",
   "id": "b8203e40",
   "metadata": {},
   "source": [
    "### A: Looking at missing values"
   ]
  },
  {
   "cell_type": "code",
   "execution_count": null,
   "id": "802ec309",
   "metadata": {},
   "outputs": [],
   "source": [
    "# btw. re-run this cell to reset yoru dataset it its original form\n",
    "passengers = pd.read_csv('./data/titanic_kaggle_train.csv')\n"
   ]
  },
  {
   "cell_type": "code",
   "execution_count": null,
   "id": "b514c90a",
   "metadata": {},
   "outputs": [],
   "source": [
    "# all data into binary: is missing or not:\n",
    "passengers.isna()"
   ]
  },
  {
   "cell_type": "code",
   "execution_count": null,
   "id": "7cb2dfd0",
   "metadata": {},
   "outputs": [],
   "source": [
    "# by columns, are any items True?\n",
    "passengers.isna().any()"
   ]
  },
  {
   "cell_type": "code",
   "execution_count": null,
   "id": "da9ca10e",
   "metadata": {},
   "outputs": [],
   "source": [
    "# how many passagners would you loose if you passengers.dropna(axis=0) ?\n",
    "# you can use .shape()\n",
    "pass_no_na = passengers.dropna(axis=0)\n",
    "pass_no_na"
   ]
  },
  {
   "cell_type": "code",
   "execution_count": null,
   "id": "26319f51",
   "metadata": {},
   "outputs": [],
   "source": [
    "# You could replace all missing values with a set value, \n",
    "passengers = pd.read_csv('./data/titanic_kaggle_train.csv')\n",
    "pass_no_na = passengers.fillna(0) \n",
    "# but what unexpected effects it could have?\n",
    "pass_no_na"
   ]
  },
  {
   "cell_type": "code",
   "execution_count": null,
   "id": "10ebfacb",
   "metadata": {},
   "outputs": [],
   "source": [
    "# or you can replace them with a most common value,\n",
    "# or other statistic of that column eg.mean, max\n",
    "passengers = pd.read_csv('./data/titanic_kaggle_train.csv')\n",
    "passengers.fillna(passengers.mean(numeric_only=True)) "
   ]
  },
  {
   "cell_type": "code",
   "execution_count": null,
   "id": "1d78ede0",
   "metadata": {},
   "outputs": [],
   "source": [
    "# for non-numeric values one of the oprtions is to use the most common (mode) value.\n",
    "# since there might be mady most common values, you'll have to specify that you want the first one\n",
    "passengers = pd.read_csv('./data/titanic_kaggle_train.csv')\n",
    "passengers.fillna(passengers.mode().iloc[0]) \n",
    "# notice what happens with the Cabin"
   ]
  },
  {
   "cell_type": "code",
   "execution_count": null,
   "id": "653a8f70",
   "metadata": {},
   "outputs": [],
   "source": [
    "# you could also sopecify individual columns and values\n",
    "passengers = pd.read_csv('./data/titanic_kaggle_train.csv')\n",
    "passengers.Cabin.fillna(\"NoCabin\", inplace=True) \n",
    "passengers"
   ]
  },
  {
   "cell_type": "code",
   "execution_count": null,
   "id": "d28b6910",
   "metadata": {},
   "outputs": [],
   "source": [
    "# Your task, decide what to do with the missing values in the origibnal dataset:\n",
    "# Once your_dataset.isna().any() returns all False, there are no more missing values"
   ]
  },
  {
   "cell_type": "code",
   "execution_count": null,
   "id": "4a5c41a4",
   "metadata": {},
   "outputs": [],
   "source": []
  },
  {
   "cell_type": "code",
   "execution_count": null,
   "id": "0661e43a",
   "metadata": {},
   "outputs": [],
   "source": []
  },
  {
   "cell_type": "markdown",
   "id": "8b387464",
   "metadata": {},
   "source": [
    "### B: Duplicates. \n",
    "\n",
    "In this dataset there are no dulplicates. So here's a small exercise. Let's duplicate the first person so they appear 3 times. And let's change the age of one of those entries. So we're pretending first passanger got accidentally added 3 times, including once with a slightly different data for age."
   ]
  },
  {
   "cell_type": "code",
   "execution_count": null,
   "id": "b83097ab",
   "metadata": {},
   "outputs": [],
   "source": [
    "# add two more copies of first row (person called Braund, Mr. Owen Harris)\n",
    "passengers = pd.read_csv('./data/titanic_kaggle_train.csv')\n",
    "with_duplicates = passengers\n",
    "with_duplicates = pd.concat((passengers.iloc[0:1], passengers.iloc[0:1], passengers))\n",
    "with_duplicates"
   ]
  },
  {
   "cell_type": "code",
   "execution_count": null,
   "id": "b28fac1b",
   "metadata": {},
   "outputs": [],
   "source": [
    "# now let's fix the index\n",
    "with_duplicates.reset_index(drop=True, inplace=True) # drop completely forgets previous index\n",
    "with_duplicates"
   ]
  },
  {
   "cell_type": "code",
   "execution_count": null,
   "id": "d96fff0c",
   "metadata": {},
   "outputs": [],
   "source": [
    "# change one of the duplicates to have another age:\n",
    "with_duplicates.loc[1,'Age'] = 23 \n",
    "\n",
    "# Note: as well as loc[] and iloc[], which access many items,\n",
    "# you can use at[] and iat[] to access just one:\n",
    "# with_duplicates.at[1,'Age'] = 23\n",
    "\n",
    "with_duplicates"
   ]
  },
  {
   "cell_type": "markdown",
   "id": "06da6d40",
   "metadata": {},
   "source": [
    "Now let's check for duplicates, and remove them. You might want to define a duplicate as when some unique element (or a combination of unique elements) are the same."
   ]
  },
  {
   "cell_type": "code",
   "execution_count": null,
   "id": "e9af928c",
   "metadata": {},
   "outputs": [],
   "source": [
    "with_duplicates.duplicated()\n",
    "# here you should see that the person at index 2 is a duplicate (perfectly identical)\n",
    "# you could also decide to keep last (not first) with  duplicated(keep='last')"
   ]
  },
  {
   "cell_type": "code",
   "execution_count": null,
   "id": "0c8c1b47",
   "metadata": {},
   "outputs": [],
   "source": [
    "no_duplicates1 = with_duplicates.drop_duplicates()\n",
    "no_duplicates1\n",
    "# this would remove all completely-dentical duplicates"
   ]
  },
  {
   "cell_type": "code",
   "execution_count": null,
   "id": "6b0f6dfa",
   "metadata": {},
   "outputs": [],
   "source": [
    "# this would remove all duplicates, identical only in those columns\n",
    "no_duplicates2 = with_duplicates.drop_duplicates(subset=['Name'])\n",
    "no_duplicates2\n",
    "# notice we're down to one duplicated first passanger"
   ]
  },
  {
   "cell_type": "code",
   "execution_count": null,
   "id": "fd879c1b",
   "metadata": {},
   "outputs": [],
   "source": [
    "# so now there are no duplicates\n",
    "no_duplicates2.duplicated()\n"
   ]
  },
  {
   "cell_type": "code",
   "execution_count": null,
   "id": "fc7ed333",
   "metadata": {},
   "outputs": [],
   "source": [
    "# and we can re-index\n",
    "no_duplicates2.reset_index(drop=True, inplace=True)\n",
    "no_duplicates2"
   ]
  },
  {
   "cell_type": "markdown",
   "id": "9387af5e",
   "metadata": {},
   "source": [
    "### C: Improving Column names\n",
    "\n",
    "Look at the notes if you're unsure how to do it. You're looking for rename(). Aim for no spaces or special characters in column names, so that you can use . notation, like .Age\n",
    "\n",
    "One improvementc could be making those columns more human readable: SibSp, Parch. See link to Kaggle above for more insights or what they mean/"
   ]
  },
  {
   "cell_type": "code",
   "execution_count": null,
   "id": "a62e9f49",
   "metadata": {},
   "outputs": [],
   "source": [
    "# if you'd like you can rename columns to something meaningful, but remember that "
   ]
  },
  {
   "cell_type": "markdown",
   "id": "447381b5",
   "metadata": {},
   "source": [
    "### D: Categorical variables (in R called Factors, in Java called Enums)\n",
    "\n",
    "Some values are presented as numbers (Pclass), but really, they are categories. Some are presented as strings (sex), but with some careful consideration and kind design can be analysed as categories too (notice this very old dataset is using Sex, not gender - see the note at the end of this lab)."
   ]
  },
  {
   "cell_type": "markdown",
   "id": "bcaa4ce3",
   "metadata": {},
   "source": [
    "So let's not look at the Sex field, but rather Pclass.\n",
    "\n",
    "Let's first have a look at exploring passenger class: What passenger classes were there on the Titanic (on British trains we still have 1st and 2nd class carriages)\n",
    "\n",
    "In the dataset they are represented as:"
   ]
  },
  {
   "cell_type": "code",
   "execution_count": null,
   "id": "7b2a95c7",
   "metadata": {},
   "outputs": [],
   "source": [
    "passengers.Pclass"
   ]
  },
  {
   "cell_type": "code",
   "execution_count": null,
   "id": "d7b8afaf",
   "metadata": {},
   "outputs": [],
   "source": [
    "passengers.Pclass.value_counts()"
   ]
  },
  {
   "cell_type": "code",
   "execution_count": null,
   "id": "41b7cc40",
   "metadata": {},
   "outputs": [],
   "source": [
    "# are there any NA ?\n",
    "passengers.Pclass.isna().value_counts()"
   ]
  },
  {
   "cell_type": "code",
   "execution_count": null,
   "id": "8ef2fe84",
   "metadata": {},
   "outputs": [],
   "source": [
    "passengers['TicketClass'] = pd.Categorical(passengers.Pclass)\n",
    "passengers"
   ]
  },
  {
   "cell_type": "code",
   "execution_count": null,
   "id": "f5856ce8",
   "metadata": {},
   "outputs": [],
   "source": [
    "# Categorical data has number of advantages in generating statistics etc\n",
    "# but also make our datasts much smaller (in memory) and faster (in processing)\n",
    "\n",
    "passengers.memory_usage()\n",
    "# notice TicketClass stores the same data as Pclass, but uses 15% of memory."
   ]
  },
  {
   "cell_type": "code",
   "execution_count": null,
   "id": "01a8b1a3",
   "metadata": {},
   "outputs": [],
   "source": [
    "# Additionally you can specify the order of categories, so that you \n",
    "# could perform comparisons\n",
    "\n",
    "# introduce order\n",
    "passengers['TicketClass'] = pd.Categorical(passengers.Pclass, \n",
    "                                           categories=[3,2,1], # here specify order\n",
    "                                           ordered=True\n",
    "                                          )\n",
    "# optionally re-name categories with cat.rename_categories\n",
    "mapping = {1: 'Luxury', 2: 'Economy', 3: 'LowerDeck'}\n",
    "passengers['TicketClass'] = passengers['TicketClass'].cat.rename_categories(mapping)\n",
    "passengers['TicketClass'] # notice printout shows order of categories"
   ]
  },
  {
   "cell_type": "code",
   "execution_count": null,
   "id": "9ee6f124",
   "metadata": {},
   "outputs": [],
   "source": [
    "# so that you can now eg choose all TicketClass LOWER THAN a number:\n",
    "passengers[passengers['TicketClass'] < 'Luxury']"
   ]
  },
  {
   "cell_type": "code",
   "execution_count": null,
   "id": "6e1836a8",
   "metadata": {},
   "outputs": [],
   "source": [
    "# what other columns could be categories. Try them!"
   ]
  },
  {
   "cell_type": "code",
   "execution_count": null,
   "id": "916a17fa",
   "metadata": {},
   "outputs": [],
   "source": []
  },
  {
   "cell_type": "markdown",
   "id": "b4f83a8a",
   "metadata": {},
   "source": [
    "### E: Creating more columns\n",
    "\n",
    "Look at the notes if you're unsure how to do it. What could you use: age groups? In one of the notebooks you were shown how to group different ranges of values into groups. Maybe you could use that technique on age?\n",
    "\n",
    "Or maybe you could combine columns abotu partners and dependants (SibSp, Parch) into a column TravelsAlone?\n",
    "\n",
    "How do Survival stats look like for different values of the new columns?"
   ]
  },
  {
   "cell_type": "code",
   "execution_count": null,
   "id": "576f8e0a",
   "metadata": {},
   "outputs": [],
   "source": []
  },
  {
   "cell_type": "code",
   "execution_count": null,
   "id": "d5942eef",
   "metadata": {},
   "outputs": [],
   "source": []
  },
  {
   "cell_type": "code",
   "execution_count": null,
   "id": "36d805eb",
   "metadata": {},
   "outputs": [],
   "source": []
  },
  {
   "cell_type": "markdown",
   "id": "8000fb3e",
   "metadata": {},
   "source": [
    "# Extra exercises: Visualisatin\n",
    "\n",
    "Because so many of you requested it, here are some extra tasks that you can tackle at home later. \n",
    "\n",
    "Here's an example of plotting. This is a bar chart of Survival rates by TicketClass. Note that this relies on the previous cells which added the TicketClass category.\n",
    "\n",
    "Modify this code to show other things that you thing could be meaningful."
   ]
  },
  {
   "cell_type": "code",
   "execution_count": null,
   "id": "72f8d0c6",
   "metadata": {},
   "outputs": [],
   "source": [
    "# Bar Chart Example\n",
    "\n",
    "import plotly.graph_objects as go\n",
    "\n",
    "# Calculate mean survival rates by TicketClass\n",
    "# reset_index() converts the grouped result back into a DataFrame\n",
    "survival_rates = passengers.groupby('TicketClass', observed=False)['Survived'].mean().reset_index()\n",
    "\n",
    "# Print and check the dataframe that we'll use to plot\n",
    "print(survival_rates)\n",
    "\n",
    "# Create the bar chart\n",
    "fig = go.Figure(\n",
    "    data=[\n",
    "        go.Bar(\n",
    "        x=survival_rates['TicketClass'], \n",
    "        y=survival_rates['Survived'], \n",
    "        # Format the percentages at the top of the bars and round to 2 decimal places\n",
    "        text=survival_rates['Survived'].apply(lambda x: '{:.2%}'.format(x)), textposition='auto')\n",
    "        ]\n",
    "    )\n",
    "\n",
    "# Add title and axis labels\n",
    "fig.update_layout(\n",
    "    title='Survival Rates by Passenger Class',\n",
    "    xaxis_title='Passenger Class',\n",
    "    yaxis_title='Survival Rate'\n",
    ")\n",
    "\n",
    "fig.show()"
   ]
  },
  {
   "cell_type": "markdown",
   "id": "757b1c60",
   "metadata": {},
   "source": [
    "# Example of something you could try to do with a graph\n",
    "\n",
    "Using Plotly, create a stacked bar chart that shows how survival rates varied across different TicketClasses (Luxury, Economy, LowerDeck). We've given you the pseudocode below and you can scroll down for the solution.\n"
   ]
  },
  {
   "cell_type": "code",
   "execution_count": null,
   "id": "2d555df6",
   "metadata": {},
   "outputs": [],
   "source": []
  },
  {
   "cell_type": "markdown",
   "id": "27876ad5",
   "metadata": {},
   "source": [
    "# Other Tasks if you'd like to practice more:\n",
    "\n",
    "Your turn! What data relationships could you visualise and what type of chart would you use? Here are a few ideas:\n",
    "\n",
    "- Did Age play any role in survivial rates?\n",
    "- Display the proportions of passengers in each class\n",
    "- Visualise the distribution of fares for each TicketClass\n",
    "- ... etc.\n"
   ]
  },
  {
   "cell_type": "code",
   "execution_count": null,
   "id": "e66b7ecf",
   "metadata": {},
   "outputs": [],
   "source": []
  },
  {
   "cell_type": "markdown",
   "id": "495794a9",
   "metadata": {},
   "source": [
    "**Note on usage of Gender and Sex in datsets: read up on this after the lab**\n",
    "\n",
    "*In all modern datasets Gender is represented as a much more complex datastructure than just True/False binary (this was common in early days of databases, where gender was a True/False value 'is_male'). Later it was a category (with 2 or 3 choices eg. 'male', 'female', 'prefer_not_to_say'). \n",
    "\n",
    "Luckilly, to reflect beauty of human experience there are some very interesting research projects on how to design inclusive forms and datsets. This Scottish Government project involved data scientists and people with various experiences of gender. Do some reading on the subject https://www.gov.scot/publications/reviewing-design-methods-make-more-sensitive-gender/pages/1/ and notice it does not provide 'one answer fits all' but rather encourages empathy and curiouslity on a project-by-project basis. Also form designers together with LGBTQI+ organisations are constanly advancing this field https://uxdesign.cc/designing-forms-for-gender-diversity-and-inclusion-d8194cf1f51  "
   ]
  },
  {
   "cell_type": "markdown",
   "id": "e2a7cfcf",
   "metadata": {},
   "source": []
  }
 ],
 "metadata": {
  "kernelspec": {
   "display_name": "base",
   "language": "python",
   "name": "python3"
  },
  "language_info": {
   "codemirror_mode": {
    "name": "ipython",
    "version": 3
   },
   "file_extension": ".py",
   "mimetype": "text/x-python",
   "name": "python",
   "nbconvert_exporter": "python",
   "pygments_lexer": "ipython3",
   "version": "3.12.4"
  }
 },
 "nbformat": 4,
 "nbformat_minor": 5
}
